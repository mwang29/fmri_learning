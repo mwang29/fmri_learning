{
 "cells": [
  {
   "cell_type": "code",
   "execution_count": null,
   "metadata": {},
   "outputs": [],
   "source": [
    "import h5py\n",
    "import numpy as np\n",
    "from scipy.io import loadmat\n",
    "import matplotlib.pyplot as plt\n",
    "filepath = 'data/pca_data_N400T8.mat'\n",
    "\n",
    "variables = {}\n",
    "f = h5py.File(filepath)\n",
    "for k, v in f.items():\n",
    "    variables[k] = np.array(v)\n",
    "    \n",
    "COEFFS = variables['COEFFS']\n",
    "SCORES = variables['SCORES']\n",
    "FCmeans = loadmat('data/means.mat')['means']\n",
    "\n",
    "del variables"
   ]
  },
  {
   "cell_type": "code",
   "execution_count": null,
   "metadata": {},
   "outputs": [],
   "source": [
    "num_comps = 80 # Choose number of components to include"
   ]
  },
  {
   "cell_type": "code",
   "execution_count": null,
   "metadata": {},
   "outputs": [],
   "source": [
    "SCORES_temp, COEFFS_temp = SCORES, COEFFS\n",
    "SCORES_temp[num_comps:], COEFFS_temp[num_comps:] = 0, 0"
   ]
  },
  {
   "cell_type": "code",
   "execution_count": null,
   "metadata": {},
   "outputs": [],
   "source": [
    "orig_mat = COEFFS.dot(SCORES) # use all PCA components to reconstruct matrix\n",
    "orig_mat += FCmeans.transpose() # plug mean back in \n",
    "orig_mat.shape #400 subjects, 8 subjects, test, retest. order: 3200/3200 test retest, 400 subject split, 8 tasks within subject"
   ]
  },
  {
   "cell_type": "code",
   "execution_count": null,
   "metadata": {},
   "outputs": [],
   "source": [
    "num_tasks = 8\n",
    "num_subjects = int(orig_mat.shape[0] / (2 * num_tasks))\n",
    "num_fcs = orig_mat.shape[0]"
   ]
  },
  {
   "cell_type": "code",
   "execution_count": null,
   "metadata": {},
   "outputs": [],
   "source": [
    "subj_vec = np.repeat(np.arange(1,401),2*num_tasks)\n",
    "task_vec = ['Rest', 'WM', 'Emotional', 'Motor', 'Relational', 'Gambling', 'Empty', 'Filler']\n",
    "labels = np.array(2*num_subjects*task_vec)"
   ]
  },
  {
   "cell_type": "markdown",
   "metadata": {},
   "source": [
    "## Machine Learning Models"
   ]
  },
  {
   "cell_type": "code",
   "execution_count": null,
   "metadata": {},
   "outputs": [],
   "source": []
  }
 ],
 "metadata": {
  "kernelspec": {
   "display_name": "Python 3",
   "language": "python",
   "name": "python3"
  },
  "language_info": {
   "codemirror_mode": {
    "name": "ipython",
    "version": 3
   },
   "file_extension": ".py",
   "mimetype": "text/x-python",
   "name": "python",
   "nbconvert_exporter": "python",
   "pygments_lexer": "ipython3",
   "version": "3.7.6"
  }
 },
 "nbformat": 4,
 "nbformat_minor": 4
}
