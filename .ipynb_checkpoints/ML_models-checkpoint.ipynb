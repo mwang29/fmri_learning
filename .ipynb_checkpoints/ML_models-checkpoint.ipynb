{
 "cells": [
  {
   "cell_type": "markdown",
   "metadata": {},
   "source": [
    "# Predicting Tasks from Functional Connectomes with Machine Learning "
   ]
  },
  {
   "cell_type": "markdown",
   "metadata": {},
   "source": [
    "### Import packages and data"
   ]
  },
  {
   "cell_type": "code",
   "execution_count": 1,
   "metadata": {},
   "outputs": [],
   "source": [
    "import h5py\n",
    "import numpy as np\n",
    "from scipy.io import loadmat\n",
    "import matplotlib.pyplot as plt\n",
    "filepath = 'data/pca_data_N400T8.mat'\n",
    "\n",
    "variables = {}\n",
    "with h5py.File(filepath, 'r') as f:\n",
    "    for k, v in f.items():\n",
    "        variables[k] = np.array(v)\n",
    "    \n",
    "COEFFS = variables['COEFFS']\n",
    "SCORES = variables['SCORES']\n",
    "FCmeans = loadmat('data/means.mat')['means']\n",
    "\n",
    "del variables"
   ]
  },
  {
   "cell_type": "markdown",
   "metadata": {},
   "source": [
    "### Reconstruct matrix with PCA"
   ]
  },
  {
   "cell_type": "code",
   "execution_count": 26,
   "metadata": {},
   "outputs": [],
   "source": [
    "num_comps = [0, 1000, 1800, 2400, 2800, 3000, 3100, 3150, 3200, 3250, 3300, 3400, 3600, 4000, 4600, 5400, 6400] # Choose number of components to include\n",
    "SCORES_temp, COEFFS_temp = SCORES, COEFFS\n",
    "SCORES_temp[num_comps[8]:,:], COEFFS_temp[num_comps[8]:,:] = 0, 0"
   ]
  },
  {
   "cell_type": "code",
   "execution_count": 27,
   "metadata": {},
   "outputs": [
    {
     "data": {
      "text/plain": [
       "(6400, 69751)"
      ]
     },
     "execution_count": 27,
     "metadata": {},
     "output_type": "execute_result"
    }
   ],
   "source": [
    "orig_mat = COEFFS_temp.dot(SCORES_temp) # use all selected components to reconstruct matrix\n",
    "orig_mat += FCmeans.transpose() # plug mean back in \n",
    "orig_mat.shape #400 subjects, 8 subjects, test, retest. order: 3200/3200 test retest, 400 subject split, 8 tasks within subject"
   ]
  },
  {
   "cell_type": "code",
   "execution_count": 77,
   "metadata": {},
   "outputs": [],
   "source": [
    "flag = 1 # 0 = REST/TASK, 1 = REST/MOTOR/RELATIONAL/WM\n",
    "num_subjects = 400\n",
    "rest_ind = np.arange(0, 6400, 8)\n",
    "if flag == 0:\n",
    "    task_ind = np.random.randint(1,7, size=len(rest_ind))\n",
    "    indices = np.zeros(rest_ind.shape[0] + task_ind.shape[0], dtype=rest_ind.dtype)\n",
    "    indices = np.zeros(rest_ind.shape[0] + task_ind.shape[0], dtype=rest_ind.dtype)\n",
    "    indices[::2] = rest_ind\n",
    "    indices[1::2] = rest_ind+task_ind\n",
    "    task_vec = ['Rest', 'Task']\n",
    "elif flag == 1:\n",
    "    motor_ind = np.arange(4, 6400, 8)\n",
    "    relational_ind = np.arange(5, 6400, 8)\n",
    "    wm_ind = np.arange(7, 6400, 8)\n",
    "    indices = np.zeros(rest_ind.shape[0] + 3*task_ind.shape[0], dtype=rest_ind.dtype)\n",
    "    indices[::4] = rest_ind\n",
    "    indices[1::4] = motor_ind\n",
    "    indices[2::4] = relational_ind\n",
    "    indices[3::4] = wm_ind\n",
    "    task_vec = ['Rest', 'Motor', 'Relational', 'WM']"
   ]
  },
  {
   "cell_type": "code",
   "execution_count": 78,
   "metadata": {},
   "outputs": [],
   "source": [
    "rest_task_mat = orig_mat[indices,:]\n",
    "labels = np.array(2*num_subjects*task_vec)"
   ]
  },
  {
   "cell_type": "markdown",
   "metadata": {},
   "source": [
    "## Machine Learning Models"
   ]
  },
  {
   "cell_type": "code",
   "execution_count": 79,
   "metadata": {},
   "outputs": [],
   "source": [
    "from sklearn import svm\n",
    "from sklearn.metrics import accuracy_score\n",
    "from sklearn.decomposition import PCA\n",
    "from sklearn.preprocessing import StandardScaler"
   ]
  },
  {
   "cell_type": "code",
   "execution_count": 80,
   "metadata": {},
   "outputs": [],
   "source": [
    "indices = np.random.permutation(rest_task_mat.shape[0])\n",
    "train_idx = indices[:int(0.6*rest_task_mat.shape[0])]\n",
    "val_idx = indices[int(0.6*rest_task_mat.shape[0]):int(0.8*rest_task_mat.shape[0])]\n",
    "test_idx = indices[int(0.8*rest_task_mat.shape[0]):]"
   ]
  },
  {
   "cell_type": "markdown",
   "metadata": {},
   "source": [
    "### Standardize, PCA for dimensionality reduction"
   ]
  },
  {
   "cell_type": "code",
   "execution_count": 81,
   "metadata": {},
   "outputs": [],
   "source": [
    "task_mat = StandardScaler().fit_transform(rest_task_mat)\n",
    "pca = PCA()\n",
    "rest_task_mat_pca = pca.fit_transform(rest_task_mat)"
   ]
  },
  {
   "cell_type": "code",
   "execution_count": 82,
   "metadata": {},
   "outputs": [],
   "source": [
    "train_data = rest_task_mat_pca[train_idx,:]\n",
    "val_data = rest_task_mat_pca[val_idx,:]\n",
    "test_data = rest_task_mat_pca[test_idx,:]"
   ]
  },
  {
   "cell_type": "markdown",
   "metadata": {},
   "source": [
    "## Support Vector Machine"
   ]
  },
  {
   "cell_type": "code",
   "execution_count": 83,
   "metadata": {},
   "outputs": [
    {
     "data": {
      "text/plain": [
       "SVC(C=1.0, break_ties=False, cache_size=200, class_weight=None, coef0=0.0,\n",
       "    decision_function_shape='ovr', degree=3, gamma='scale', kernel='rbf',\n",
       "    max_iter=-1, probability=False, random_state=None, shrinking=True,\n",
       "    tol=0.001, verbose=False)"
      ]
     },
     "execution_count": 83,
     "metadata": {},
     "output_type": "execute_result"
    }
   ],
   "source": [
    "clf = svm.SVC()\n",
    "clf.fit(train_data, labels[train_idx])"
   ]
  },
  {
   "cell_type": "code",
   "execution_count": 84,
   "metadata": {},
   "outputs": [],
   "source": [
    "val_pred = clf.predict(val_data)\n",
    "val_acc = accuracy_score(val_pred, labels[val_idx])"
   ]
  },
  {
   "cell_type": "code",
   "execution_count": 85,
   "metadata": {},
   "outputs": [
    {
     "data": {
      "text/plain": [
       "0.259375"
      ]
     },
     "execution_count": 85,
     "metadata": {},
     "output_type": "execute_result"
    }
   ],
   "source": [
    "val_acc"
   ]
  },
  {
   "cell_type": "code",
   "execution_count": 86,
   "metadata": {},
   "outputs": [],
   "source": [
    "test_pred = clf.predict(test_data)\n",
    "test_acc = accuracy_score(test_pred, labels[test_idx])"
   ]
  },
  {
   "cell_type": "code",
   "execution_count": 87,
   "metadata": {},
   "outputs": [
    {
     "data": {
      "text/plain": [
       "0.2578125"
      ]
     },
     "execution_count": 87,
     "metadata": {},
     "output_type": "execute_result"
    }
   ],
   "source": [
    "test_acc"
   ]
  },
  {
   "cell_type": "code",
   "execution_count": 89,
   "metadata": {},
   "outputs": [
    {
     "data": {
      "text/plain": [
       "array(['WM', 'Motor', 'Motor', 'Rest', 'WM', 'Rest', 'Relational',\n",
       "       'Relational', 'WM', 'Motor', 'Relational', 'Relational',\n",
       "       'Relational', 'Rest', 'Rest', 'Motor', 'Relational', 'WM', 'WM',\n",
       "       'Rest', 'WM', 'Relational', 'Relational', 'Rest', 'WM', 'Motor',\n",
       "       'Relational', 'Rest', 'Relational', 'Rest', 'Relational', 'Rest',\n",
       "       'WM', 'Rest', 'Motor', 'Rest', 'Motor', 'Motor', 'Relational',\n",
       "       'Motor', 'WM', 'Rest', 'Motor', 'Rest', 'Relational', 'Motor',\n",
       "       'WM', 'WM', 'Rest', 'WM', 'Relational', 'Rest', 'Rest',\n",
       "       'Relational', 'Rest', 'WM', 'Relational', 'WM', 'WM', 'WM',\n",
       "       'Relational', 'Motor', 'Relational', 'Relational', 'Rest', 'WM',\n",
       "       'WM', 'Rest', 'Motor', 'Rest', 'WM', 'Rest', 'WM', 'Motor',\n",
       "       'Motor', 'Rest', 'Rest', 'Rest', 'Rest', 'Relational', 'WM', 'WM',\n",
       "       'WM', 'Motor', 'Relational', 'WM', 'WM', 'Relational', 'Motor',\n",
       "       'Relational', 'WM', 'Relational', 'WM', 'Rest', 'Motor', 'WM',\n",
       "       'Relational', 'Rest', 'Motor', 'Rest', 'Relational', 'Relational',\n",
       "       'WM', 'Relational', 'Rest', 'Relational', 'Relational', 'Rest',\n",
       "       'Relational', 'Motor', 'WM', 'Relational', 'Relational', 'Rest',\n",
       "       'WM', 'Rest', 'Relational', 'Relational', 'Rest', 'WM', 'Rest',\n",
       "       'Relational', 'Rest', 'Rest', 'Rest', 'Motor', 'WM', 'Rest',\n",
       "       'Rest', 'Relational', 'Rest', 'WM', 'Relational', 'Relational',\n",
       "       'Relational', 'Rest', 'Motor', 'Rest', 'Relational', 'Relational',\n",
       "       'Relational', 'Relational', 'WM', 'Motor', 'Relational', 'Motor',\n",
       "       'Rest', 'Rest', 'WM', 'WM', 'Relational', 'Motor', 'Rest', 'Motor',\n",
       "       'Rest', 'WM', 'Relational', 'WM', 'Relational', 'Motor',\n",
       "       'Relational', 'WM', 'Relational', 'Rest', 'Rest', 'Relational',\n",
       "       'Relational', 'Motor', 'WM', 'Relational', 'Relational', 'Rest',\n",
       "       'WM', 'Rest', 'Rest', 'Relational', 'Rest', 'Rest', 'WM', 'WM',\n",
       "       'Motor', 'Relational', 'WM', 'Motor', 'Motor', 'WM', 'WM',\n",
       "       'Relational', 'Relational', 'WM', 'Relational', 'WM', 'Motor',\n",
       "       'Rest', 'WM', 'Motor', 'Relational', 'WM', 'Relational', 'Rest',\n",
       "       'Motor', 'WM', 'WM', 'WM', 'WM', 'Rest', 'Relational',\n",
       "       'Relational', 'Rest', 'WM', 'WM', 'WM', 'WM', 'Motor', 'Rest',\n",
       "       'Relational', 'WM', 'Rest', 'Rest', 'Rest', 'WM', 'Rest', 'Motor',\n",
       "       'Rest', 'Relational', 'Rest', 'Rest', 'WM', 'Rest', 'Relational',\n",
       "       'Relational', 'Relational', 'Relational', 'Rest', 'Motor',\n",
       "       'Relational', 'Motor', 'Relational', 'Relational', 'Rest',\n",
       "       'Relational', 'Relational', 'Rest', 'Relational', 'Relational',\n",
       "       'WM', 'WM', 'WM', 'Relational', 'Rest', 'Relational', 'Motor',\n",
       "       'WM', 'Relational', 'WM', 'WM', 'Motor', 'Relational', 'Motor',\n",
       "       'Relational', 'Rest', 'Motor', 'Motor', 'Rest', 'Rest', 'Motor',\n",
       "       'WM', 'Rest', 'Relational', 'Relational', 'Rest', 'Rest', 'Rest',\n",
       "       'Relational', 'Motor', 'Motor', 'WM', 'Relational', 'Rest', 'WM',\n",
       "       'Relational', 'Rest', 'Motor', 'Relational', 'WM', 'Relational',\n",
       "       'Relational', 'Relational', 'WM', 'Relational', 'Rest', 'Motor',\n",
       "       'Relational', 'WM', 'Motor', 'WM', 'WM', 'Motor', 'Rest', 'Rest',\n",
       "       'WM', 'Motor', 'WM', 'Motor', 'WM', 'Motor', 'Motor', 'Motor',\n",
       "       'Relational', 'Rest', 'WM', 'Rest', 'Motor', 'Relational', 'WM',\n",
       "       'Rest', 'Rest', 'WM', 'Rest', 'Rest', 'Rest', 'WM', 'Motor',\n",
       "       'Motor', 'Rest', 'Relational', 'WM', 'Relational', 'Rest', 'Motor',\n",
       "       'WM', 'Rest', 'WM', 'Rest', 'Rest', 'WM', 'WM', 'Motor', 'Motor',\n",
       "       'Rest', 'Relational', 'WM', 'WM', 'WM', 'WM', 'Motor', 'Rest',\n",
       "       'WM', 'WM', 'Motor', 'Rest', 'Relational', 'Relational', 'Motor',\n",
       "       'Rest', 'Motor', 'WM', 'Motor', 'Relational', 'Motor',\n",
       "       'Relational', 'Rest', 'Relational', 'Rest', 'Relational',\n",
       "       'Relational', 'Relational', 'Relational', 'Rest', 'Relational',\n",
       "       'Rest', 'Relational', 'Rest', 'Relational', 'Motor', 'Motor',\n",
       "       'Rest', 'Rest', 'Relational', 'WM', 'Rest', 'Motor', 'Relational',\n",
       "       'Rest', 'Relational', 'Motor', 'Motor', 'Relational', 'Motor',\n",
       "       'WM', 'Rest', 'Motor', 'WM', 'Motor', 'WM', 'Motor', 'Motor',\n",
       "       'Motor', 'Motor', 'Relational', 'Motor', 'Rest', 'Relational',\n",
       "       'WM', 'Motor', 'WM', 'WM', 'Rest', 'Rest', 'WM', 'WM', 'Motor',\n",
       "       'Motor', 'Motor', 'WM', 'Motor', 'WM', 'Relational', 'Motor', 'WM',\n",
       "       'WM', 'WM', 'Relational', 'Motor', 'WM', 'Relational', 'WM', 'WM',\n",
       "       'WM', 'Relational', 'Relational', 'Motor', 'Rest', 'Motor',\n",
       "       'Motor', 'WM', 'Motor', 'WM', 'Rest', 'Motor', 'WM', 'Rest',\n",
       "       'Rest', 'Rest', 'Motor', 'Relational', 'WM', 'Relational',\n",
       "       'Relational', 'Motor', 'Motor', 'Rest', 'Rest', 'Rest', 'Rest',\n",
       "       'Relational', 'Relational', 'Rest', 'WM', 'Motor', 'Relational',\n",
       "       'Rest', 'Rest', 'Motor', 'Relational', 'Rest', 'Rest', 'Motor',\n",
       "       'Motor', 'Motor', 'Rest', 'Rest', 'Relational', 'Rest', 'Motor',\n",
       "       'Rest', 'Relational', 'Rest', 'WM', 'Relational', 'Motor', 'Rest',\n",
       "       'Motor', 'Rest', 'Relational', 'Motor', 'Relational', 'Relational',\n",
       "       'WM', 'Motor', 'WM', 'Rest', 'Relational', 'Relational', 'Motor',\n",
       "       'Rest', 'Motor', 'Motor', 'Rest', 'Relational', 'WM', 'Rest',\n",
       "       'Relational', 'WM', 'Relational', 'Relational', 'Rest', 'Motor',\n",
       "       'Motor', 'Motor', 'WM', 'Relational', 'WM', 'WM', 'WM', 'Rest',\n",
       "       'Rest', 'Motor', 'WM', 'Rest', 'WM', 'Rest', 'Relational',\n",
       "       'Relational', 'Motor', 'Motor', 'WM', 'Motor', 'Motor', 'WM',\n",
       "       'Relational', 'Rest', 'Rest', 'Motor', 'WM', 'Rest', 'WM', 'Motor',\n",
       "       'Relational', 'Relational', 'Motor', 'Relational', 'Rest',\n",
       "       'Relational', 'Rest', 'Relational', 'Motor', 'Rest', 'Rest',\n",
       "       'Rest', 'Relational', 'Relational', 'Rest', 'WM', 'WM', 'Motor',\n",
       "       'Motor', 'WM', 'WM', 'Motor', 'Relational', 'Relational',\n",
       "       'Relational', 'Relational', 'Relational', 'Rest', 'Motor', 'Motor',\n",
       "       'Rest', 'Rest', 'Relational', 'Rest', 'Rest', 'Relational', 'Rest',\n",
       "       'WM', 'Relational', 'Motor', 'Relational', 'Motor', 'WM', 'Rest',\n",
       "       'WM', 'Motor', 'WM', 'Relational', 'Motor', 'Rest', 'Rest',\n",
       "       'Relational', 'Motor', 'Rest', 'Motor', 'WM', 'WM', 'Motor',\n",
       "       'Motor', 'WM', 'WM', 'WM', 'Rest', 'WM', 'Rest', 'Rest', 'Rest',\n",
       "       'Relational', 'Motor', 'Relational', 'Relational', 'WM', 'WM',\n",
       "       'WM', 'Motor', 'Motor', 'WM', 'WM', 'Motor', 'Rest', 'WM', 'WM',\n",
       "       'WM', 'Relational', 'Relational', 'WM', 'WM', 'Relational',\n",
       "       'Motor', 'Motor', 'Rest', 'Relational', 'WM', 'Motor', 'Rest',\n",
       "       'Rest', 'WM', 'Motor', 'WM', 'Motor', 'Rest', 'Rest'], dtype='<U10')"
      ]
     },
     "execution_count": 89,
     "metadata": {},
     "output_type": "execute_result"
    }
   ],
   "source": []
  },
  {
   "cell_type": "code",
   "execution_count": null,
   "metadata": {},
   "outputs": [],
   "source": []
  }
 ],
 "metadata": {
  "@webio": {
   "lastCommId": null,
   "lastKernelId": null
  },
  "kernelspec": {
   "display_name": "Python 3",
   "language": "python",
   "name": "python3"
  },
  "language_info": {
   "codemirror_mode": {
    "name": "ipython",
    "version": 3
   },
   "file_extension": ".py",
   "mimetype": "text/x-python",
   "name": "python",
   "nbconvert_exporter": "python",
   "pygments_lexer": "ipython3",
   "version": "3.7.6"
  }
 },
 "nbformat": 4,
 "nbformat_minor": 4
}
