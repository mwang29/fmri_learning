{
 "cells": [
  {
   "cell_type": "code",
   "execution_count": 1,
   "metadata": {},
   "outputs": [
    {
     "data": {
      "text/plain": [
       "{'divide': 'warn', 'over': 'warn', 'under': 'ignore', 'invalid': 'warn'}"
      ]
     },
     "execution_count": 1,
     "metadata": {},
     "output_type": "execute_result"
    }
   ],
   "source": [
    "import numpy as np\n",
    "import h5py\n",
    "import pickle\n",
    "import scipy\n",
    "import scipy.io as sio\n",
    "from pyriemann.utils.mean import mean_covariance\n",
    "import sklearn.datasets\n",
    "import sklearn.decomposition\n",
    "from scipy.spatial import distance\n",
    "\n",
    "np.seterr(divide='ignore', invalid='ignore')"
   ]
  },
  {
   "cell_type": "code",
   "execution_count": 2,
   "metadata": {},
   "outputs": [],
   "source": [
    "def get_data():\n",
    "    '''\n",
    "    Extracts FCs for each parcellation and stores into a dictionary of dictionaries\n",
    "    '''\n",
    "    all_parc = {}\n",
    "    # Yeo ordering\n",
    "    for p in np.arange(100,600,100):\n",
    "        temp_parc = {}\n",
    "        filename = f'../data/FC_all_vec_424_schaefer_subc_{p}.mat'\n",
    "        f = h5py.File(filename, 'r')\n",
    "        for k, v in f.items():\n",
    "            temp_parc[k] = np.array(v)\n",
    "        all_parc[p] = temp_parc\n",
    "    return all_parc\n",
    "\n",
    "\n",
    "def q1invm(q1, eig_thresh=0):\n",
    "    U, S, V = scipy.linalg.svd(q1)\n",
    "    s = np.diag(S)\n",
    "    s[s < eig_thresh] = eig_thresh\n",
    "    S = np.diag(s ** (-1 / 2))\n",
    "    Q1_inv_sqrt = U * S * np.transpose(V)\n",
    "    Q1_inv_sqrt = (Q1_inv_sqrt + np.transpose(Q1_inv_sqrt)) / 2\n",
    "    return Q1_inv_sqrt\n",
    "\n",
    "\n",
    "def qlog(q):\n",
    "    U, S, V = scipy.linalg.svd(q)\n",
    "    s = np.diag(S)\n",
    "    S = np.diag(np.log(s))\n",
    "    Q = U * S * np.transpose(V)\n",
    "    return Q\n",
    "\n",
    "\n",
    "def tangential(all_FC, ref):\n",
    "    # Regularization for riemann\n",
    "    if ref in ['riemann', 'kullback_sym', 'logeuclid']:\n",
    "        print(\"Adding regularization!\")\n",
    "        eye_mat = np.eye(all_FC.shape[1])\n",
    "        scaling_mat = np.repeat(eye_mat[None, ...], all_FC.shape[0], axis=0)\n",
    "        all_FC += scaling_mat\n",
    "    Cg = mean_covariance(all_FC, metric=ref)\n",
    "    Q1_inv_sqrt = q1invm(Cg)\n",
    "    Q = Q1_inv_sqrt @ all_FC @ Q1_inv_sqrt\n",
    "    tangent_FC = np.array([qlog(a) for a in Q])\n",
    "    return tangent_FC\n",
    "\n",
    "\n",
    "def pca_recon(FC, pctComp=None):\n",
    "    '''\n",
    "    Reconstructs FC based on number of principle components\n",
    "    '''\n",
    "    if pctComp is None:\n",
    "        return FC\n",
    "    FC = np.reshape(FC, (FC.shape[0], -1))\n",
    "    nComp = int(FC.shape[0] * pctComp)\n",
    "    mu = np.mean(FC, axis=0)\n",
    "    pca_rest = sklearn.decomposition.PCA()\n",
    "    pca_rest.fit(FC)\n",
    "    SCORES = pca_rest.transform(FC)[:, :nComp]\n",
    "    COEFFS = pca_rest.components_[:nComp, :]\n",
    "    FC_recon = np.dot(SCORES, COEFFS)\n",
    "    del SCORES, COEFFS\n",
    "    FC_recon += mu\n",
    "    FC_recon = np.reshape(FC_recon, (FC.shape[0], 374, 374))\n",
    "    return FC_recon\n",
    "\n",
    "def utri2mat(utri):\n",
    "    n = int(-1 + np.sqrt(1 + 8*len(utri))) // 2\n",
    "    iu1 = np.triu_indices(n)\n",
    "    ret = np.empty((n, n))\n",
    "    ret[iu1] = utri\n",
    "    ret.T[iu1] = utri\n",
    "    return ret\n",
    "   "
   ]
  },
  {
   "cell_type": "code",
   "execution_count": null,
   "metadata": {},
   "outputs": [],
   "source": [
    "with open('../data/schaefer.pickle', 'wb') as f:\n",
    "    pickle.dump(all_parc, f, protocol=4)"
   ]
  },
  {
   "cell_type": "code",
   "execution_count": 3,
   "metadata": {},
   "outputs": [],
   "source": [
    "with open('../data/schaefer.pickle', 'rb') as f:\n",
    "    all_parc = pickle.load(f)"
   ]
  },
  {
   "cell_type": "code",
   "execution_count": 4,
   "metadata": {},
   "outputs": [],
   "source": [
    "nSubj = int(all_parc[100]['FC_all_vec'].shape[0]/16)\n",
    "nFCs = int(all_parc[100]['FC_all_vec'].shape[0])\n",
    "classifier = 'task'\n",
    "if classifier == 'task':\n",
    "    labels = np.tile(np.repeat(np.arange(0, 8), nSubj), 2)\n",
    "    indices = np.random.permutation(nSubj)\n",
    "    train_idx = indices[:int(0.80 * nSubj)]\n",
    "    test_idx = indices[int(0.8 * nSubj):]\n",
    "    train_idx_all, test_idx_all = np.empty(0, dtype=int), np.empty(0, dtype=int)\n",
    "    for fc in np.arange(0, 16):\n",
    "        train_idx_all = np.concatenate((train_idx_all, (fc * nSubj) + train_idx)).astype(int)\n",
    "        test_idx_all = np.concatenate((test_idx_all, (fc * nSubj) + test_idx)).astype(int)\n",
    "    train_idx = train_idx_all\n",
    "    test_idx = test_idx_all\n",
    "elif classifier == 'subject':\n",
    "    labels = np.tile(np.tile(np.arange(0,nSubj),8),2)\n",
    "    indices = np.random.permutation(all_parc[100]['FC_all_vec'].shape[0])\n",
    "    train_idx = indices[:int(0.80 * all_parc[100]['FC_all_vec'].shape[0])]\n",
    "    test_idx = indices[int(0.80 * all_parc[100]['FC_all_vec'].shape[0]):]\n",
    "else:\n",
    "    pass\n",
    "\n",
    "train_labels = labels[train_idx]\n",
    "test_labels = labels[test_idx]"
   ]
  },
  {
   "cell_type": "code",
   "execution_count": 5,
   "metadata": {},
   "outputs": [],
   "source": [
    "accuracies = {}"
   ]
  },
  {
   "cell_type": "code",
   "execution_count": 13,
   "metadata": {},
   "outputs": [
    {
     "name": "stdout",
     "output_type": "stream",
     "text": [
      "Using Schaefer 100 parcellation...\n",
      "Testing euclid...\n",
      "0.1323529411764706\n",
      "Testing none...\n",
      "0.7801470588235294\n"
     ]
    }
   ],
   "source": [
    "from sklearn.neighbors import KNeighborsClassifier\n",
    "from sklearn.metrics import accuracy_score\n",
    "\n",
    "for parc in np.arange(100, 200, 100):\n",
    "    # Reorder the indices to subject, task, test/retest\n",
    "    print(f'Using Schaefer {parc} parcellation...')\n",
    "    with open(f'../data/schaefer{parc}_unrelated.pickle', 'rb') as f:\n",
    "        all_FC = pickle.load(f)\n",
    "    print(all_FC.shape)\n",
    "    nSubj = int(all_FC.shape[0]/16)\n",
    "    nFCs = int(all_FC.shape[0])\n",
    "    #all_FC = pca_recon(all_FC, 0.01)\\\n",
    "    for ref in ['euclid', 'none']:\n",
    "        # Do optional transformations\n",
    "        if ref != 'none':\n",
    "            all_FC = tangential(all_FC, ref)\n",
    "        else:\n",
    "            pass\n",
    "        # Convert back into flattened utriu vectors\n",
    "        vec_FCs = np.zeros((nFCs,reordered_FCs.shape[1]), dtype=np.float32)\n",
    "        for idx, mat in enumerate(all_FC):\n",
    "            vec_FCs[idx] = mat[np.triu_indices(mat.shape[0], k=0)]\n",
    "        # Split into train and test sets\n",
    "        train_FCs = vec_FCs[train_idx]\n",
    "        test_FCs = vec_FCs[test_idx]\n",
    "        # KNN Classifier\n",
    "        print(f'Testing {ref}...')\n",
    "        neigh = KNeighborsClassifier(n_neighbors=30, metric='correlation')\n",
    "        neigh.fit(train_FCs, train_labels)\n",
    "        predicted = neigh.predict(test_FCs)\n",
    "        acc = accuracy_score(test_labels, predicted)\n",
    "        print(acc)\n",
    "        accuracies[f\"{ref}_{parc}\"] = acc"
   ]
  },
  {
   "cell_type": "code",
   "execution_count": 12,
   "metadata": {},
   "outputs": [
    {
     "data": {
      "text/plain": [
       "array([ 0.05134352,  0.14558534,  0.7276299 , ...,  0.03149177,\n",
       "        0.00773877, -0.1323879 ], dtype=float32)"
      ]
     },
     "execution_count": 12,
     "metadata": {},
     "output_type": "execute_result"
    }
   ],
   "source": [
    "train_FCs[0]"
   ]
  },
  {
   "cell_type": "code",
   "execution_count": null,
   "metadata": {},
   "outputs": [],
   "source": [
    "import csv\n",
    "\n",
    "a_file = open(f\"../results/schaefer_{parc}_{classifier}.csv\", \"w\")\n",
    "\n",
    "writer = csv.writer(a_file)\n",
    "for key, value in accuracies.items():\n",
    "    writer.writerow([key, value])\n",
    "    \n",
    "a_file.close()"
   ]
  },
  {
   "cell_type": "markdown",
   "metadata": {},
   "source": [
    "### KNN Approach"
   ]
  },
  {
   "cell_type": "code",
   "execution_count": null,
   "metadata": {},
   "outputs": [],
   "source": [
    "from sklearn.neighbors import KNeighborsClassifier\n",
    "from sklearn.metrics import accuracy_score\n",
    "accuracies = {}\n",
    "for ref in ['euclid', 'harmonic', 'logeuclid', 'kullback_sym', 'riemann', 'none']:\n",
    "    all_FC, nSubj = get_data()\n",
    "    if ref != 'none':\n",
    "        all_FC = tangential(all_FC, ref)\n",
    "    train_FCs = np.zeros((len(train_idx),70125), dtype=np.float32)\n",
    "    for idx, mat in enumerate(all_FC[train_idx]):\n",
    "        train_FCs[idx] = mat[np.triu_indices(mat.shape[0], k=0)]\n",
    "    test_FCs = np.zeros((len(test_idx),70125), dtype=np.float32)\n",
    "    for idx, mat in enumerate(all_FC[test_idx]):\n",
    "        test_FCs[idx] = mat[np.triu_indices(mat.shape[0], k=0)]\n",
    "        \n",
    "    for distance_method in ['correlation', 'cosine', 'euclidean']:\n",
    "        print(f'Testing {ref} reference with {distance_method} distance...')\n",
    "        neigh = KNeighborsClassifier(n_neighbors=30, metric=distance_method)\n",
    "        neigh.fit(train_FCs, train_labels)\n",
    "        predicted = neigh.predict(test_FCs)\n",
    "        acc = accuracy_score(test_labels, predicted)\n",
    "        print(acc)\n",
    "        accuracies[ref+\"_\"+distance_method] = acc"
   ]
  },
  {
   "cell_type": "code",
   "execution_count": null,
   "metadata": {},
   "outputs": [],
   "source": [
    "import csv\n",
    "a_file = open(f\"../results/knn_distances_{classifier}.csv\", \"w\")\n",
    "\n",
    "writer = csv.writer(a_file)\n",
    "for key, value in accuracies.items():\n",
    "    writer.writerow([key, value])\n",
    "    \n",
    "a_file.close()"
   ]
  },
  {
   "cell_type": "code",
   "execution_count": null,
   "metadata": {},
   "outputs": [],
   "source": []
  }
 ],
 "metadata": {
  "@webio": {
   "lastCommId": null,
   "lastKernelId": null
  },
  "kernelspec": {
   "display_name": "Python 3",
   "language": "python",
   "name": "python3"
  },
  "language_info": {
   "codemirror_mode": {
    "name": "ipython",
    "version": 3
   },
   "file_extension": ".py",
   "mimetype": "text/x-python",
   "name": "python",
   "nbconvert_exporter": "python",
   "pygments_lexer": "ipython3",
   "version": "3.7.6"
  }
 },
 "nbformat": 4,
 "nbformat_minor": 4
}
