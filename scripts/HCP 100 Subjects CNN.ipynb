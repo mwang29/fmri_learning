{
 "cells": [
  {
   "cell_type": "code",
   "execution_count": 1,
   "metadata": {},
   "outputs": [],
   "source": [
    "import numpy as np\n",
    "import scipy.io as sio\n",
    "import matplotlib.pyplot as plt\n",
    "import sklearn.decomposition\n",
    "\n",
    "\n",
    "fname = '../data/100_unrelated.csv'\n",
    "subjectids = np.loadtxt(fname, dtype=np.int)\n",
    "yeo_order = list(sio.loadmat(\"../data/yeo_RS7_N374.mat\", squeeze_me=True, struct_as_record=False)['yeoOrder']-1)\n",
    "nSubj = len(subjectids)\n",
    "tasks = ['rfMRI_REST1_LR', 'rfMRI_REST1_RL', 'rfMRI_REST2_LR',\n",
    "         'rfMRI_REST2_RL', 'tfMRI_EMOTION_LR', 'tfMRI_EMOTION_RL',\n",
    "         'tfMRI_GAMBLING_LR', 'tfMRI_GAMBLING_RL', 'tfMRI_LANGUAGE_LR',\n",
    "         'tfMRI_LANGUAGE_RL', 'tfMRI_MOTOR_LR', 'tfMRI_MOTOR_RL',\n",
    "         'tfMRI_RELATIONAL_LR', 'tfMRI_RELATIONAL_RL', 'tfMRI_SOCIAL_LR',\n",
    "         'tfMRI_SOCIAL_RL', 'tfMRI_WM_LR', 'tfMRI_WM_RL']\n",
    "\n",
    "M = {}\n",
    "for task in tasks:\n",
    "    masterFC_dir = '../data/results_SIFT2'\n",
    "    restingstatename = 'fMRI/' + task + '/FC/FC_glasser_subc_GS_bp_z.mat'\n",
    "    task_matrices = []\n",
    "    for subject in subjectids:\n",
    "        filename = masterFC_dir + '/' + str(subject) + '/' + restingstatename\n",
    "        mat = sio.loadmat(filename, squeeze_me=True, struct_as_record=False)\n",
    "        A_orig = np.array(mat['FC'])\n",
    "        # yeo ordering\n",
    "        A_orig = A_orig[np.ix_(yeo_order, yeo_order)]\n",
    "        np.fill_diagonal(A_orig, 0)\n",
    "        task_matrices.append(A_orig)\n",
    "    M[task] = np.array(task_matrices)"
   ]
  },
  {
   "cell_type": "code",
   "execution_count": 2,
   "metadata": {},
   "outputs": [],
   "source": [
    "test = np.concatenate((M['rfMRI_REST1_LR'],M['tfMRI_EMOTION_LR'], M['tfMRI_GAMBLING_LR'],\n",
    "                      M['tfMRI_LANGUAGE_LR'], M['tfMRI_MOTOR_LR'],M['tfMRI_RELATIONAL_LR'],\n",
    "                       M['tfMRI_SOCIAL_LR'],M['tfMRI_WM_LR']))\n",
    "retest = np.concatenate((M['rfMRI_REST1_RL'],M['tfMRI_EMOTION_RL'], M['tfMRI_GAMBLING_RL'],\n",
    "                      M['tfMRI_LANGUAGE_RL'], M['tfMRI_MOTOR_RL'],M['tfMRI_RELATIONAL_RL'],\n",
    "                       M['tfMRI_SOCIAL_RL'],M['tfMRI_WM_RL']))\n",
    "nTest = test.shape[0]\n",
    "del M"
   ]
  },
  {
   "cell_type": "code",
   "execution_count": 3,
   "metadata": {},
   "outputs": [],
   "source": [
    "all_FC = np.concatenate((test, retest))\n",
    "del test, retest"
   ]
  },
  {
   "cell_type": "markdown",
   "metadata": {},
   "source": [
    "## Deep Learning"
   ]
  },
  {
   "cell_type": "code",
   "execution_count": 4,
   "metadata": {},
   "outputs": [
    {
     "name": "stdout",
     "output_type": "stream",
     "text": [
      "No GPU detected. Will use CPU for training.\n"
     ]
    }
   ],
   "source": [
    "import torch\n",
    "from torch import nn, optim\n",
    "import torch.nn.functional as F\n",
    "from torch.utils import data\n",
    "from sklearn.preprocessing import StandardScaler\n",
    "\n",
    "# GPU is available? If so, we use it.\n",
    "use_cuda = torch.cuda.is_available() \n",
    "device = torch.device(\"cuda:0\" if use_cuda else \"cpu\")\n",
    "if use_cuda:\n",
    "    print(\"GPU detected. Will use GPU for training!\")\n",
    "    torch.backends.cudnn.benchmark = True\n",
    "else:\n",
    "    print(\"No GPU detected. Will use CPU for training.\")"
   ]
  },
  {
   "cell_type": "code",
   "execution_count": 5,
   "metadata": {},
   "outputs": [],
   "source": [
    "# Create labels corresponding to all_FC \n",
    "labels = torch.tensor(np.tile(np.repeat(np.arange(0,8),nSubj),2), dtype=torch.long)\n",
    "# Randomly shuffled indices for test FCs\n",
    "indices = np.random.permutation(nTest)\n",
    "# Take subsets of data for training, validation, test\n",
    "train_val_idx = indices[:int(0.8*nTest)]\n",
    "\n",
    "val_idx = train_val_idx[int(0.8*train_val_idx.shape[0]):]\n",
    "train_idx = train_val_idx[:int(0.8*train_val_idx.shape[0])]\n",
    "test_idx = indices[int(0.8*nTest):]"
   ]
  },
  {
   "cell_type": "code",
   "execution_count": 6,
   "metadata": {},
   "outputs": [],
   "source": [
    "# Match test FC with retest FC for each index\n",
    "train_idx = np.concatenate((train_idx, train_idx + nTest))\n",
    "val_idx = np.concatenate((val_idx, val_idx + nTest))\n",
    "test_idx = np.concatenate((test_idx, test_idx + nTest))"
   ]
  },
  {
   "cell_type": "code",
   "execution_count": 7,
   "metadata": {},
   "outputs": [],
   "source": [
    "train_mean = np.mean(all_FC[train_idx])\n",
    "train_std = np.std(all_FC[train_idx])\n",
    "train_data = torch.FloatTensor((all_FC[train_idx] - train_mean) / train_std)\n",
    "val_data = torch.FloatTensor((all_FC[val_idx] - train_mean) / train_std)\n",
    "test_data = torch.FloatTensor((all_FC[test_idx] - train_mean) / train_std)"
   ]
  },
  {
   "cell_type": "code",
   "execution_count": 8,
   "metadata": {},
   "outputs": [],
   "source": [
    "train_data = train_data.view(train_data.shape[0], -1, train_data.shape[1], train_data.shape[2])\n",
    "val_data = val_data.view(val_data.shape[0], -1, val_data.shape[1], val_data.shape[2])\n",
    "test_data = test_data.view(test_data.shape[0], -1, test_data.shape[1], test_data.shape[2])"
   ]
  },
  {
   "cell_type": "code",
   "execution_count": 9,
   "metadata": {},
   "outputs": [],
   "source": [
    "train_dataset = data.TensorDataset(train_data,labels[train_idx]) # create your datset\n",
    "val_dataset = data.TensorDataset(val_data,labels[val_idx]) # create your datset\n",
    "test_dataset = data.TensorDataset(test_data,labels[test_idx]) # create your datset\n",
    "\n",
    "train_loader = data.DataLoader(train_dataset, batch_size=80) # create your dataloader\n",
    "val_loader = data.DataLoader(val_dataset, batch_size=80) # create your dataloader\n",
    "test_loader = data.DataLoader(test_dataset, batch_size=80) # create your dataloader\n"
   ]
  },
  {
   "cell_type": "markdown",
   "metadata": {},
   "source": [
    "## NN Architecture"
   ]
  },
  {
   "cell_type": "code",
   "execution_count": 12,
   "metadata": {},
   "outputs": [],
   "source": [
    "del all_FC\n",
    "output_size = 8\n",
    "max_epochs = 50\n",
    "n_epochs_stop = 5"
   ]
  },
  {
   "cell_type": "code",
   "execution_count": 13,
   "metadata": {},
   "outputs": [],
   "source": [
    "class Net(nn.Module):\n",
    "    def __init__(self):\n",
    "        super(Net, self).__init__()\n",
    "        self.conv1 = nn.Conv2d(1, 6, kernel_size=5)\n",
    "        self.conv2 = nn.Conv2d(6, 12, kernel_size=5)\n",
    "        self.conv2_bn = nn.BatchNorm2d(12)\n",
    "        self.conv2_drop = nn.Dropout2d()\n",
    "        self.fc1 = nn.Linear(18252, 128)\n",
    "        self.fc2 = nn.Linear(128, 8)\n",
    "\n",
    "    def forward(self, x):\n",
    "        x = F.relu(F.max_pool2d(self.conv1(x), (3,3)))\n",
    "        x = F.relu(F.max_pool2d(self.conv2_bn(self.conv2(x)), (3,3)))\n",
    "        x = x.view(-1, self.num_flat_features(x))\n",
    "        x = F.relu(self.fc1(x))\n",
    "        x = self.fc2(x)\n",
    "        return x\n",
    "    \n",
    "    def num_flat_features(self, x):\n",
    "        size = x.size()[1:]  # all dimensions except the batch dimension\n",
    "        num_features = 1\n",
    "        for s in size:\n",
    "            num_features *= s\n",
    "        return num_features\n",
    "    \n",
    "model = Net()\n"
   ]
  },
  {
   "cell_type": "code",
   "execution_count": 17,
   "metadata": {},
   "outputs": [
    {
     "name": "stdout",
     "output_type": "stream",
     "text": [
      "Net(\n",
      "  (conv1): Conv2d(1, 6, kernel_size=(5, 5), stride=(1, 1))\n",
      "  (conv2): Conv2d(6, 12, kernel_size=(5, 5), stride=(1, 1))\n",
      "  (conv2_bn): BatchNorm2d(12, eps=1e-05, momentum=0.1, affine=True, track_running_stats=True)\n",
      "  (conv2_drop): Dropout2d(p=0.5, inplace=False)\n",
      "  (fc1): Linear(in_features=18252, out_features=128, bias=True)\n",
      "  (fc2): Linear(in_features=128, out_features=8, bias=True)\n",
      ")\n"
     ]
    }
   ],
   "source": [
    "loss_fn = nn.CrossEntropyLoss()\n",
    "opt = optim.SGD(model.parameters(), lr=0.001)\n",
    "if use_cuda:\n",
    "    model = model.cuda()\n",
    "print(model)"
   ]
  },
  {
   "cell_type": "code",
   "execution_count": 18,
   "metadata": {},
   "outputs": [],
   "source": [
    "load_model = False\n",
    "if load_model:\n",
    "    the_model = Net()\n",
    "    the_model.load_state_dict(torch.load(\"../trained_models/ENTER NAME HERE\"))"
   ]
  },
  {
   "cell_type": "code",
   "execution_count": 19,
   "metadata": {},
   "outputs": [
    {
     "name": "stdout",
     "output_type": "stream",
     "text": [
      "Epoch 1/50, train loss: 0.0255, train acc: 0.242, val loss: 2.059, val acc: 0.090\n",
      "Epoch 2/50, train loss: 0.0221, train acc: 0.444, val loss: 1.934, val acc: 0.115\n",
      "Epoch 3/50, train loss: 0.0190, train acc: 0.557, val loss: 1.794, val acc: 0.184\n",
      "Epoch 4/50, train loss: 0.0160, train acc: 0.629, val loss: 1.645, val acc: 0.254\n",
      "Epoch 5/50, train loss: 0.0136, train acc: 0.691, val loss: 1.481, val acc: 0.410\n",
      "Epoch 6/50, train loss: 0.0116, train acc: 0.739, val loss: 1.346, val acc: 0.504\n",
      "Epoch 7/50, train loss: 0.0099, train acc: 0.766, val loss: 1.228, val acc: 0.602\n",
      "Epoch 8/50, train loss: 0.0084, train acc: 0.791, val loss: 1.138, val acc: 0.664\n",
      "Epoch 9/50, train loss: 0.0073, train acc: 0.815, val loss: 1.053, val acc: 0.709\n",
      "Epoch 10/50, train loss: 0.0063, train acc: 0.826, val loss: 0.986, val acc: 0.746\n",
      "Epoch 11/50, train loss: 0.0055, train acc: 0.842, val loss: 0.924, val acc: 0.779\n",
      "Epoch 12/50, train loss: 0.0048, train acc: 0.857, val loss: 0.872, val acc: 0.799\n",
      "Epoch 13/50, train loss: 0.0043, train acc: 0.865, val loss: 0.829, val acc: 0.820\n",
      "Epoch 14/50, train loss: 0.0038, train acc: 0.876, val loss: 0.789, val acc: 0.820\n",
      "Epoch 15/50, train loss: 0.0034, train acc: 0.885, val loss: 0.755, val acc: 0.832\n",
      "Epoch 16/50, train loss: 0.0031, train acc: 0.887, val loss: 0.725, val acc: 0.836\n",
      "Epoch 17/50, train loss: 0.0028, train acc: 0.895, val loss: 0.698, val acc: 0.840\n",
      "Epoch 18/50, train loss: 0.0025, train acc: 0.902, val loss: 0.674, val acc: 0.844\n",
      "Epoch 19/50, train loss: 0.0023, train acc: 0.909, val loss: 0.653, val acc: 0.844\n",
      "Epoch 20/50, train loss: 0.0021, train acc: 0.917, val loss: 0.633, val acc: 0.852\n",
      "Epoch 21/50, train loss: 0.0019, train acc: 0.921, val loss: 0.615, val acc: 0.852\n",
      "Epoch 22/50, train loss: 0.0018, train acc: 0.923, val loss: 0.598, val acc: 0.852\n",
      "Epoch 23/50, train loss: 0.0016, train acc: 0.926, val loss: 0.583, val acc: 0.852\n",
      "Epoch 24/50, train loss: 0.0015, train acc: 0.931, val loss: 0.569, val acc: 0.857\n",
      "Epoch 25/50, train loss: 0.0014, train acc: 0.933, val loss: 0.556, val acc: 0.865\n",
      "Epoch 26/50, train loss: 0.0013, train acc: 0.938, val loss: 0.544, val acc: 0.869\n",
      "Epoch 27/50, train loss: 0.0012, train acc: 0.941, val loss: 0.532, val acc: 0.869\n",
      "Epoch 28/50, train loss: 0.0011, train acc: 0.944, val loss: 0.521, val acc: 0.873\n",
      "Epoch 29/50, train loss: 0.0011, train acc: 0.950, val loss: 0.512, val acc: 0.869\n",
      "Epoch 30/50, train loss: 0.0010, train acc: 0.954, val loss: 0.502, val acc: 0.881\n",
      "Epoch 31/50, train loss: 0.0009, train acc: 0.954, val loss: 0.494, val acc: 0.885\n",
      "Epoch 32/50, train loss: 0.0009, train acc: 0.954, val loss: 0.485, val acc: 0.885\n",
      "Epoch 33/50, train loss: 0.0008, train acc: 0.954, val loss: 0.477, val acc: 0.885\n",
      "Epoch 34/50, train loss: 0.0008, train acc: 0.958, val loss: 0.470, val acc: 0.885\n",
      "Epoch 35/50, train loss: 0.0008, train acc: 0.959, val loss: 0.463, val acc: 0.889\n",
      "Epoch 36/50, train loss: 0.0007, train acc: 0.959, val loss: 0.456, val acc: 0.889\n",
      "Epoch 37/50, train loss: 0.0007, train acc: 0.961, val loss: 0.450, val acc: 0.889\n",
      "Epoch 38/50, train loss: 0.0006, train acc: 0.964, val loss: 0.443, val acc: 0.898\n",
      "Epoch 39/50, train loss: 0.0006, train acc: 0.964, val loss: 0.438, val acc: 0.898\n",
      "Epoch 40/50, train loss: 0.0006, train acc: 0.967, val loss: 0.432, val acc: 0.898\n",
      "Epoch 41/50, train loss: 0.0006, train acc: 0.968, val loss: 0.427, val acc: 0.898\n",
      "Epoch 42/50, train loss: 0.0005, train acc: 0.970, val loss: 0.422, val acc: 0.898\n",
      "Epoch 43/50, train loss: 0.0005, train acc: 0.970, val loss: 0.417, val acc: 0.902\n",
      "Epoch 44/50, train loss: 0.0005, train acc: 0.970, val loss: 0.412, val acc: 0.902\n",
      "Epoch 45/50, train loss: 0.0005, train acc: 0.970, val loss: 0.407, val acc: 0.906\n",
      "Epoch 46/50, train loss: 0.0005, train acc: 0.970, val loss: 0.403, val acc: 0.910\n",
      "Epoch 47/50, train loss: 0.0004, train acc: 0.974, val loss: 0.399, val acc: 0.910\n",
      "Epoch 48/50, train loss: 0.0004, train acc: 0.976, val loss: 0.395, val acc: 0.910\n",
      "Epoch 49/50, train loss: 0.0004, train acc: 0.977, val loss: 0.391, val acc: 0.910\n",
      "Epoch 50/50, train loss: 0.0004, train acc: 0.977, val loss: 0.387, val acc: 0.914\n"
     ]
    }
   ],
   "source": [
    "history = {}\n",
    "history['loss'] = []\n",
    "history['val_loss'] = []\n",
    "history['acc'] = []\n",
    "history['val_acc'] = []\n",
    "min_val_loss = np.Inf\n",
    "early_stop = False\n",
    "# Loop over epochs\n",
    "\n",
    "\n",
    "for epoch in range(max_epochs):\n",
    "    # Training\n",
    "    model.train()\n",
    "    train_loss         = 0.0\n",
    "    num_train_correct  = 0\n",
    "    num_train_examples = 0\n",
    "    for local_batch, local_labels in train_loader:\n",
    "        # Transfer to GPU\n",
    "        if use_cuda:\n",
    "            local_batch, local_labels = local_batch.to(device), local_labels.to(device)\n",
    "\n",
    "\n",
    "\n",
    "        opt.zero_grad()\n",
    "        output = model(local_batch)\n",
    "        loss = loss_fn(output, local_labels)\n",
    "        loss.backward()\n",
    "        opt.step()\n",
    "\n",
    "        train_loss += loss.data.item() * local_batch.size(0)\n",
    "        num_train_correct  += (torch.max(output, 1)[1] == local_labels).sum().item()\n",
    "        num_train_examples += local_batch.shape[0]\n",
    "\n",
    "        train_acc = num_train_correct / num_train_examples\n",
    "        train_loss  = train_loss / len(train_loader.dataset)\n",
    "\n",
    "    # Validation\n",
    "    model.eval()\n",
    "    val_loss       = 0.0\n",
    "    num_val_correct  = 0\n",
    "    num_val_examples = 0\n",
    "    with torch.set_grad_enabled(False):\n",
    "        for local_batch, local_labels in val_loader:\n",
    "            # Transfer to GPU\n",
    "            if use_cuda:\n",
    "                local_batch, local_labels = local_batch.to(device), local_labels.to(device)\n",
    "            output = model(local_batch)\n",
    "            loss = loss_fn(output, local_labels)\n",
    "\n",
    "            val_loss += loss.data.item() * local_batch.size(0)\n",
    "            num_val_correct  += (torch.max(output, 1)[1] == local_labels).sum().item()\n",
    "            num_val_examples += local_batch.shape[0]\n",
    "\n",
    "        val_acc  = num_val_correct / num_val_examples\n",
    "        val_loss = val_loss / len(val_loader.dataset)\n",
    "\n",
    "        if val_loss < min_val_loss:\n",
    "            epochs_no_improve = 0\n",
    "            min_val_loss = val_loss\n",
    "        else:\n",
    "            epochs_no_improve += 1\n",
    "  # Check early stopping condition\n",
    "        if epochs_no_improve == n_epochs_stop:\n",
    "            early_stop = print('Early stopping!')\n",
    "            break\n",
    "\n",
    "        \n",
    "    print(f'Epoch {epoch+1}/{max_epochs}, train loss: {train_loss:5.4f}, train acc: {train_acc:5.3f}, val loss: {val_loss:5.3f}, val acc: {val_acc:5.3f}')\n",
    "    \n",
    "    \n",
    "    history['loss'].append(train_loss)\n",
    "    history['val_loss'].append(val_loss)\n",
    "    history['acc'].append(train_acc)\n",
    "    history['val_acc'].append(val_acc)\n",
    "    \n",
    "    if early_stop:\n",
    "        print(\"Stopped\")\n",
    "        break"
   ]
  },
  {
   "cell_type": "code",
   "execution_count": null,
   "metadata": {},
   "outputs": [],
   "source": [
    "local_batch.device"
   ]
  },
  {
   "cell_type": "code",
   "execution_count": null,
   "metadata": {},
   "outputs": [],
   "source": [
    "torch.save(model.state_dict(), \"../trained_models/lr1e4_f5_sgd_yeoorder_190comps\")"
   ]
  },
  {
   "cell_type": "code",
   "execution_count": null,
   "metadata": {},
   "outputs": [],
   "source": [
    "model.eval()\n",
    "num_correct  = 0\n",
    "num_examples = 0\n",
    "with torch.set_grad_enabled(False):\n",
    "    for local_batch, local_labels in test_loader:\n",
    "        # Transfer to GPU\n",
    "        if use_cuda:\n",
    "            local_batch, local_labels = local_batch.to(device), local_labels.to(device)\n",
    "        output = model(local_batch)\n",
    "        num_correct  += (torch.max(output, 1)[1] == local_labels).sum().item()\n",
    "        num_examples += local_batch.shape[0]\n",
    "            \n",
    "    test_acc  = num_correct / num_examples"
   ]
  },
  {
   "cell_type": "code",
   "execution_count": null,
   "metadata": {},
   "outputs": [],
   "source": [
    "plt.plot(history['loss'])\n",
    "plt.plot(history['val_loss'])\n",
    "plt.title('Model loss')\n",
    "plt.ylabel('Loss')\n",
    "plt.xlabel('Epoch')\n",
    "plt.legend(['Train', 'Validation'], loc='upper left')\n",
    "plt.show()"
   ]
  },
  {
   "cell_type": "code",
   "execution_count": null,
   "metadata": {},
   "outputs": [],
   "source": [
    "plt.plot(history['acc'])\n",
    "plt.plot(history['val_acc'])\n",
    "plt.title('Model accuracy')\n",
    "plt.ylabel('Accuracy')\n",
    "plt.xlabel('Epoch')\n",
    "plt.legend(['Train', 'Validation'], loc='upper left')\n",
    "plt.show()"
   ]
  },
  {
   "cell_type": "code",
   "execution_count": null,
   "metadata": {},
   "outputs": [],
   "source": [
    "test_acc"
   ]
  }
 ],
 "metadata": {
  "@webio": {
   "lastCommId": null,
   "lastKernelId": null
  },
  "kernelspec": {
   "display_name": "Python 3",
   "language": "python",
   "name": "python3"
  },
  "language_info": {
   "codemirror_mode": {
    "name": "ipython",
    "version": 3
   },
   "file_extension": ".py",
   "mimetype": "text/x-python",
   "name": "python",
   "nbconvert_exporter": "python",
   "pygments_lexer": "ipython3",
   "version": "3.7.3"
  }
 },
 "nbformat": 4,
 "nbformat_minor": 4
}
