{
 "cells": [
  {
   "cell_type": "code",
   "execution_count": 1,
   "metadata": {},
   "outputs": [],
   "source": [
    "import numpy as np\n",
    "import scipy.io as sio\n",
    "import matplotlib.pyplot as plt\n",
    "\n",
    "\n",
    "fname = '../data/100_unrelated.csv'\n",
    "subjectids = np.loadtxt(fname, dtype=np.int)\n",
    "nSubj = len(subjectids)\n",
    "tasks = ['rfMRI_REST1_LR', 'rfMRI_REST1_RL', 'rfMRI_REST2_LR',\n",
    "         'rfMRI_REST2_RL', 'tfMRI_EMOTION_LR', 'tfMRI_EMOTION_RL',\n",
    "         'tfMRI_GAMBLING_LR', 'tfMRI_GAMBLING_RL', 'tfMRI_LANGUAGE_LR',\n",
    "         'tfMRI_LANGUAGE_RL', 'tfMRI_MOTOR_LR', 'tfMRI_MOTOR_RL',\n",
    "         'tfMRI_RELATIONAL_LR', 'tfMRI_RELATIONAL_RL', 'tfMRI_SOCIAL_LR',\n",
    "         'tfMRI_SOCIAL_RL', 'tfMRI_WM_LR', 'tfMRI_WM_RL']\n",
    "\n",
    "M = {}\n",
    "for task in tasks:\n",
    "    masterFC_dir = '../data/results_SIFT2'\n",
    "    restingstatename = 'fMRI/' + task + '/FC/FC_glasser_subc_GS_bp_z.mat'\n",
    "    task_matrices = []\n",
    "    for subject in subjectids:\n",
    "        filename = masterFC_dir + '/' + str(subject) + '/' + restingstatename\n",
    "        mat = sio.loadmat(filename, squeeze_me=True, struct_as_record=False)\n",
    "        A_orig = mat['FC']\n",
    "        A_orig = (A_orig + A_orig.T) / 2\n",
    "        np.fill_diagonal(A_orig, 0)\n",
    "        task_matrices.append(A_orig)\n",
    "    # This is the 100 by 374 by 374 matrices of 100 unrelated subjects\n",
    "    task_matrices = np.array(task_matrices).reshape(len(subjectids),-1)\n",
    "    M[task] = task_matrices\n"
   ]
  },
  {
   "cell_type": "code",
   "execution_count": 2,
   "metadata": {},
   "outputs": [],
   "source": [
    "task_list = [\"Rest\", \"Emotion\", \"Gambling\", \"Language\", \"Motor\", \"Relational\", \"Social\", \"WM\"]"
   ]
  },
  {
   "cell_type": "code",
   "execution_count": 3,
   "metadata": {},
   "outputs": [],
   "source": [
    "all_FC = np.hstack((M['rfMRI_REST1_LR'],M['rfMRI_REST1_RL'],M['tfMRI_EMOTION_LR'],M['tfMRI_EMOTION_RL'],\n",
    "                  M['tfMRI_GAMBLING_LR'], M['tfMRI_GAMBLING_RL'], M['tfMRI_LANGUAGE_LR'], M['tfMRI_LANGUAGE_RL'],\n",
    "                  M['tfMRI_MOTOR_LR'], M['tfMRI_MOTOR_RL'], M['tfMRI_RELATIONAL_LR'], M['tfMRI_RELATIONAL_RL'],\n",
    "                  M['tfMRI_SOCIAL_LR'], M['tfMRI_SOCIAL_RL'], M['tfMRI_WM_LR'], M['tfMRI_WM_RL'] )).reshape(-1,M['tfMRI_WM_LR'].shape[1])"
   ]
  },
  {
   "cell_type": "markdown",
   "metadata": {},
   "source": [
    "## Deep Learning"
   ]
  },
  {
   "cell_type": "code",
   "execution_count": 4,
   "metadata": {},
   "outputs": [
    {
     "name": "stdout",
     "output_type": "stream",
     "text": [
      "No GPU detected. Will use CPU for training.\n"
     ]
    }
   ],
   "source": [
    "import torch\n",
    "from torch import nn, optim\n",
    "from torch.utils import data\n",
    "from sklearn.preprocessing import StandardScaler\n",
    "\n",
    "# GPU is available? If so, we use it.\n",
    "use_cuda = torch.cuda.is_available() \n",
    "device = torch.device(\"cuda:0\" if use_cuda else \"cpu\")\n",
    "if use_cuda:\n",
    "    print(\"GPU detected. Will use GPU for training!\")\n",
    "    cudnn.benchmark = True\n",
    "else:\n",
    "    print(\"No GPU detected. Will use CPU for training.\")"
   ]
  },
  {
   "cell_type": "code",
   "execution_count": 5,
   "metadata": {},
   "outputs": [],
   "source": [
    "labels = torch.tensor(np.repeat(np.arange(0,8),nSubj*2))"
   ]
  },
  {
   "cell_type": "code",
   "execution_count": 6,
   "metadata": {},
   "outputs": [],
   "source": [
    "indices = np.random.permutation(labels.shape[0])\n",
    "train_idx = indices[:int(0.6*labels.shape[0])]\n",
    "val_idx = indices[int(0.6*labels.shape[0]):int(0.8*labels.shape[0])]\n",
    "test_idx = indices[int(0.8*labels.shape[0]):]"
   ]
  },
  {
   "cell_type": "code",
   "execution_count": 7,
   "metadata": {},
   "outputs": [],
   "source": [
    "std_scale = StandardScaler().fit(all_FC[train_idx,:])"
   ]
  },
  {
   "cell_type": "code",
   "execution_count": 8,
   "metadata": {},
   "outputs": [],
   "source": [
    "all_FC[train_idx,:] = std_scale.transform(all_FC[train_idx,:])\n",
    "all_FC[val_idx,:] = std_scale.transform(all_FC[val_idx,:])\n",
    "all_FC[test_idx,:] = std_scale.transform(all_FC[test_idx,:])"
   ]
  },
  {
   "cell_type": "code",
   "execution_count": 9,
   "metadata": {},
   "outputs": [
    {
     "data": {
      "text/plain": [
       "(1520, 139876)"
      ]
     },
     "execution_count": 9,
     "metadata": {},
     "output_type": "execute_result"
    }
   ],
   "source": [
    "all_FC.shape"
   ]
  },
  {
   "cell_type": "code",
   "execution_count": 10,
   "metadata": {},
   "outputs": [],
   "source": [
    "all_FC = torch.Tensor(all_FC) "
   ]
  },
  {
   "cell_type": "code",
   "execution_count": 11,
   "metadata": {},
   "outputs": [],
   "source": [
    "train_data = []\n",
    "for i in train_idx:\n",
    "    train_data.append([all_FC[i], labels[i]])\n",
    "    \n",
    "val_data = []\n",
    "for i in val_idx:\n",
    "    val_data.append([all_FC[i], labels[i]])\n",
    "\n",
    "test_data = []\n",
    "for i in test_idx:\n",
    "    test_data.append([all_FC[i], labels[i]])"
   ]
  },
  {
   "cell_type": "code",
   "execution_count": 12,
   "metadata": {},
   "outputs": [],
   "source": [
    "train_loader = torch.utils.data.DataLoader(train_data, shuffle=True, batch_size=100)\n",
    "val_loader = torch.utils.data.DataLoader(val_data, shuffle=True, batch_size=100)\n",
    "test_loader = torch.utils.data.DataLoader(test_data, shuffle=True, batch_size=100)"
   ]
  },
  {
   "cell_type": "markdown",
   "metadata": {},
   "source": [
    "## NN Architecture"
   ]
  },
  {
   "cell_type": "code",
   "execution_count": 13,
   "metadata": {},
   "outputs": [],
   "source": [
    "input_size = all_FC.shape[1] # number of columns\n",
    "hidden_sizes = [2048, 128]\n",
    "output_size = 8\n",
    "max_epochs = 30\n",
    "n_epochs_stop = 5"
   ]
  },
  {
   "cell_type": "code",
   "execution_count": 14,
   "metadata": {},
   "outputs": [],
   "source": [
    "model = nn.Sequential(nn.Linear(input_size, hidden_sizes[0]),\n",
    "                      nn.BatchNorm1d(hidden_sizes[0]),\n",
    "                      nn.ReLU(),\n",
    "                      nn.Dropout(),\n",
    "                      nn.Linear(hidden_sizes[0], hidden_sizes[1]),\n",
    "                      nn.BatchNorm1d(hidden_sizes[1]),\n",
    "                      nn.ReLU(),\n",
    "                      nn.Linear(hidden_sizes[1], output_size))"
   ]
  },
  {
   "cell_type": "code",
   "execution_count": 15,
   "metadata": {},
   "outputs": [
    {
     "name": "stdout",
     "output_type": "stream",
     "text": [
      "Sequential(\n",
      "  (0): Linear(in_features=139876, out_features=2048, bias=True)\n",
      "  (1): BatchNorm1d(2048, eps=1e-05, momentum=0.1, affine=True, track_running_stats=True)\n",
      "  (2): ReLU()\n",
      "  (3): Dropout(p=0.5, inplace=False)\n",
      "  (4): Linear(in_features=2048, out_features=128, bias=True)\n",
      "  (5): BatchNorm1d(128, eps=1e-05, momentum=0.1, affine=True, track_running_stats=True)\n",
      "  (6): ReLU()\n",
      "  (7): Linear(in_features=128, out_features=8, bias=True)\n",
      ")\n"
     ]
    }
   ],
   "source": [
    "loss_fn = nn.CrossEntropyLoss()\n",
    "opt = optim.SGD(model.parameters(), lr=0.01)\n",
    "print(model)"
   ]
  },
  {
   "cell_type": "code",
   "execution_count": 17,
   "metadata": {},
   "outputs": [
    {
     "name": "stdout",
     "output_type": "stream",
     "text": [
      "Epoch 1/30, train loss: 0.0129, train acc: 0.899, val loss: 1.621, val acc: 0.513\n",
      "Epoch 2/30, train loss: 0.0108, train acc: 0.975, val loss: 1.476, val acc: 0.674\n",
      "Epoch 3/30, train loss: 0.0080, train acc: 0.996, val loss: 1.368, val acc: 0.766\n",
      "Epoch 4/30, train loss: 0.0086, train acc: 1.000, val loss: 1.299, val acc: 0.789\n",
      "Epoch 5/30, train loss: 0.0077, train acc: 1.000, val loss: 1.241, val acc: 0.822\n",
      "Epoch 6/30, train loss: 0.0053, train acc: 1.000, val loss: 1.200, val acc: 0.839\n",
      "Epoch 7/30, train loss: 0.0057, train acc: 1.000, val loss: 1.153, val acc: 0.845\n",
      "Epoch 8/30, train loss: 0.0039, train acc: 1.000, val loss: 1.115, val acc: 0.882\n",
      "Epoch 9/30, train loss: 0.0028, train acc: 1.000, val loss: 1.085, val acc: 0.878\n",
      "Epoch 10/30, train loss: 0.0024, train acc: 1.000, val loss: 1.060, val acc: 0.878\n",
      "Epoch 11/30, train loss: 0.0021, train acc: 1.000, val loss: 1.030, val acc: 0.888\n",
      "Epoch 12/30, train loss: 0.0036, train acc: 1.000, val loss: 1.009, val acc: 0.891\n",
      "Epoch 13/30, train loss: 0.0020, train acc: 1.000, val loss: 0.990, val acc: 0.901\n",
      "Epoch 14/30, train loss: 0.0030, train acc: 1.000, val loss: 0.993, val acc: 0.868\n",
      "Epoch 15/30, train loss: 0.0019, train acc: 1.000, val loss: 0.972, val acc: 0.885\n",
      "Epoch 16/30, train loss: 0.0018, train acc: 1.000, val loss: 0.955, val acc: 0.888\n",
      "Epoch 17/30, train loss: 0.0016, train acc: 1.000, val loss: 0.942, val acc: 0.888\n",
      "Epoch 18/30, train loss: 0.0014, train acc: 1.000, val loss: 0.929, val acc: 0.901\n",
      "Epoch 19/30, train loss: 0.0012, train acc: 1.000, val loss: 0.911, val acc: 0.901\n",
      "Epoch 20/30, train loss: 0.0013, train acc: 1.000, val loss: 0.896, val acc: 0.905\n",
      "Epoch 21/30, train loss: 0.0010, train acc: 1.000, val loss: 0.880, val acc: 0.905\n",
      "Epoch 22/30, train loss: 0.0022, train acc: 1.000, val loss: 0.872, val acc: 0.901\n",
      "Epoch 23/30, train loss: 0.0008, train acc: 1.000, val loss: 0.865, val acc: 0.895\n",
      "Epoch 24/30, train loss: 0.0010, train acc: 1.000, val loss: 0.862, val acc: 0.901\n",
      "Epoch 25/30, train loss: 0.0012, train acc: 1.000, val loss: 0.856, val acc: 0.905\n",
      "Epoch 26/30, train loss: 0.0009, train acc: 1.000, val loss: 0.843, val acc: 0.901\n",
      "Epoch 27/30, train loss: 0.0015, train acc: 1.000, val loss: 0.837, val acc: 0.901\n",
      "Epoch 28/30, train loss: 0.0011, train acc: 1.000, val loss: 0.822, val acc: 0.908\n",
      "Epoch 29/30, train loss: 0.0008, train acc: 1.000, val loss: 0.822, val acc: 0.901\n",
      "Epoch 30/30, train loss: 0.0011, train acc: 1.000, val loss: 0.818, val acc: 0.905\n"
     ]
    }
   ],
   "source": [
    "\n",
    "history = {}\n",
    "history['loss'] = []\n",
    "history['val_loss'] = []\n",
    "history['acc'] = []\n",
    "history['val_acc'] = []\n",
    "min_val_loss = np.Inf\n",
    "early_stop = False\n",
    "# Loop over epochs\n",
    "\n",
    "\n",
    "for epoch in range(max_epochs):\n",
    "    # Training\n",
    "    model.train()\n",
    "    train_loss         = 0.0\n",
    "    num_train_correct  = 0\n",
    "    num_train_examples = 0\n",
    "    for local_batch, local_labels in train_loader:\n",
    "        # Transfer to GPU\n",
    "        if use_cuda:\n",
    "            local_batch, local_labels = local_batch.to(device), local_labels.to(device)\n",
    "        \n",
    "        \n",
    "\n",
    "        opt.zero_grad()\n",
    "        output = model(local_batch)\n",
    "        loss = loss_fn(output, local_labels)\n",
    "        loss.backward()\n",
    "        opt.step()\n",
    "        \n",
    "        train_loss += loss.data.item() * local_batch.size(0)\n",
    "        num_train_correct  += (torch.max(output, 1)[1] == local_labels).sum().item()\n",
    "        num_train_examples += local_batch.shape[0]\n",
    "        \n",
    "        train_acc = num_train_correct / num_train_examples\n",
    "        train_loss  = train_loss / len(train_loader.dataset)\n",
    "        \n",
    "    # Validation\n",
    "    model.eval()\n",
    "    val_loss       = 0.0\n",
    "    num_val_correct  = 0\n",
    "    num_val_examples = 0\n",
    "    with torch.set_grad_enabled(False):\n",
    "        for local_batch, local_labels in val_loader:\n",
    "            # Transfer to GPU\n",
    "            if use_cuda:\n",
    "                local_batch, local_labels = local_batch.to(device), local_labels.to(device)\n",
    "            output = model(local_batch)\n",
    "            loss = loss_fn(output, local_labels)\n",
    "            \n",
    "            val_loss += loss.data.item() * local_batch.size(0)\n",
    "            num_val_correct  += (torch.max(output, 1)[1] == local_labels).sum().item()\n",
    "            num_val_examples += local_batch.shape[0]\n",
    "            \n",
    "        val_acc  = num_val_correct / num_val_examples\n",
    "        val_loss = val_loss / len(val_loader.dataset)\n",
    "        \n",
    "        if val_loss < min_val_loss:\n",
    "            epochs_no_improve = 0\n",
    "            min_val_loss = val_loss\n",
    "        else:\n",
    "            epochs_no_improve += 1\n",
    "  # Check early stopping condition\n",
    "        if epochs_no_improve == n_epochs_stop:\n",
    "            early_stop = print('Early stopping!')\n",
    "            break\n",
    "\n",
    "        \n",
    "    print(f'Epoch {epoch+1}/{max_epochs}, train loss: {train_loss:5.4f}, train acc: {train_acc:5.3f}, val loss: {val_loss:5.3f}, val acc: {val_acc:5.3f}')\n",
    "    \n",
    "    \n",
    "    history['loss'].append(train_loss)\n",
    "    history['val_loss'].append(val_loss)\n",
    "    history['acc'].append(train_acc)\n",
    "    history['val_acc'].append(val_acc)\n",
    "    \n",
    "    if early_stop:\n",
    "        print(\"Stopped\")\n",
    "        break"
   ]
  },
  {
   "cell_type": "code",
   "execution_count": 18,
   "metadata": {},
   "outputs": [],
   "source": [
    "model.eval()\n",
    "num_correct  = 0\n",
    "num_examples = 0\n",
    "with torch.set_grad_enabled(False):\n",
    "    for local_batch, local_labels in test_loader:\n",
    "        # Transfer to GPU\n",
    "        if use_cuda:\n",
    "            local_batch, local_labels = local_batch.to(device), local_labels.to(device)\n",
    "        output = model(local_batch)\n",
    "        num_correct  += (torch.max(output, 1)[1] == local_labels).sum().item()\n",
    "        num_examples += local_batch.shape[0]\n",
    "            \n",
    "    test_acc  = num_correct / num_examples"
   ]
  },
  {
   "cell_type": "code",
   "execution_count": 19,
   "metadata": {},
   "outputs": [
    {
     "data": {
      "image/png": "[encoded data removed]",
      "text/plain": [
       "<Figure size 432x288 with 1 Axes>"
      ]
     },
     "metadata": {
      "needs_background": "light"
     },
     "output_type": "display_data"
    }
   ],
   "source": [
    "plt.plot(history['loss'])\n",
    "plt.plot(history['val_loss'])\n",
    "plt.title('Model loss')\n",
    "plt.ylabel('Loss')\n",
    "plt.xlabel('Epoch')\n",
    "plt.legend(['Train', 'Validation'], loc='upper left')\n",
    "plt.show()"
   ]
  },
  {
   "cell_type": "code",
   "execution_count": 20,
   "metadata": {},
   "outputs": [
    {
     "data": {
      "image/png": "[encoded data removed]",
      "text/plain": [
       "<Figure size 432x288 with 1 Axes>"
      ]
     },
     "metadata": {
      "needs_background": "light"
     },
     "output_type": "display_data"
    }
   ],
   "source": [
    "plt.plot(history['acc'])\n",
    "plt.plot(history['val_acc'])\n",
    "plt.title('Model accuracy')\n",
    "plt.ylabel('Accuracy')\n",
    "plt.xlabel('Epoch')\n",
    "plt.legend(['Train', 'Validation'], loc='upper left')\n",
    "plt.show()"
   ]
  },
  {
   "cell_type": "code",
   "execution_count": 21,
   "metadata": {},
   "outputs": [
    {
     "data": {
      "text/plain": [
       "0.8980263157894737"
      ]
     },
     "execution_count": 21,
     "metadata": {},
     "output_type": "execute_result"
    }
   ],
   "source": [
    "test_acc"
   ]
  },
  {
   "cell_type": "code",
   "execution_count": null,
   "metadata": {},
   "outputs": [],
   "source": []
  }
 ],
 "metadata": {
  "@webio": {
   "lastCommId": null,
   "lastKernelId": null
  },
  "kernelspec": {
   "display_name": "Python 3",
   "language": "python",
   "name": "python3"
  },
  "language_info": {
   "codemirror_mode": {
    "name": "ipython",
    "version": 3
   },
   "file_extension": ".py",
   "mimetype": "text/x-python",
   "name": "python",
   "nbconvert_exporter": "python",
   "pygments_lexer": "ipython3",
   "version": "3.7.3"
  }
 },
 "nbformat": 4,
 "nbformat_minor": 4
}
