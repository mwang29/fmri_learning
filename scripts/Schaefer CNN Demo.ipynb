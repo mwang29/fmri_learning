{
 "cells": [
  {
   "cell_type": "code",
   "execution_count": 2,
   "metadata": {},
   "outputs": [],
   "source": [
    "import numpy as np\n",
    "import scipy\n",
    "import scipy.io as sio\n",
    "import matplotlib.pyplot as plt\n",
    "import sklearn.decomposition\n",
    "from pyriemann.utils.mean import mean_covariance\n",
    "import pickle\n",
    "from sklearn.metrics import confusion_matrix"
   ]
  },
  {
   "cell_type": "code",
   "execution_count": 3,
   "metadata": {},
   "outputs": [],
   "source": [
    "import itertools\n",
    "import numpy as np\n",
    "import matplotlib.pyplot as plt\n",
    "\n",
    "def plot_confusion_matrix(cm, classes, normalize=False, title='Confusion matrix', cmap=plt.cm.Blues):\n",
    "    if normalize:\n",
    "        cm = cm.astype('float') / cm.sum(axis=1)[:, np.newaxis]\n",
    "        print(\"Normalized confusion matrix\")\n",
    "    else:\n",
    "        print('Confusion matrix, without normalization')\n",
    "\n",
    "    print(cm)\n",
    "    plt.imshow(cm, interpolation='nearest', cmap=cmap)\n",
    "    plt.title(title)\n",
    "    plt.colorbar()\n",
    "    tick_marks = np.arange(len(classes))\n",
    "    plt.xticks(tick_marks, classes, rotation=45)\n",
    "    plt.yticks(tick_marks, classes)\n",
    "\n",
    "    fmt = '.2f' if normalize else 'd'\n",
    "    thresh = cm.max() / 2.\n",
    "    for i, j in itertools.product(range(cm.shape[0]), range(cm.shape[1])):\n",
    "        plt.text(j, i, format(cm[i, j], fmt), horizontalalignment=\"center\", color=\"white\" if cm[i, j] > thresh else \"black\")\n",
    "\n",
    "    plt.tight_layout()\n",
    "    plt.ylabel('True label')\n",
    "    plt.xlabel('Predicted label')\n",
    "    plt.savefig('../results/confusion_matrix.png', bbox_inches='tight', transparent=True)"
   ]
  },
  {
   "cell_type": "code",
   "execution_count": 4,
   "metadata": {},
   "outputs": [],
   "source": [
    "def utri2mat(utri):\n",
    "    n = int(-1 + np.sqrt(1 + 8 * len(utri))) // 2\n",
    "    iu1 = np.tril_indices(n+1,-1)\n",
    "    ret = np.empty((n+1, n+1))\n",
    "    ret[iu1] = utri\n",
    "    ret.T[iu1] = utri\n",
    "    np.fill_diagonal(ret, 1)\n",
    "    return ret\n",
    "\n",
    "def pca_recon(FC, pctComp=None):\n",
    "    '''\n",
    "    Reconstructs FC based on number of principle components\n",
    "    '''\n",
    "    if pctComp is None:\n",
    "        return FC\n",
    "    nRegions = FC.shape[1]\n",
    "    FC = np.reshape(FC, (FC.shape[0], -1))\n",
    "    nComp = int(FC.shape[0] * pctComp)\n",
    "    mu = np.mean(FC, axis=0)\n",
    "    pca_rest = sklearn.decomposition.PCA()\n",
    "    pca_rest.fit(FC)\n",
    "    cumsum = np.cumsum(pca_rest.explained_variance_ratio_)\n",
    "    SCORES = pca_rest.transform(FC)[:, :nComp]\n",
    "    COEFFS = pca_rest.components_[:nComp, :]\n",
    "    FC_recon = np.dot(SCORES, COEFFS)\n",
    "    del SCORES, COEFFS\n",
    "    FC_recon += mu\n",
    "    FC_recon = np.reshape(FC_recon, (FC.shape[0], nRegions, nRegions))\n",
    "    return FC_recon, cumsum\n",
    "\n",
    "def get_all_preds(model, loader):\n",
    "    all_preds = torch.tensor([]).to(device)\n",
    "    for images, labels in loader:\n",
    "        # Transfer to GPU\n",
    "        if use_cuda:\n",
    "            images, labels = images.to(device), labels.to(device)\n",
    "        preds = model(images)\n",
    "        all_preds = torch.cat((all_preds, preds), dim=0)\n",
    "    return all_preds\n",
    "\n",
    "\n",
    "def tangential(all_FC, ref):\n",
    "    # Regularization for riemann\n",
    "    if ref in ['riemann', 'kullback_sym', 'logeuclid']:\n",
    "        print(\"Adding regularization!\")\n",
    "        eye_mat = np.eye(all_FC.shape[1])\n",
    "        scaling_mat = np.repeat(eye_mat[None, ...], all_FC.shape[0], axis=0)\n",
    "        all_FC += scaling_mat\n",
    "    Cg = mean_covariance(all_FC, metric=ref)\n",
    "    Q1_inv_sqrt = q1invm(Cg)\n",
    "    Q = Q1_inv_sqrt @ all_FC @ Q1_inv_sqrt\n",
    "    tangent_FC = np.array([qlog(a) for a in Q])\n",
    "    return tangent_FC\n",
    "\n",
    "def q1invm(q1, eig_thresh=0):\n",
    "    U, S, V = scipy.linalg.svd(q1)\n",
    "    s = np.diag(S)\n",
    "    s[s < eig_thresh] = eig_thresh\n",
    "    S = np.diag(s ** (-1 / 2))\n",
    "    Q1_inv_sqrt = U * S * np.transpose(V)\n",
    "    Q1_inv_sqrt = (Q1_inv_sqrt + np.transpose(Q1_inv_sqrt)) / 2\n",
    "    return Q1_inv_sqrt\n",
    "\n",
    "\n",
    "def qlog(q):\n",
    "    U, S, V = scipy.linalg.svd(q)\n",
    "    s = np.diag(S)\n",
    "    S = np.diag(np.log(s))\n",
    "    Q = U * S * np.transpose(V)\n",
    "    return Q\n",
    "\n"
   ]
  },
  {
   "cell_type": "markdown",
   "metadata": {},
   "source": [
    "### Write pickle files of Schaefer orig mats"
   ]
  },
  {
   "cell_type": "code",
   "execution_count": 5,
   "metadata": {},
   "outputs": [],
   "source": [
    "# with open(f'../data/schaefer.pickle', 'rb') as f:\n",
    "#     all_parc = pickle.load(f)"
   ]
  },
  {
   "cell_type": "code",
   "execution_count": 6,
   "metadata": {},
   "outputs": [],
   "source": [
    "# nSubj = int(all_parc[500]['FC_all_vec'].shape[0] / 16)\n",
    "# nFCs = int(all_parc[500]['FC_all_vec'].shape[0])\n",
    "# testFCs = all_parc[500]['FC_all_vec'][::2]\n",
    "# retest_FCs = all_parc[500]['FC_all_vec'][1::2]\n",
    "# reordered_FCs = np.float32(np.concatenate([testFCs, retest_FCs]))\n",
    "# del testFCs, retest_FCs\n",
    "# all_FC = np.zeros((nFCs, 500 + 14, 500 + 14),dtype=\"float32\")\n",
    "# for i in np.arange(0, nFCs):\n",
    "#     all_FC[i] = utri2mat(reordered_FCs[i])\n",
    "    \n",
    "# with open('../data/schaefer500.pickle', 'wb') as f:\n",
    "#     pickle.dump(all_FC, f, protocol=4)"
   ]
  },
  {
   "cell_type": "code",
   "execution_count": 83,
   "metadata": {},
   "outputs": [],
   "source": [
    "parc = 100\n",
    "\n",
    "# # Original FCs\n",
    "# with open(f'../data/schaefer/schaefer{parc}.pickle', 'rb') as f:\n",
    "#     all_FC = pickle.load(f)\n",
    "# nSubj = int(all_FC.shape[0]/16)\n",
    "# nFCs = int(all_FC.shape[0])\n",
    "\n",
    "# # PCA Reconstructed FCs\n",
    "# all_FC, cumsum = pca_recon(all_FC, 0.012)\n",
    "\n",
    "# Tangent FCs\n",
    "with open(f'../data/tangent_fcs/schaefer/schaefer{parc}_kullback_sym.pickle', 'rb') as f:\n",
    "    all_FC = pickle.load(f)"
   ]
  },
  {
   "cell_type": "code",
   "execution_count": 84,
   "metadata": {},
   "outputs": [
    {
     "data": {
      "text/plain": [
       "(6784, 114, 114)"
      ]
     },
     "execution_count": 84,
     "metadata": {},
     "output_type": "execute_result"
    }
   ],
   "source": [
    "all_FC.shape"
   ]
  },
  {
   "cell_type": "markdown",
   "metadata": {},
   "source": [
    "## Deep Learning"
   ]
  },
  {
   "cell_type": "code",
   "execution_count": 85,
   "metadata": {},
   "outputs": [
    {
     "name": "stdout",
     "output_type": "stream",
     "text": [
      "GPU detected. Will use GPU for training!\n"
     ]
    }
   ],
   "source": [
    "import torch\n",
    "from torch import nn, optim\n",
    "import torch.nn.functional as F\n",
    "from torch.utils import data\n",
    "from sklearn.preprocessing import StandardScaler\n",
    "\n",
    "# GPU is available? If so, we use it.\n",
    "use_cuda = torch.cuda.is_available() \n",
    "device = torch.device(\"cuda:0\" if use_cuda else \"cpu\")\n",
    "if use_cuda:\n",
    "    print(\"GPU detected. Will use GPU for training!\")\n",
    "    torch.backends.cudnn.benchmark = True\n",
    "else:\n",
    "    print(\"No GPU detected. Will use CPU for training.\")"
   ]
  },
  {
   "cell_type": "code",
   "execution_count": 86,
   "metadata": {},
   "outputs": [],
   "source": [
    "# Create labels corresponding to all_FC \n",
    "labels = torch.tensor(np.tile(np.repeat(np.arange(0,8),nSubj),2), dtype=torch.long)\n",
    "# Randomly shuffled indices for test FCs\n",
    "indices = np.random.permutation(nFCs)\n",
    "# Take subsets of data for training, validation, test\n",
    "train_val_idx = indices[:int(0.8*nFCs)]\n",
    "\n",
    "val_idx = train_val_idx[int(0.8*train_val_idx.shape[0]):]\n",
    "train_idx = train_val_idx[:int(0.8*train_val_idx.shape[0])]\n",
    "test_idx = indices[int(0.8*nFCs):]"
   ]
  },
  {
   "cell_type": "code",
   "execution_count": 87,
   "metadata": {},
   "outputs": [],
   "source": [
    "train_mean = np.mean(all_FC[train_idx])\n",
    "train_std = np.std(all_FC[train_idx])\n",
    "train_data = torch.FloatTensor((all_FC[train_idx] - train_mean) / train_std)\n",
    "val_data = torch.FloatTensor((all_FC[val_idx] - train_mean) / train_std)\n",
    "test_data = torch.FloatTensor((all_FC[test_idx] - train_mean) / train_std)"
   ]
  },
  {
   "cell_type": "code",
   "execution_count": 88,
   "metadata": {},
   "outputs": [],
   "source": [
    "train_data = train_data.view(train_data.shape[0], -1, train_data.shape[1], train_data.shape[2])\n",
    "val_data = val_data.view(val_data.shape[0], -1, val_data.shape[1], val_data.shape[2])\n",
    "test_data = test_data.view(test_data.shape[0], -1, test_data.shape[1], test_data.shape[2])"
   ]
  },
  {
   "cell_type": "code",
   "execution_count": 89,
   "metadata": {},
   "outputs": [],
   "source": [
    "train_dataset = data.TensorDataset(train_data,labels[train_idx]) # create your datset\n",
    "val_dataset = data.TensorDataset(val_data,labels[val_idx]) # create your datset\n",
    "test_dataset = data.TensorDataset(test_data,labels[test_idx]) # create your datset\n",
    "\n",
    "train_loader = data.DataLoader(train_dataset, batch_size=80) # create your dataloader\n",
    "val_loader = data.DataLoader(val_dataset, batch_size=80) # create your dataloader\n",
    "test_loader = data.DataLoader(test_dataset, batch_size=80) # create your dataloader\n"
   ]
  },
  {
   "cell_type": "markdown",
   "metadata": {},
   "source": [
    "## NN Architecture"
   ]
  },
  {
   "cell_type": "code",
   "execution_count": 90,
   "metadata": {},
   "outputs": [],
   "source": [
    "del all_FC\n",
    "output_size = 8\n",
    "max_epochs = 200\n",
    "n_epochs_stop = 5"
   ]
  },
  {
   "cell_type": "code",
   "execution_count": 91,
   "metadata": {},
   "outputs": [],
   "source": [
    "class Net(nn.Module):\n",
    "    def __init__(self, nHidden):\n",
    "        super(Net, self).__init__()\n",
    "        self.conv1 = nn.Conv2d(1, 6, kernel_size=5)\n",
    "        self.conv2 = nn.Conv2d(6, 12, kernel_size=5)\n",
    "        self.conv2_bn = nn.BatchNorm2d(12)\n",
    "        self.conv2_drop = nn.Dropout2d()\n",
    "        self.fc1 = nn.Linear(nHidden, 128)\n",
    "        self.fc2 = nn.Linear(128, 8)\n",
    "\n",
    "    def forward(self, x):\n",
    "        x = F.relu(F.max_pool2d(self.conv1(x), (3,3)))\n",
    "        x = F.relu(F.max_pool2d(self.conv2_bn(self.conv2(x)), (3,3)))\n",
    "        x = x.view(-1, self.num_flat_features(x))\n",
    "        x = F.relu(self.fc1(x))\n",
    "        x = self.fc2(x)\n",
    "        return x\n",
    "    \n",
    "    def num_flat_features(self, x):\n",
    "        size = x.size()[1:]  # all dimensions except the batch dimension\n",
    "        num_features = 1\n",
    "        for s in size:\n",
    "            num_features *= s\n",
    "        return num_features\n",
    "\n",
    "hidden_dict = {100: 1200, 200: 5808, 300: 13068, 400: 23232, 500: 36300}\n",
    "model = Net(hidden_dict[parc])\n"
   ]
  },
  {
   "cell_type": "code",
   "execution_count": 92,
   "metadata": {
    "scrolled": true
   },
   "outputs": [
    {
     "name": "stdout",
     "output_type": "stream",
     "text": [
      "Net(\n",
      "  (conv1): Conv2d(1, 6, kernel_size=(5, 5), stride=(1, 1))\n",
      "  (conv2): Conv2d(6, 12, kernel_size=(5, 5), stride=(1, 1))\n",
      "  (conv2_bn): BatchNorm2d(12, eps=1e-05, momentum=0.1, affine=True, track_running_stats=True)\n",
      "  (conv2_drop): Dropout2d(p=0.5, inplace=False)\n",
      "  (fc1): Linear(in_features=1200, out_features=128, bias=True)\n",
      "  (fc2): Linear(in_features=128, out_features=8, bias=True)\n",
      ")\n"
     ]
    }
   ],
   "source": [
    "loss_fn = nn.CrossEntropyLoss()\n",
    "opt = optim.SGD(model.parameters(), lr=0.001)\n",
    "if use_cuda:\n",
    "    model = model.cuda()\n",
    "print(model)"
   ]
  },
  {
   "cell_type": "code",
   "execution_count": 93,
   "metadata": {},
   "outputs": [],
   "source": [
    "load_model = False\n",
    "if load_model:\n",
    "    model = Net(hidden_dict[parc])\n",
    "    model.load_state_dict(torch.load(\"../trained_models/schaefer200_pca\"))\n",
    "    if use_cuda:\n",
    "        model = model.cuda()\n",
    "    print(model)"
   ]
  },
  {
   "cell_type": "code",
   "execution_count": 94,
   "metadata": {},
   "outputs": [
    {
     "name": "stdout",
     "output_type": "stream",
     "text": [
      "Epoch 1/200, train loss: 2.0944, train acc: 0.154, val loss: 2.070, val acc: 0.182\n",
      "Epoch 2/200, train loss: 2.0644, train acc: 0.192, val loss: 2.051, val acc: 0.229\n",
      "Epoch 3/200, train loss: 2.0467, train acc: 0.238, val loss: 2.035, val acc: 0.287\n",
      "Epoch 4/200, train loss: 2.0298, train acc: 0.287, val loss: 2.018, val acc: 0.328\n",
      "Epoch 5/200, train loss: 2.0119, train acc: 0.331, val loss: 2.000, val acc: 0.371\n",
      "Epoch 6/200, train loss: 1.9927, train acc: 0.371, val loss: 1.980, val acc: 0.404\n",
      "Epoch 7/200, train loss: 1.9710, train acc: 0.409, val loss: 1.957, val acc: 0.436\n",
      "Epoch 8/200, train loss: 1.9456, train acc: 0.448, val loss: 1.930, val acc: 0.481\n",
      "Epoch 9/200, train loss: 1.9157, train acc: 0.486, val loss: 1.898, val acc: 0.515\n",
      "Epoch 10/200, train loss: 1.8816, train acc: 0.529, val loss: 1.862, val acc: 0.544\n",
      "Epoch 11/200, train loss: 1.8435, train acc: 0.560, val loss: 1.822, val acc: 0.575\n",
      "Epoch 12/200, train loss: 1.8014, train acc: 0.586, val loss: 1.778, val acc: 0.594\n",
      "Epoch 13/200, train loss: 1.7556, train acc: 0.609, val loss: 1.731, val acc: 0.623\n",
      "Epoch 14/200, train loss: 1.7067, train acc: 0.636, val loss: 1.681, val acc: 0.641\n",
      "Epoch 15/200, train loss: 1.6556, train acc: 0.659, val loss: 1.630, val acc: 0.658\n",
      "Epoch 16/200, train loss: 1.6024, train acc: 0.680, val loss: 1.577, val acc: 0.676\n",
      "Epoch 17/200, train loss: 1.5480, train acc: 0.697, val loss: 1.524, val acc: 0.697\n",
      "Epoch 18/200, train loss: 1.4946, train acc: 0.716, val loss: 1.472, val acc: 0.709\n",
      "Epoch 19/200, train loss: 1.4422, train acc: 0.729, val loss: 1.422, val acc: 0.726\n",
      "Epoch 20/200, train loss: 1.3907, train acc: 0.744, val loss: 1.373, val acc: 0.746\n",
      "Epoch 21/200, train loss: 1.3403, train acc: 0.757, val loss: 1.325, val acc: 0.760\n",
      "Epoch 22/200, train loss: 1.2909, train acc: 0.764, val loss: 1.277, val acc: 0.769\n",
      "Epoch 23/200, train loss: 1.2426, train acc: 0.773, val loss: 1.231, val acc: 0.775\n",
      "Epoch 24/200, train loss: 1.1955, train acc: 0.782, val loss: 1.187, val acc: 0.777\n",
      "Epoch 25/200, train loss: 1.1496, train acc: 0.791, val loss: 1.143, val acc: 0.785\n",
      "Epoch 26/200, train loss: 1.1051, train acc: 0.795, val loss: 1.101, val acc: 0.793\n",
      "Epoch 27/200, train loss: 1.0622, train acc: 0.802, val loss: 1.061, val acc: 0.795\n",
      "Epoch 28/200, train loss: 1.0209, train acc: 0.808, val loss: 1.022, val acc: 0.796\n",
      "Epoch 29/200, train loss: 0.9815, train acc: 0.815, val loss: 0.985, val acc: 0.801\n",
      "Epoch 30/200, train loss: 0.9439, train acc: 0.820, val loss: 0.950, val acc: 0.805\n",
      "Epoch 31/200, train loss: 0.9082, train acc: 0.825, val loss: 0.917, val acc: 0.809\n",
      "Epoch 32/200, train loss: 0.8744, train acc: 0.831, val loss: 0.885, val acc: 0.817\n",
      "Epoch 33/200, train loss: 0.8424, train acc: 0.835, val loss: 0.855, val acc: 0.822\n",
      "Epoch 34/200, train loss: 0.8122, train acc: 0.840, val loss: 0.827, val acc: 0.827\n",
      "Epoch 35/200, train loss: 0.7838, train acc: 0.846, val loss: 0.801, val acc: 0.827\n",
      "Epoch 36/200, train loss: 0.7570, train acc: 0.849, val loss: 0.776, val acc: 0.829\n",
      "Epoch 37/200, train loss: 0.7318, train acc: 0.853, val loss: 0.752, val acc: 0.835\n",
      "Epoch 38/200, train loss: 0.7081, train acc: 0.857, val loss: 0.730, val acc: 0.834\n",
      "Epoch 39/200, train loss: 0.6857, train acc: 0.861, val loss: 0.709, val acc: 0.839\n",
      "Epoch 40/200, train loss: 0.6645, train acc: 0.865, val loss: 0.690, val acc: 0.842\n",
      "Epoch 41/200, train loss: 0.6445, train acc: 0.867, val loss: 0.671, val acc: 0.844\n",
      "Epoch 42/200, train loss: 0.6256, train acc: 0.869, val loss: 0.653, val acc: 0.848\n",
      "Epoch 43/200, train loss: 0.6077, train acc: 0.872, val loss: 0.637, val acc: 0.852\n",
      "Epoch 44/200, train loss: 0.5907, train acc: 0.875, val loss: 0.621, val acc: 0.855\n",
      "Epoch 45/200, train loss: 0.5746, train acc: 0.878, val loss: 0.606, val acc: 0.856\n",
      "Epoch 46/200, train loss: 0.5591, train acc: 0.882, val loss: 0.591, val acc: 0.859\n",
      "Epoch 47/200, train loss: 0.5445, train acc: 0.885, val loss: 0.578, val acc: 0.860\n",
      "Epoch 48/200, train loss: 0.5304, train acc: 0.888, val loss: 0.564, val acc: 0.860\n",
      "Epoch 49/200, train loss: 0.5170, train acc: 0.891, val loss: 0.552, val acc: 0.864\n",
      "Epoch 50/200, train loss: 0.5041, train acc: 0.892, val loss: 0.540, val acc: 0.867\n",
      "Epoch 51/200, train loss: 0.4918, train acc: 0.895, val loss: 0.528, val acc: 0.871\n",
      "Epoch 52/200, train loss: 0.4800, train acc: 0.899, val loss: 0.517, val acc: 0.876\n",
      "Epoch 53/200, train loss: 0.4687, train acc: 0.900, val loss: 0.507, val acc: 0.879\n",
      "Epoch 54/200, train loss: 0.4578, train acc: 0.901, val loss: 0.497, val acc: 0.880\n",
      "Epoch 55/200, train loss: 0.4473, train acc: 0.903, val loss: 0.487, val acc: 0.881\n",
      "Epoch 56/200, train loss: 0.4371, train acc: 0.905, val loss: 0.477, val acc: 0.884\n",
      "Epoch 57/200, train loss: 0.4274, train acc: 0.908, val loss: 0.468, val acc: 0.888\n",
      "Epoch 58/200, train loss: 0.4181, train acc: 0.911, val loss: 0.460, val acc: 0.889\n",
      "Epoch 59/200, train loss: 0.4090, train acc: 0.913, val loss: 0.451, val acc: 0.891\n",
      "Epoch 60/200, train loss: 0.4004, train acc: 0.915, val loss: 0.443, val acc: 0.892\n",
      "Epoch 61/200, train loss: 0.3919, train acc: 0.917, val loss: 0.435, val acc: 0.896\n",
      "Epoch 62/200, train loss: 0.3838, train acc: 0.918, val loss: 0.428, val acc: 0.897\n",
      "Epoch 63/200, train loss: 0.3760, train acc: 0.921, val loss: 0.420, val acc: 0.897\n",
      "Epoch 64/200, train loss: 0.3685, train acc: 0.922, val loss: 0.413, val acc: 0.899\n",
      "Epoch 65/200, train loss: 0.3612, train acc: 0.923, val loss: 0.406, val acc: 0.900\n",
      "Epoch 66/200, train loss: 0.3541, train acc: 0.925, val loss: 0.400, val acc: 0.903\n",
      "Epoch 67/200, train loss: 0.3473, train acc: 0.927, val loss: 0.393, val acc: 0.907\n",
      "Epoch 68/200, train loss: 0.3407, train acc: 0.928, val loss: 0.387, val acc: 0.911\n",
      "Epoch 69/200, train loss: 0.3343, train acc: 0.929, val loss: 0.381, val acc: 0.911\n",
      "Epoch 70/200, train loss: 0.3281, train acc: 0.931, val loss: 0.375, val acc: 0.913\n",
      "Epoch 71/200, train loss: 0.3220, train acc: 0.932, val loss: 0.370, val acc: 0.914\n",
      "Epoch 72/200, train loss: 0.3162, train acc: 0.934, val loss: 0.365, val acc: 0.915\n",
      "Epoch 73/200, train loss: 0.3105, train acc: 0.934, val loss: 0.359, val acc: 0.918\n",
      "Epoch 74/200, train loss: 0.3050, train acc: 0.935, val loss: 0.354, val acc: 0.919\n",
      "Epoch 75/200, train loss: 0.2997, train acc: 0.935, val loss: 0.349, val acc: 0.923\n",
      "Epoch 76/200, train loss: 0.2945, train acc: 0.936, val loss: 0.345, val acc: 0.924\n",
      "Epoch 77/200, train loss: 0.2895, train acc: 0.937, val loss: 0.340, val acc: 0.926\n",
      "Epoch 78/200, train loss: 0.2846, train acc: 0.939, val loss: 0.336, val acc: 0.927\n",
      "Epoch 79/200, train loss: 0.2799, train acc: 0.939, val loss: 0.332, val acc: 0.927\n",
      "Epoch 80/200, train loss: 0.2753, train acc: 0.941, val loss: 0.328, val acc: 0.927\n",
      "Epoch 81/200, train loss: 0.2709, train acc: 0.941, val loss: 0.324, val acc: 0.927\n",
      "Epoch 82/200, train loss: 0.2665, train acc: 0.942, val loss: 0.320, val acc: 0.927\n",
      "Epoch 83/200, train loss: 0.2623, train acc: 0.942, val loss: 0.316, val acc: 0.927\n",
      "Epoch 84/200, train loss: 0.2582, train acc: 0.943, val loss: 0.312, val acc: 0.927\n",
      "Epoch 85/200, train loss: 0.2542, train acc: 0.944, val loss: 0.309, val acc: 0.927\n",
      "Epoch 86/200, train loss: 0.2503, train acc: 0.945, val loss: 0.305, val acc: 0.929\n",
      "Epoch 87/200, train loss: 0.2465, train acc: 0.947, val loss: 0.302, val acc: 0.930\n",
      "Epoch 88/200, train loss: 0.2428, train acc: 0.948, val loss: 0.299, val acc: 0.930\n",
      "Epoch 89/200, train loss: 0.2392, train acc: 0.949, val loss: 0.296, val acc: 0.930\n",
      "Epoch 90/200, train loss: 0.2356, train acc: 0.950, val loss: 0.293, val acc: 0.930\n",
      "Epoch 91/200, train loss: 0.2322, train acc: 0.951, val loss: 0.290, val acc: 0.930\n",
      "Epoch 92/200, train loss: 0.2289, train acc: 0.952, val loss: 0.287, val acc: 0.930\n",
      "Epoch 93/200, train loss: 0.2256, train acc: 0.953, val loss: 0.284, val acc: 0.932\n",
      "Epoch 94/200, train loss: 0.2225, train acc: 0.954, val loss: 0.281, val acc: 0.932\n",
      "Epoch 95/200, train loss: 0.2194, train acc: 0.955, val loss: 0.279, val acc: 0.932\n",
      "Epoch 96/200, train loss: 0.2164, train acc: 0.955, val loss: 0.276, val acc: 0.932\n",
      "Epoch 97/200, train loss: 0.2134, train acc: 0.956, val loss: 0.274, val acc: 0.933\n",
      "Epoch 98/200, train loss: 0.2105, train acc: 0.957, val loss: 0.271, val acc: 0.933\n",
      "Epoch 99/200, train loss: 0.2077, train acc: 0.957, val loss: 0.269, val acc: 0.933\n",
      "Epoch 100/200, train loss: 0.2050, train acc: 0.958, val loss: 0.266, val acc: 0.933\n",
      "Epoch 101/200, train loss: 0.2023, train acc: 0.959, val loss: 0.264, val acc: 0.933\n",
      "Epoch 102/200, train loss: 0.1997, train acc: 0.959, val loss: 0.262, val acc: 0.935\n",
      "Epoch 103/200, train loss: 0.1971, train acc: 0.960, val loss: 0.260, val acc: 0.937\n",
      "Epoch 104/200, train loss: 0.1946, train acc: 0.961, val loss: 0.257, val acc: 0.936\n",
      "Epoch 105/200, train loss: 0.1921, train acc: 0.962, val loss: 0.255, val acc: 0.937\n",
      "Epoch 106/200, train loss: 0.1897, train acc: 0.962, val loss: 0.253, val acc: 0.937\n",
      "Epoch 107/200, train loss: 0.1874, train acc: 0.963, val loss: 0.251, val acc: 0.937\n",
      "Epoch 108/200, train loss: 0.1851, train acc: 0.963, val loss: 0.249, val acc: 0.937\n",
      "Epoch 109/200, train loss: 0.1828, train acc: 0.964, val loss: 0.247, val acc: 0.937\n",
      "Epoch 110/200, train loss: 0.1806, train acc: 0.964, val loss: 0.245, val acc: 0.937\n",
      "Epoch 111/200, train loss: 0.1784, train acc: 0.965, val loss: 0.244, val acc: 0.937\n",
      "Epoch 112/200, train loss: 0.1763, train acc: 0.965, val loss: 0.242, val acc: 0.937\n",
      "Epoch 113/200, train loss: 0.1742, train acc: 0.966, val loss: 0.240, val acc: 0.937\n",
      "Epoch 114/200, train loss: 0.1722, train acc: 0.966, val loss: 0.239, val acc: 0.937\n",
      "Epoch 115/200, train loss: 0.1702, train acc: 0.966, val loss: 0.237, val acc: 0.937\n",
      "Epoch 116/200, train loss: 0.1682, train acc: 0.967, val loss: 0.235, val acc: 0.938\n",
      "Epoch 117/200, train loss: 0.1662, train acc: 0.967, val loss: 0.234, val acc: 0.937\n",
      "Epoch 118/200, train loss: 0.1643, train acc: 0.968, val loss: 0.232, val acc: 0.938\n",
      "Epoch 119/200, train loss: 0.1625, train acc: 0.968, val loss: 0.231, val acc: 0.941\n",
      "Epoch 120/200, train loss: 0.1606, train acc: 0.968, val loss: 0.229, val acc: 0.941\n",
      "Epoch 121/200, train loss: 0.1588, train acc: 0.969, val loss: 0.228, val acc: 0.941\n",
      "Epoch 122/200, train loss: 0.1571, train acc: 0.969, val loss: 0.226, val acc: 0.941\n",
      "Epoch 123/200, train loss: 0.1553, train acc: 0.969, val loss: 0.225, val acc: 0.941\n",
      "Epoch 124/200, train loss: 0.1536, train acc: 0.970, val loss: 0.224, val acc: 0.941\n",
      "Epoch 125/200, train loss: 0.1520, train acc: 0.971, val loss: 0.222, val acc: 0.941\n",
      "Epoch 126/200, train loss: 0.1503, train acc: 0.971, val loss: 0.221, val acc: 0.941\n",
      "Epoch 127/200, train loss: 0.1487, train acc: 0.971, val loss: 0.220, val acc: 0.941\n",
      "Epoch 128/200, train loss: 0.1471, train acc: 0.971, val loss: 0.219, val acc: 0.941\n",
      "Epoch 129/200, train loss: 0.1456, train acc: 0.972, val loss: 0.217, val acc: 0.941\n",
      "Epoch 130/200, train loss: 0.1440, train acc: 0.972, val loss: 0.216, val acc: 0.940\n",
      "Epoch 131/200, train loss: 0.1425, train acc: 0.973, val loss: 0.215, val acc: 0.942\n",
      "Epoch 132/200, train loss: 0.1410, train acc: 0.973, val loss: 0.214, val acc: 0.941\n",
      "Epoch 133/200, train loss: 0.1395, train acc: 0.973, val loss: 0.213, val acc: 0.941\n",
      "Epoch 134/200, train loss: 0.1381, train acc: 0.974, val loss: 0.212, val acc: 0.941\n",
      "Epoch 135/200, train loss: 0.1367, train acc: 0.974, val loss: 0.211, val acc: 0.942\n",
      "Epoch 136/200, train loss: 0.1353, train acc: 0.974, val loss: 0.210, val acc: 0.942\n",
      "Epoch 137/200, train loss: 0.1339, train acc: 0.974, val loss: 0.209, val acc: 0.943\n",
      "Epoch 138/200, train loss: 0.1325, train acc: 0.974, val loss: 0.208, val acc: 0.943\n",
      "Epoch 139/200, train loss: 0.1312, train acc: 0.974, val loss: 0.207, val acc: 0.943\n",
      "Epoch 140/200, train loss: 0.1298, train acc: 0.974, val loss: 0.206, val acc: 0.943\n",
      "Epoch 141/200, train loss: 0.1285, train acc: 0.975, val loss: 0.205, val acc: 0.944\n",
      "Epoch 142/200, train loss: 0.1272, train acc: 0.975, val loss: 0.204, val acc: 0.944\n",
      "Epoch 143/200, train loss: 0.1260, train acc: 0.975, val loss: 0.203, val acc: 0.944\n",
      "Epoch 144/200, train loss: 0.1247, train acc: 0.976, val loss: 0.202, val acc: 0.945\n",
      "Epoch 145/200, train loss: 0.1235, train acc: 0.976, val loss: 0.201, val acc: 0.946\n",
      "Epoch 146/200, train loss: 0.1223, train acc: 0.976, val loss: 0.200, val acc: 0.947\n",
      "Epoch 147/200, train loss: 0.1211, train acc: 0.976, val loss: 0.200, val acc: 0.946\n",
      "Epoch 148/200, train loss: 0.1199, train acc: 0.976, val loss: 0.199, val acc: 0.947\n",
      "Epoch 149/200, train loss: 0.1187, train acc: 0.976, val loss: 0.198, val acc: 0.946\n",
      "Epoch 150/200, train loss: 0.1176, train acc: 0.976, val loss: 0.197, val acc: 0.946\n",
      "Epoch 151/200, train loss: 0.1165, train acc: 0.977, val loss: 0.196, val acc: 0.947\n",
      "Epoch 152/200, train loss: 0.1153, train acc: 0.977, val loss: 0.195, val acc: 0.947\n",
      "Epoch 153/200, train loss: 0.1142, train acc: 0.978, val loss: 0.195, val acc: 0.948\n",
      "Epoch 154/200, train loss: 0.1131, train acc: 0.979, val loss: 0.194, val acc: 0.947\n",
      "Epoch 155/200, train loss: 0.1121, train acc: 0.979, val loss: 0.193, val acc: 0.947\n",
      "Epoch 156/200, train loss: 0.1110, train acc: 0.979, val loss: 0.192, val acc: 0.947\n",
      "Epoch 157/200, train loss: 0.1100, train acc: 0.979, val loss: 0.192, val acc: 0.948\n",
      "Epoch 158/200, train loss: 0.1089, train acc: 0.980, val loss: 0.191, val acc: 0.947\n",
      "Epoch 159/200, train loss: 0.1079, train acc: 0.980, val loss: 0.190, val acc: 0.948\n",
      "Epoch 160/200, train loss: 0.1069, train acc: 0.980, val loss: 0.189, val acc: 0.948\n",
      "Epoch 161/200, train loss: 0.1059, train acc: 0.981, val loss: 0.189, val acc: 0.948\n",
      "Epoch 162/200, train loss: 0.1049, train acc: 0.981, val loss: 0.188, val acc: 0.948\n",
      "Epoch 163/200, train loss: 0.1040, train acc: 0.982, val loss: 0.187, val acc: 0.948\n",
      "Epoch 164/200, train loss: 0.1030, train acc: 0.982, val loss: 0.187, val acc: 0.948\n",
      "Epoch 165/200, train loss: 0.1020, train acc: 0.982, val loss: 0.186, val acc: 0.948\n",
      "Epoch 166/200, train loss: 0.1011, train acc: 0.982, val loss: 0.186, val acc: 0.948\n",
      "Epoch 167/200, train loss: 0.1002, train acc: 0.982, val loss: 0.185, val acc: 0.948\n",
      "Epoch 168/200, train loss: 0.0993, train acc: 0.983, val loss: 0.184, val acc: 0.948\n",
      "Epoch 169/200, train loss: 0.0984, train acc: 0.983, val loss: 0.184, val acc: 0.950\n",
      "Epoch 170/200, train loss: 0.0975, train acc: 0.983, val loss: 0.183, val acc: 0.950\n",
      "Epoch 171/200, train loss: 0.0966, train acc: 0.983, val loss: 0.183, val acc: 0.950\n",
      "Epoch 172/200, train loss: 0.0957, train acc: 0.983, val loss: 0.182, val acc: 0.950\n",
      "Epoch 173/200, train loss: 0.0949, train acc: 0.984, val loss: 0.181, val acc: 0.951\n",
      "Epoch 174/200, train loss: 0.0940, train acc: 0.984, val loss: 0.181, val acc: 0.951\n",
      "Epoch 175/200, train loss: 0.0932, train acc: 0.985, val loss: 0.180, val acc: 0.951\n",
      "Epoch 176/200, train loss: 0.0924, train acc: 0.985, val loss: 0.180, val acc: 0.951\n",
      "Epoch 177/200, train loss: 0.0916, train acc: 0.985, val loss: 0.179, val acc: 0.951\n",
      "Epoch 178/200, train loss: 0.0907, train acc: 0.985, val loss: 0.179, val acc: 0.951\n",
      "Epoch 179/200, train loss: 0.0899, train acc: 0.985, val loss: 0.178, val acc: 0.951\n",
      "Epoch 180/200, train loss: 0.0891, train acc: 0.985, val loss: 0.178, val acc: 0.951\n",
      "Epoch 181/200, train loss: 0.0884, train acc: 0.985, val loss: 0.177, val acc: 0.951\n",
      "Epoch 182/200, train loss: 0.0876, train acc: 0.985, val loss: 0.177, val acc: 0.950\n",
      "Epoch 183/200, train loss: 0.0868, train acc: 0.985, val loss: 0.176, val acc: 0.950\n",
      "Epoch 184/200, train loss: 0.0860, train acc: 0.985, val loss: 0.176, val acc: 0.950\n",
      "Epoch 185/200, train loss: 0.0853, train acc: 0.985, val loss: 0.175, val acc: 0.950\n",
      "Epoch 186/200, train loss: 0.0846, train acc: 0.986, val loss: 0.175, val acc: 0.950\n",
      "Epoch 187/200, train loss: 0.0838, train acc: 0.986, val loss: 0.174, val acc: 0.950\n",
      "Epoch 188/200, train loss: 0.0831, train acc: 0.987, val loss: 0.174, val acc: 0.950\n",
      "Epoch 189/200, train loss: 0.0824, train acc: 0.987, val loss: 0.173, val acc: 0.951\n",
      "Epoch 190/200, train loss: 0.0817, train acc: 0.987, val loss: 0.173, val acc: 0.951\n",
      "Epoch 191/200, train loss: 0.0810, train acc: 0.987, val loss: 0.172, val acc: 0.952\n",
      "Epoch 192/200, train loss: 0.0803, train acc: 0.987, val loss: 0.172, val acc: 0.953\n",
      "Epoch 193/200, train loss: 0.0796, train acc: 0.987, val loss: 0.172, val acc: 0.953\n",
      "Epoch 194/200, train loss: 0.0789, train acc: 0.988, val loss: 0.171, val acc: 0.953\n",
      "Epoch 195/200, train loss: 0.0782, train acc: 0.988, val loss: 0.171, val acc: 0.953\n",
      "Epoch 196/200, train loss: 0.0776, train acc: 0.988, val loss: 0.170, val acc: 0.953\n",
      "Epoch 197/200, train loss: 0.0769, train acc: 0.989, val loss: 0.170, val acc: 0.953\n",
      "Epoch 198/200, train loss: 0.0762, train acc: 0.989, val loss: 0.170, val acc: 0.953\n",
      "Epoch 199/200, train loss: 0.0756, train acc: 0.989, val loss: 0.169, val acc: 0.953\n",
      "Epoch 200/200, train loss: 0.0749, train acc: 0.989, val loss: 0.169, val acc: 0.952\n"
     ]
    }
   ],
   "source": [
    "history = {}\n",
    "history['loss'] = []\n",
    "history['val_loss'] = []\n",
    "history['acc'] = []\n",
    "history['val_acc'] = []\n",
    "min_val_loss = np.Inf\n",
    "early_stop = False\n",
    "# Loop over epochs\n",
    "\n",
    "\n",
    "for epoch in range(max_epochs):\n",
    "    # Training\n",
    "    model.train()\n",
    "    train_loss         = 0.0\n",
    "    num_train_correct  = 0\n",
    "    num_train_examples = 0\n",
    "    for local_batch, local_labels in train_loader:\n",
    "        # Transfer to GPU\n",
    "        if use_cuda:\n",
    "            local_batch, local_labels = local_batch.to(device), local_labels.to(device)\n",
    "\n",
    "\n",
    "\n",
    "        opt.zero_grad()\n",
    "        output = model(local_batch)\n",
    "        loss = loss_fn(output, local_labels)\n",
    "        loss.backward()\n",
    "        opt.step()\n",
    "\n",
    "        train_loss += loss.data.item() * local_batch.size(0)\n",
    "        num_train_correct  += (torch.max(output, 1)[1] == local_labels).sum().item()\n",
    "        num_train_examples += local_batch.shape[0]\n",
    "\n",
    "    train_acc = num_train_correct / num_train_examples\n",
    "    train_loss  = train_loss / len(train_loader.dataset)\n",
    "\n",
    "    # Validation\n",
    "    model.eval()\n",
    "    val_loss       = 0.0\n",
    "    num_val_correct  = 0\n",
    "    num_val_examples = 0\n",
    "    with torch.set_grad_enabled(False):\n",
    "        for local_batch, local_labels in val_loader:\n",
    "            # Transfer to GPU\n",
    "            if use_cuda:\n",
    "                local_batch, local_labels = local_batch.to(device), local_labels.to(device)\n",
    "            output = model(local_batch)\n",
    "            loss = loss_fn(output, local_labels)\n",
    "\n",
    "            val_loss += loss.data.item() * local_batch.size(0)\n",
    "            num_val_correct  += (torch.max(output, 1)[1] == local_labels).sum().item()\n",
    "            num_val_examples += local_batch.shape[0]\n",
    "\n",
    "        val_acc  = num_val_correct / num_val_examples\n",
    "        val_loss = val_loss / len(val_loader.dataset)\n",
    "\n",
    "        if val_loss < min_val_loss:\n",
    "            epochs_no_improve = 0\n",
    "            min_val_loss = val_loss\n",
    "        else:\n",
    "            epochs_no_improve += 1\n",
    "  # Check early stopping condition\n",
    "        if epochs_no_improve == n_epochs_stop:\n",
    "            early_stop = print('Early stopping!')\n",
    "            break\n",
    "\n",
    "        \n",
    "    print(f'Epoch {epoch+1}/{max_epochs}, train loss: {train_loss:5.4f}, train acc: {train_acc:5.3f}, val loss: {val_loss:5.3f}, val acc: {val_acc:5.3f}')\n",
    "    \n",
    "    \n",
    "    history['loss'].append(train_loss)\n",
    "    history['val_loss'].append(val_loss)\n",
    "    history['acc'].append(train_acc)\n",
    "    history['val_acc'].append(val_acc)\n",
    "    \n",
    "    if early_stop:\n",
    "        print(\"Stopped\")\n",
    "        break"
   ]
  },
  {
   "cell_type": "code",
   "execution_count": null,
   "metadata": {},
   "outputs": [],
   "source": [
    "local_batch.device"
   ]
  },
  {
   "cell_type": "code",
   "execution_count": null,
   "metadata": {},
   "outputs": [],
   "source": [
    "torch.save(model.state_dict(), \"../trained_models/schaefer200_pca\")"
   ]
  },
  {
   "cell_type": "code",
   "execution_count": 95,
   "metadata": {},
   "outputs": [],
   "source": [
    "model.eval()\n",
    "num_correct  = 0\n",
    "num_examples = 0\n",
    "with torch.set_grad_enabled(False):\n",
    "    for local_batch, local_labels in test_loader:\n",
    "        # Transfer to GPU\n",
    "        if use_cuda:\n",
    "            local_batch, local_labels = local_batch.to(device), local_labels.to(device)\n",
    "        output = model(local_batch)\n",
    "        num_correct  += (torch.max(output, 1)[1] == local_labels).sum().item()\n",
    "        num_examples += local_batch.shape[0]\n",
    "            \n",
    "    test_acc  = num_correct / num_examples"
   ]
  },
  {
   "cell_type": "code",
   "execution_count": 96,
   "metadata": {},
   "outputs": [
    {
     "name": "stderr",
     "output_type": "stream",
     "text": [
      "The PostScript backend does not support transparency; partially transparent artists will be rendered opaque.\n",
      "The PostScript backend does not support transparency; partially transparent artists will be rendered opaque.\n",
      "The PostScript backend does not support transparency; partially transparent artists will be rendered opaque.\n",
      "The PostScript backend does not support transparency; partially transparent artists will be rendered opaque.\n"
     ]
    },
    {
     "data": {
      "image/png": "[encoded data removed]",
      "text/plain": [
       "<Figure size 432x288 with 1 Axes>"
      ]
     },
     "metadata": {
      "needs_background": "light"
     },
     "output_type": "display_data"
    }
   ],
   "source": [
    "plt.plot(history['loss'])\n",
    "plt.plot(history['val_loss'])\n",
    "plt.title('Model loss - Tangent Kullback')\n",
    "plt.ylabel('Loss')\n",
    "plt.xlabel('Epoch')\n",
    "plt.legend(['Train', 'Validation'], loc='upper right')\n",
    "plt.savefig('../results/tasks/loss_kullback_sym.eps', bbox_inches='tight', transparent=True)\n",
    "plt.show()"
   ]
  },
  {
   "cell_type": "code",
   "execution_count": 97,
   "metadata": {},
   "outputs": [
    {
     "name": "stderr",
     "output_type": "stream",
     "text": [
      "The PostScript backend does not support transparency; partially transparent artists will be rendered opaque.\n",
      "The PostScript backend does not support transparency; partially transparent artists will be rendered opaque.\n",
      "The PostScript backend does not support transparency; partially transparent artists will be rendered opaque.\n",
      "The PostScript backend does not support transparency; partially transparent artists will be rendered opaque.\n"
     ]
    },
    {
     "data": {
      "image/png": "[encoded data removed]",
      "text/plain": [
       "<Figure size 432x288 with 1 Axes>"
      ]
     },
     "metadata": {
      "needs_background": "light"
     },
     "output_type": "display_data"
    }
   ],
   "source": [
    "plt.plot(history['acc'])\n",
    "plt.plot(history['val_acc'])\n",
    "plt.title('Task Identification Rate of CNN over 200 Epochs - Tangent Kullback')\n",
    "plt.ylabel('Task Identification Rate')\n",
    "plt.xlabel('Epoch')\n",
    "plt.legend(['Train', 'Validation'], loc='lower right')\n",
    "plt.savefig('../results/tasks/rate_kullback_sym.eps', bbox_inches='tight', transparent=True)\n",
    "plt.show()"
   ]
  },
  {
   "cell_type": "code",
   "execution_count": null,
   "metadata": {},
   "outputs": [],
   "source": [
    "test_acc"
   ]
  },
  {
   "cell_type": "code",
   "execution_count": null,
   "metadata": {},
   "outputs": [],
   "source": [
    "test_labels = labels[test_idx]\n",
    "with torch.set_grad_enabled(False):\n",
    "    test_preds = get_all_preds(model, test_loader)"
   ]
  },
  {
   "cell_type": "code",
   "execution_count": null,
   "metadata": {},
   "outputs": [],
   "source": [
    "stacked = torch.stack((test_labels.to(device), test_preds.argmax(dim=1)),dim=1)"
   ]
  },
  {
   "cell_type": "code",
   "execution_count": null,
   "metadata": {},
   "outputs": [],
   "source": [
    "cmt = torch.zeros(8,8,dtype=torch.int64)"
   ]
  },
  {
   "cell_type": "code",
   "execution_count": null,
   "metadata": {},
   "outputs": [],
   "source": [
    "for p in stacked:\n",
    "    tl,pl = p.tolist()\n",
    "    cmt[tl,pl] = cmt[tl,pl] + 1"
   ]
  },
  {
   "cell_type": "code",
   "execution_count": null,
   "metadata": {},
   "outputs": [],
   "source": [
    "cm = confusion_matrix(test_labels.cpu(), test_preds.cpu().argmax(dim=1))"
   ]
  },
  {
   "cell_type": "code",
   "execution_count": null,
   "metadata": {},
   "outputs": [],
   "source": []
  },
  {
   "cell_type": "code",
   "execution_count": null,
   "metadata": {},
   "outputs": [],
   "source": [
    "names = ('Rest', 'Emotion', 'Gambling', 'Language', 'Motor', 'Relational', 'Social', 'Working Memory')\n",
    "plt.figure(figsize=(8,8))\n",
    "plot_confusion_matrix(cm, names)"
   ]
  },
  {
   "cell_type": "code",
   "execution_count": null,
   "metadata": {},
   "outputs": [],
   "source": []
  },
  {
   "cell_type": "code",
   "execution_count": null,
   "metadata": {},
   "outputs": [],
   "source": []
  }
 ],
 "metadata": {
  "@webio": {
   "lastCommId": null,
   "lastKernelId": null
  },
  "kernelspec": {
   "display_name": "Python 3",
   "language": "python",
   "name": "python3"
  },
  "language_info": {
   "codemirror_mode": {
    "name": "ipython",
    "version": 3
   },
   "file_extension": ".py",
   "mimetype": "text/x-python",
   "name": "python",
   "nbconvert_exporter": "python",
   "pygments_lexer": "ipython3",
   "version": "3.7.7"
  }
 },
 "nbformat": 4,
 "nbformat_minor": 4
}
