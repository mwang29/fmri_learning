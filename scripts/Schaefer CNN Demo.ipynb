{
 "cells": [
  {
   "cell_type": "code",
   "execution_count": 1,
   "metadata": {},
   "outputs": [],
   "source": [
    "import numpy as np\n",
    "import scipy.io as sio\n",
    "import matplotlib.pyplot as plt\n",
    "import sklearn.decomposition\n",
    "import pickle\n",
    "from sklearn.metrics import confusion_matrix\n",
    "\n",
    "\n",
    "#with open('../data/schaefer.pickle', 'rb') as f:\n",
    "#    all_parc = pickle.load(f)"
   ]
  },
  {
   "cell_type": "code",
   "execution_count": 2,
   "metadata": {},
   "outputs": [],
   "source": [
    "import itertools\n",
    "import numpy as np\n",
    "import matplotlib.pyplot as plt\n",
    "\n",
    "def plot_confusion_matrix(cm, classes, normalize=False, title='Confusion matrix', cmap=plt.cm.Blues):\n",
    "    if normalize:\n",
    "        cm = cm.astype('float') / cm.sum(axis=1)[:, np.newaxis]\n",
    "        print(\"Normalized confusion matrix\")\n",
    "    else:\n",
    "        print('Confusion matrix, without normalization')\n",
    "\n",
    "    print(cm)\n",
    "    plt.imshow(cm, interpolation='nearest', cmap=cmap)\n",
    "    plt.title(title)\n",
    "    plt.colorbar()\n",
    "    tick_marks = np.arange(len(classes))\n",
    "    plt.xticks(tick_marks, classes, rotation=45)\n",
    "    plt.yticks(tick_marks, classes)\n",
    "\n",
    "    fmt = '.2f' if normalize else 'd'\n",
    "    thresh = cm.max() / 2.\n",
    "    for i, j in itertools.product(range(cm.shape[0]), range(cm.shape[1])):\n",
    "        plt.text(j, i, format(cm[i, j], fmt), horizontalalignment=\"center\", color=\"white\" if cm[i, j] > thresh else \"black\")\n",
    "\n",
    "    plt.tight_layout()\n",
    "    plt.ylabel('True label')\n",
    "    plt.xlabel('Predicted label')\n",
    "    plt.savefig('../results/confusion_matrix.png', bbox_inches='tight', transparent=True)"
   ]
  },
  {
   "cell_type": "code",
   "execution_count": 3,
   "metadata": {},
   "outputs": [],
   "source": [
    "def utri2mat(utri):\n",
    "    n = int(-1 + np.sqrt(1 + 8 * len(utri))) // 2\n",
    "    iu1 = np.triu_indices(n)\n",
    "    ret = np.empty((n, n))\n",
    "    ret[iu1] = utri\n",
    "    ret.T[iu1] = utri\n",
    "    return ret\n",
    "\n",
    "def pca_recon(FC, pctComp=None):\n",
    "    '''\n",
    "    Reconstructs FC based on number of principle components\n",
    "    '''\n",
    "    if pctComp is None:\n",
    "        return FC\n",
    "    nRegions = FC.shape[1]\n",
    "    FC = np.reshape(FC, (FC.shape[0], -1))\n",
    "    nComp = int(FC.shape[0] * pctComp)\n",
    "    mu = np.mean(FC, axis=0)\n",
    "    pca_rest = sklearn.decomposition.PCA()\n",
    "    pca_rest.fit(FC)\n",
    "    SCORES = pca_rest.transform(FC)[:, :nComp]\n",
    "    COEFFS = pca_rest.components_[:nComp, :]\n",
    "    FC_recon = np.dot(SCORES, COEFFS)\n",
    "    del SCORES, COEFFS\n",
    "    FC_recon += mu\n",
    "    FC_recon = np.reshape(FC_recon, (FC.shape[0], nRegions, nRegions))\n",
    "    return FC_recon\n",
    "\n",
    "def get_all_preds(model, loader):\n",
    "    all_preds = torch.tensor([]).to(device)\n",
    "    for images, labels in loader:\n",
    "        # Transfer to GPU\n",
    "        if use_cuda:\n",
    "            images, labels = images.to(device), labels.to(device)\n",
    "        preds = model(images)\n",
    "        all_preds = torch.cat((all_preds, preds), dim=0)\n",
    "    return all_preds\n"
   ]
  },
  {
   "cell_type": "code",
   "execution_count": 4,
   "metadata": {},
   "outputs": [],
   "source": [
    "# nSubj = int(all_parc[500]['FC_all_vec'].shape[0] / 16)\n",
    "# nFCs = int(all_parc[500]['FC_all_vec'].shape[0])\n",
    "# testFCs = all_parc[500]['FC_all_vec'][::2]\n",
    "# retest_FCs = all_parc[500]['FC_all_vec'][1::2]\n",
    "# reordered_FCs = np.float32(np.concatenate([testFCs, retest_FCs]))\n",
    "# del testFCs, retest_FCs\n",
    "# all_FC = np.zeros((nFCs, 500 + 13, 500 + 13),dtype=\"float32\")\n",
    "# for i in np.arange(0, nFCs):\n",
    "#     all_FC[i] = utri2mat(reordered_FCs[i])\n",
    "    \n",
    "# with open('../data/schaefer500.pickle', 'wb') as f:\n",
    "#     pickle.dump(all_FC, f, protocol=4)"
   ]
  },
  {
   "cell_type": "code",
   "execution_count": 5,
   "metadata": {},
   "outputs": [],
   "source": [
    "parc = 200\n",
    "with open(f'../data/schaefer{parc}.pickle', 'rb') as f:\n",
    "    all_FC = pickle.load(f)\n",
    "nSubj = int(all_FC.shape[0]/16)\n",
    "nFCs = int(all_FC.shape[0])\n",
    "all_FC = pca_recon(all_FC, 0.01)"
   ]
  },
  {
   "cell_type": "markdown",
   "metadata": {},
   "source": [
    "## Deep Learning"
   ]
  },
  {
   "cell_type": "code",
   "execution_count": 6,
   "metadata": {},
   "outputs": [
    {
     "name": "stdout",
     "output_type": "stream",
     "text": [
      "GPU detected. Will use GPU for training!\n"
     ]
    }
   ],
   "source": [
    "import torch\n",
    "from torch import nn, optim\n",
    "import torch.nn.functional as F\n",
    "from torch.utils import data\n",
    "from sklearn.preprocessing import StandardScaler\n",
    "\n",
    "# GPU is available? If so, we use it.\n",
    "use_cuda = torch.cuda.is_available() \n",
    "device = torch.device(\"cuda:0\" if use_cuda else \"cpu\")\n",
    "if use_cuda:\n",
    "    print(\"GPU detected. Will use GPU for training!\")\n",
    "    torch.backends.cudnn.benchmark = True\n",
    "else:\n",
    "    print(\"No GPU detected. Will use CPU for training.\")"
   ]
  },
  {
   "cell_type": "code",
   "execution_count": 7,
   "metadata": {},
   "outputs": [],
   "source": [
    "# Create labels corresponding to all_FC \n",
    "labels = torch.tensor(np.tile(np.repeat(np.arange(0,8),nSubj),2), dtype=torch.long)\n",
    "# Randomly shuffled indices for test FCs\n",
    "indices = np.random.permutation(nFCs)\n",
    "# Take subsets of data for training, validation, test\n",
    "train_val_idx = indices[:int(0.8*nFCs)]\n",
    "\n",
    "val_idx = train_val_idx[int(0.8*train_val_idx.shape[0]):]\n",
    "train_idx = train_val_idx[:int(0.8*train_val_idx.shape[0])]\n",
    "test_idx = indices[int(0.8*nFCs):]"
   ]
  },
  {
   "cell_type": "code",
   "execution_count": 8,
   "metadata": {},
   "outputs": [],
   "source": [
    "train_mean = np.mean(all_FC[train_idx])\n",
    "train_std = np.std(all_FC[train_idx])\n",
    "train_data = torch.FloatTensor((all_FC[train_idx] - train_mean) / train_std)\n",
    "val_data = torch.FloatTensor((all_FC[val_idx] - train_mean) / train_std)\n",
    "test_data = torch.FloatTensor((all_FC[test_idx] - train_mean) / train_std)"
   ]
  },
  {
   "cell_type": "code",
   "execution_count": 9,
   "metadata": {},
   "outputs": [],
   "source": [
    "train_data = train_data.view(train_data.shape[0], -1, train_data.shape[1], train_data.shape[2])\n",
    "val_data = val_data.view(val_data.shape[0], -1, val_data.shape[1], val_data.shape[2])\n",
    "test_data = test_data.view(test_data.shape[0], -1, test_data.shape[1], test_data.shape[2])"
   ]
  },
  {
   "cell_type": "code",
   "execution_count": 10,
   "metadata": {},
   "outputs": [],
   "source": [
    "train_dataset = data.TensorDataset(train_data,labels[train_idx]) # create your datset\n",
    "val_dataset = data.TensorDataset(val_data,labels[val_idx]) # create your datset\n",
    "test_dataset = data.TensorDataset(test_data,labels[test_idx]) # create your datset\n",
    "\n",
    "train_loader = data.DataLoader(train_dataset, batch_size=80) # create your dataloader\n",
    "val_loader = data.DataLoader(val_dataset, batch_size=80) # create your dataloader\n",
    "test_loader = data.DataLoader(test_dataset, batch_size=80) # create your dataloader\n"
   ]
  },
  {
   "cell_type": "markdown",
   "metadata": {},
   "source": [
    "## NN Architecture"
   ]
  },
  {
   "cell_type": "code",
   "execution_count": 11,
   "metadata": {},
   "outputs": [],
   "source": [
    "del all_FC\n",
    "output_size = 8\n",
    "max_epochs = 200\n",
    "n_epochs_stop = 5"
   ]
  },
  {
   "cell_type": "code",
   "execution_count": 12,
   "metadata": {},
   "outputs": [],
   "source": [
    "class Net(nn.Module):\n",
    "    def __init__(self, nHidden):\n",
    "        super(Net, self).__init__()\n",
    "        self.conv1 = nn.Conv2d(1, 6, kernel_size=5)\n",
    "        self.conv2 = nn.Conv2d(6, 12, kernel_size=5)\n",
    "        self.conv2_bn = nn.BatchNorm2d(12)\n",
    "        self.conv2_drop = nn.Dropout2d()\n",
    "        self.fc1 = nn.Linear(nHidden, 128)\n",
    "        self.fc2 = nn.Linear(128, 8)\n",
    "\n",
    "    def forward(self, x):\n",
    "        x = F.relu(F.max_pool2d(self.conv1(x), (3,3)))\n",
    "        x = F.relu(F.max_pool2d(self.conv2_bn(self.conv2(x)), (3,3)))\n",
    "        x = x.view(-1, self.num_flat_features(x))\n",
    "        x = F.relu(self.fc1(x))\n",
    "        x = self.fc2(x)\n",
    "        return x\n",
    "    \n",
    "    def num_flat_features(self, x):\n",
    "        size = x.size()[1:]  # all dimensions except the batch dimension\n",
    "        num_features = 1\n",
    "        for s in size:\n",
    "            num_features *= s\n",
    "        return num_features\n",
    "\n",
    "hidden_dict = {100: 1200, 200: 5292, 300: 13068, 400: 23232, 500: 36300}\n",
    "model = Net(hidden_dict[parc])\n"
   ]
  },
  {
   "cell_type": "code",
   "execution_count": 13,
   "metadata": {},
   "outputs": [
    {
     "name": "stdout",
     "output_type": "stream",
     "text": [
      "Net(\n",
      "  (conv1): Conv2d(1, 6, kernel_size=(5, 5), stride=(1, 1))\n",
      "  (conv2): Conv2d(6, 12, kernel_size=(5, 5), stride=(1, 1))\n",
      "  (conv2_bn): BatchNorm2d(12, eps=1e-05, momentum=0.1, affine=True, track_running_stats=True)\n",
      "  (conv2_drop): Dropout2d(p=0.5, inplace=False)\n",
      "  (fc1): Linear(in_features=5292, out_features=128, bias=True)\n",
      "  (fc2): Linear(in_features=128, out_features=8, bias=True)\n",
      ")\n"
     ]
    }
   ],
   "source": [
    "loss_fn = nn.CrossEntropyLoss()\n",
    "opt = optim.SGD(model.parameters(), lr=0.001)\n",
    "if use_cuda:\n",
    "    model = model.cuda()\n",
    "print(model)"
   ]
  },
  {
   "cell_type": "code",
   "execution_count": 14,
   "metadata": {},
   "outputs": [],
   "source": [
    "load_model = False\n",
    "if load_model:\n",
    "    the_model = Net()\n",
    "    the_model.load_state_dict(torch.load(\"../trained_models/ENTER NAME HERE\"))"
   ]
  },
  {
   "cell_type": "code",
   "execution_count": 15,
   "metadata": {},
   "outputs": [
    {
     "name": "stdout",
     "output_type": "stream",
     "text": [
      "Epoch 1/200, train loss: 1.8306, train acc: 0.500, val loss: 1.615, val acc: 0.561\n",
      "Epoch 2/200, train loss: 1.4608, train acc: 0.725, val loss: 1.307, val acc: 0.715\n",
      "Epoch 3/200, train loss: 1.2019, train acc: 0.788, val loss: 1.099, val acc: 0.778\n",
      "Epoch 4/200, train loss: 1.0209, train acc: 0.815, val loss: 0.953, val acc: 0.806\n",
      "Epoch 5/200, train loss: 0.8905, train acc: 0.835, val loss: 0.847, val acc: 0.822\n",
      "Epoch 6/200, train loss: 0.7936, train acc: 0.848, val loss: 0.766, val acc: 0.828\n",
      "Epoch 7/200, train loss: 0.7191, train acc: 0.860, val loss: 0.703, val acc: 0.848\n",
      "Epoch 8/200, train loss: 0.6596, train acc: 0.868, val loss: 0.652, val acc: 0.859\n",
      "Epoch 9/200, train loss: 0.6108, train acc: 0.874, val loss: 0.609, val acc: 0.864\n",
      "Epoch 10/200, train loss: 0.5698, train acc: 0.883, val loss: 0.573, val acc: 0.873\n",
      "Epoch 11/200, train loss: 0.5347, train acc: 0.890, val loss: 0.542, val acc: 0.883\n",
      "Epoch 12/200, train loss: 0.5041, train acc: 0.894, val loss: 0.514, val acc: 0.890\n",
      "Epoch 13/200, train loss: 0.4772, train acc: 0.899, val loss: 0.490, val acc: 0.896\n",
      "Epoch 14/200, train loss: 0.4533, train acc: 0.902, val loss: 0.468, val acc: 0.898\n",
      "Epoch 15/200, train loss: 0.4319, train acc: 0.906, val loss: 0.448, val acc: 0.900\n",
      "Epoch 16/200, train loss: 0.4125, train acc: 0.910, val loss: 0.431, val acc: 0.903\n",
      "Epoch 17/200, train loss: 0.3949, train acc: 0.915, val loss: 0.415, val acc: 0.905\n",
      "Epoch 18/200, train loss: 0.3788, train acc: 0.917, val loss: 0.400, val acc: 0.911\n",
      "Epoch 19/200, train loss: 0.3639, train acc: 0.921, val loss: 0.386, val acc: 0.914\n",
      "Epoch 20/200, train loss: 0.3503, train acc: 0.925, val loss: 0.374, val acc: 0.914\n",
      "Epoch 21/200, train loss: 0.3376, train acc: 0.925, val loss: 0.362, val acc: 0.916\n",
      "Epoch 22/200, train loss: 0.3258, train acc: 0.927, val loss: 0.351, val acc: 0.920\n",
      "Epoch 23/200, train loss: 0.3148, train acc: 0.930, val loss: 0.341, val acc: 0.924\n",
      "Epoch 24/200, train loss: 0.3046, train acc: 0.933, val loss: 0.332, val acc: 0.924\n",
      "Epoch 25/200, train loss: 0.2950, train acc: 0.935, val loss: 0.323, val acc: 0.926\n",
      "Epoch 26/200, train loss: 0.2860, train acc: 0.938, val loss: 0.315, val acc: 0.929\n",
      "Epoch 27/200, train loss: 0.2775, train acc: 0.942, val loss: 0.307, val acc: 0.929\n",
      "Epoch 28/200, train loss: 0.2696, train acc: 0.943, val loss: 0.300, val acc: 0.930\n",
      "Epoch 29/200, train loss: 0.2620, train acc: 0.944, val loss: 0.293, val acc: 0.931\n",
      "Epoch 30/200, train loss: 0.2549, train acc: 0.945, val loss: 0.287, val acc: 0.931\n",
      "Epoch 31/200, train loss: 0.2482, train acc: 0.947, val loss: 0.281, val acc: 0.930\n",
      "Epoch 32/200, train loss: 0.2417, train acc: 0.949, val loss: 0.275, val acc: 0.932\n",
      "Epoch 33/200, train loss: 0.2357, train acc: 0.950, val loss: 0.270, val acc: 0.932\n",
      "Epoch 34/200, train loss: 0.2299, train acc: 0.952, val loss: 0.264, val acc: 0.934\n",
      "Epoch 35/200, train loss: 0.2243, train acc: 0.952, val loss: 0.260, val acc: 0.935\n",
      "Epoch 36/200, train loss: 0.2191, train acc: 0.953, val loss: 0.255, val acc: 0.935\n",
      "Epoch 37/200, train loss: 0.2140, train acc: 0.953, val loss: 0.250, val acc: 0.936\n",
      "Epoch 38/200, train loss: 0.2092, train acc: 0.954, val loss: 0.246, val acc: 0.938\n",
      "Epoch 39/200, train loss: 0.2046, train acc: 0.956, val loss: 0.242, val acc: 0.940\n",
      "Epoch 40/200, train loss: 0.2002, train acc: 0.957, val loss: 0.238, val acc: 0.940\n",
      "Epoch 41/200, train loss: 0.1960, train acc: 0.958, val loss: 0.235, val acc: 0.940\n",
      "Epoch 42/200, train loss: 0.1919, train acc: 0.960, val loss: 0.231, val acc: 0.941\n",
      "Epoch 43/200, train loss: 0.1880, train acc: 0.960, val loss: 0.228, val acc: 0.942\n",
      "Epoch 44/200, train loss: 0.1842, train acc: 0.961, val loss: 0.225, val acc: 0.944\n",
      "Epoch 45/200, train loss: 0.1806, train acc: 0.962, val loss: 0.222, val acc: 0.944\n",
      "Epoch 46/200, train loss: 0.1771, train acc: 0.962, val loss: 0.219, val acc: 0.945\n",
      "Epoch 47/200, train loss: 0.1737, train acc: 0.964, val loss: 0.216, val acc: 0.945\n",
      "Epoch 48/200, train loss: 0.1704, train acc: 0.964, val loss: 0.213, val acc: 0.946\n",
      "Epoch 49/200, train loss: 0.1673, train acc: 0.965, val loss: 0.210, val acc: 0.947\n",
      "Epoch 50/200, train loss: 0.1642, train acc: 0.966, val loss: 0.208, val acc: 0.947\n",
      "Epoch 51/200, train loss: 0.1613, train acc: 0.966, val loss: 0.205, val acc: 0.948\n",
      "Epoch 52/200, train loss: 0.1585, train acc: 0.967, val loss: 0.203, val acc: 0.948\n",
      "Epoch 53/200, train loss: 0.1557, train acc: 0.968, val loss: 0.201, val acc: 0.949\n",
      "Epoch 54/200, train loss: 0.1530, train acc: 0.969, val loss: 0.199, val acc: 0.950\n",
      "Epoch 55/200, train loss: 0.1504, train acc: 0.970, val loss: 0.196, val acc: 0.951\n",
      "Epoch 56/200, train loss: 0.1479, train acc: 0.970, val loss: 0.194, val acc: 0.951\n",
      "Epoch 57/200, train loss: 0.1455, train acc: 0.971, val loss: 0.192, val acc: 0.951\n",
      "Epoch 58/200, train loss: 0.1431, train acc: 0.972, val loss: 0.190, val acc: 0.952\n",
      "Epoch 59/200, train loss: 0.1408, train acc: 0.972, val loss: 0.189, val acc: 0.954\n",
      "Epoch 60/200, train loss: 0.1386, train acc: 0.974, val loss: 0.187, val acc: 0.954\n",
      "Epoch 61/200, train loss: 0.1364, train acc: 0.975, val loss: 0.185, val acc: 0.954\n",
      "Epoch 62/200, train loss: 0.1343, train acc: 0.975, val loss: 0.183, val acc: 0.954\n",
      "Epoch 63/200, train loss: 0.1322, train acc: 0.976, val loss: 0.182, val acc: 0.954\n",
      "Epoch 64/200, train loss: 0.1302, train acc: 0.977, val loss: 0.180, val acc: 0.955\n",
      "Epoch 65/200, train loss: 0.1282, train acc: 0.977, val loss: 0.179, val acc: 0.956\n",
      "Epoch 66/200, train loss: 0.1263, train acc: 0.978, val loss: 0.177, val acc: 0.955\n",
      "Epoch 67/200, train loss: 0.1244, train acc: 0.978, val loss: 0.176, val acc: 0.955\n",
      "Epoch 68/200, train loss: 0.1226, train acc: 0.978, val loss: 0.174, val acc: 0.955\n",
      "Epoch 69/200, train loss: 0.1208, train acc: 0.979, val loss: 0.173, val acc: 0.955\n",
      "Epoch 70/200, train loss: 0.1191, train acc: 0.980, val loss: 0.171, val acc: 0.956\n",
      "Epoch 71/200, train loss: 0.1174, train acc: 0.980, val loss: 0.170, val acc: 0.956\n",
      "Epoch 72/200, train loss: 0.1157, train acc: 0.981, val loss: 0.169, val acc: 0.956\n",
      "Epoch 73/200, train loss: 0.1141, train acc: 0.981, val loss: 0.168, val acc: 0.956\n",
      "Epoch 74/200, train loss: 0.1126, train acc: 0.982, val loss: 0.166, val acc: 0.957\n",
      "Epoch 75/200, train loss: 0.1110, train acc: 0.982, val loss: 0.165, val acc: 0.957\n",
      "Epoch 76/200, train loss: 0.1095, train acc: 0.982, val loss: 0.164, val acc: 0.957\n",
      "Epoch 77/200, train loss: 0.1081, train acc: 0.983, val loss: 0.163, val acc: 0.958\n",
      "Epoch 78/200, train loss: 0.1066, train acc: 0.983, val loss: 0.162, val acc: 0.958\n",
      "Epoch 79/200, train loss: 0.1052, train acc: 0.983, val loss: 0.161, val acc: 0.959\n",
      "Epoch 80/200, train loss: 0.1038, train acc: 0.984, val loss: 0.160, val acc: 0.959\n",
      "Epoch 81/200, train loss: 0.1025, train acc: 0.984, val loss: 0.159, val acc: 0.959\n",
      "Epoch 82/200, train loss: 0.1012, train acc: 0.984, val loss: 0.158, val acc: 0.961\n",
      "Epoch 83/200, train loss: 0.0999, train acc: 0.984, val loss: 0.157, val acc: 0.960\n",
      "Epoch 84/200, train loss: 0.0986, train acc: 0.984, val loss: 0.156, val acc: 0.961\n",
      "Epoch 85/200, train loss: 0.0974, train acc: 0.984, val loss: 0.155, val acc: 0.961\n",
      "Epoch 86/200, train loss: 0.0962, train acc: 0.984, val loss: 0.154, val acc: 0.961\n",
      "Epoch 87/200, train loss: 0.0950, train acc: 0.985, val loss: 0.154, val acc: 0.961\n",
      "Epoch 88/200, train loss: 0.0938, train acc: 0.985, val loss: 0.153, val acc: 0.961\n",
      "Epoch 89/200, train loss: 0.0927, train acc: 0.985, val loss: 0.152, val acc: 0.962\n",
      "Epoch 90/200, train loss: 0.0916, train acc: 0.985, val loss: 0.151, val acc: 0.962\n",
      "Epoch 91/200, train loss: 0.0905, train acc: 0.986, val loss: 0.150, val acc: 0.962\n",
      "Epoch 92/200, train loss: 0.0894, train acc: 0.986, val loss: 0.150, val acc: 0.962\n",
      "Epoch 93/200, train loss: 0.0883, train acc: 0.986, val loss: 0.149, val acc: 0.962\n",
      "Epoch 94/200, train loss: 0.0873, train acc: 0.986, val loss: 0.148, val acc: 0.963\n",
      "Epoch 95/200, train loss: 0.0863, train acc: 0.987, val loss: 0.147, val acc: 0.962\n",
      "Epoch 96/200, train loss: 0.0853, train acc: 0.987, val loss: 0.147, val acc: 0.962\n",
      "Epoch 97/200, train loss: 0.0843, train acc: 0.987, val loss: 0.146, val acc: 0.963\n",
      "Epoch 98/200, train loss: 0.0833, train acc: 0.988, val loss: 0.145, val acc: 0.963\n"
     ]
    },
    {
     "name": "stdout",
     "output_type": "stream",
     "text": [
      "Epoch 99/200, train loss: 0.0824, train acc: 0.988, val loss: 0.145, val acc: 0.963\n",
      "Epoch 100/200, train loss: 0.0815, train acc: 0.988, val loss: 0.144, val acc: 0.963\n",
      "Epoch 101/200, train loss: 0.0805, train acc: 0.988, val loss: 0.144, val acc: 0.963\n",
      "Epoch 102/200, train loss: 0.0796, train acc: 0.989, val loss: 0.143, val acc: 0.964\n",
      "Epoch 103/200, train loss: 0.0788, train acc: 0.989, val loss: 0.142, val acc: 0.964\n",
      "Epoch 104/200, train loss: 0.0779, train acc: 0.989, val loss: 0.142, val acc: 0.964\n",
      "Epoch 105/200, train loss: 0.0770, train acc: 0.989, val loss: 0.141, val acc: 0.964\n",
      "Epoch 106/200, train loss: 0.0762, train acc: 0.989, val loss: 0.141, val acc: 0.964\n",
      "Epoch 107/200, train loss: 0.0754, train acc: 0.989, val loss: 0.140, val acc: 0.964\n",
      "Epoch 108/200, train loss: 0.0746, train acc: 0.989, val loss: 0.140, val acc: 0.964\n",
      "Epoch 109/200, train loss: 0.0738, train acc: 0.990, val loss: 0.139, val acc: 0.964\n",
      "Epoch 110/200, train loss: 0.0730, train acc: 0.990, val loss: 0.139, val acc: 0.964\n",
      "Epoch 111/200, train loss: 0.0722, train acc: 0.990, val loss: 0.138, val acc: 0.964\n",
      "Epoch 112/200, train loss: 0.0714, train acc: 0.990, val loss: 0.138, val acc: 0.964\n",
      "Epoch 113/200, train loss: 0.0707, train acc: 0.990, val loss: 0.137, val acc: 0.964\n",
      "Epoch 114/200, train loss: 0.0699, train acc: 0.990, val loss: 0.137, val acc: 0.964\n",
      "Epoch 115/200, train loss: 0.0692, train acc: 0.990, val loss: 0.136, val acc: 0.965\n",
      "Epoch 116/200, train loss: 0.0685, train acc: 0.990, val loss: 0.136, val acc: 0.965\n",
      "Epoch 117/200, train loss: 0.0678, train acc: 0.991, val loss: 0.135, val acc: 0.965\n",
      "Epoch 118/200, train loss: 0.0671, train acc: 0.991, val loss: 0.135, val acc: 0.965\n",
      "Epoch 119/200, train loss: 0.0664, train acc: 0.991, val loss: 0.134, val acc: 0.965\n",
      "Epoch 120/200, train loss: 0.0657, train acc: 0.991, val loss: 0.134, val acc: 0.965\n",
      "Epoch 121/200, train loss: 0.0651, train acc: 0.991, val loss: 0.134, val acc: 0.965\n",
      "Epoch 122/200, train loss: 0.0644, train acc: 0.991, val loss: 0.133, val acc: 0.965\n",
      "Epoch 123/200, train loss: 0.0638, train acc: 0.991, val loss: 0.133, val acc: 0.965\n",
      "Epoch 124/200, train loss: 0.0631, train acc: 0.991, val loss: 0.132, val acc: 0.965\n",
      "Epoch 125/200, train loss: 0.0625, train acc: 0.991, val loss: 0.132, val acc: 0.965\n",
      "Epoch 126/200, train loss: 0.0619, train acc: 0.991, val loss: 0.132, val acc: 0.965\n",
      "Epoch 127/200, train loss: 0.0613, train acc: 0.992, val loss: 0.131, val acc: 0.965\n",
      "Epoch 128/200, train loss: 0.0607, train acc: 0.992, val loss: 0.131, val acc: 0.965\n",
      "Epoch 129/200, train loss: 0.0601, train acc: 0.992, val loss: 0.131, val acc: 0.965\n",
      "Epoch 130/200, train loss: 0.0595, train acc: 0.992, val loss: 0.130, val acc: 0.965\n",
      "Epoch 131/200, train loss: 0.0589, train acc: 0.992, val loss: 0.130, val acc: 0.965\n",
      "Epoch 132/200, train loss: 0.0584, train acc: 0.992, val loss: 0.130, val acc: 0.965\n",
      "Epoch 133/200, train loss: 0.0578, train acc: 0.993, val loss: 0.129, val acc: 0.965\n",
      "Epoch 134/200, train loss: 0.0573, train acc: 0.993, val loss: 0.129, val acc: 0.964\n",
      "Epoch 135/200, train loss: 0.0567, train acc: 0.993, val loss: 0.129, val acc: 0.964\n",
      "Epoch 136/200, train loss: 0.0562, train acc: 0.993, val loss: 0.128, val acc: 0.964\n",
      "Epoch 137/200, train loss: 0.0557, train acc: 0.993, val loss: 0.128, val acc: 0.966\n",
      "Epoch 138/200, train loss: 0.0551, train acc: 0.993, val loss: 0.128, val acc: 0.966\n",
      "Epoch 139/200, train loss: 0.0546, train acc: 0.993, val loss: 0.127, val acc: 0.966\n",
      "Epoch 140/200, train loss: 0.0541, train acc: 0.994, val loss: 0.127, val acc: 0.966\n",
      "Epoch 141/200, train loss: 0.0536, train acc: 0.994, val loss: 0.127, val acc: 0.966\n",
      "Epoch 142/200, train loss: 0.0531, train acc: 0.994, val loss: 0.127, val acc: 0.966\n",
      "Epoch 143/200, train loss: 0.0526, train acc: 0.994, val loss: 0.126, val acc: 0.967\n",
      "Epoch 144/200, train loss: 0.0522, train acc: 0.994, val loss: 0.126, val acc: 0.967\n",
      "Epoch 145/200, train loss: 0.0517, train acc: 0.994, val loss: 0.126, val acc: 0.967\n",
      "Epoch 146/200, train loss: 0.0512, train acc: 0.994, val loss: 0.125, val acc: 0.968\n",
      "Epoch 147/200, train loss: 0.0508, train acc: 0.995, val loss: 0.125, val acc: 0.968\n",
      "Epoch 148/200, train loss: 0.0503, train acc: 0.995, val loss: 0.125, val acc: 0.968\n",
      "Epoch 149/200, train loss: 0.0499, train acc: 0.995, val loss: 0.125, val acc: 0.968\n",
      "Epoch 150/200, train loss: 0.0494, train acc: 0.995, val loss: 0.124, val acc: 0.968\n",
      "Epoch 151/200, train loss: 0.0490, train acc: 0.995, val loss: 0.124, val acc: 0.968\n",
      "Epoch 152/200, train loss: 0.0485, train acc: 0.995, val loss: 0.124, val acc: 0.968\n",
      "Epoch 153/200, train loss: 0.0481, train acc: 0.995, val loss: 0.124, val acc: 0.968\n",
      "Epoch 154/200, train loss: 0.0477, train acc: 0.996, val loss: 0.124, val acc: 0.968\n",
      "Epoch 155/200, train loss: 0.0473, train acc: 0.996, val loss: 0.123, val acc: 0.968\n",
      "Epoch 156/200, train loss: 0.0469, train acc: 0.996, val loss: 0.123, val acc: 0.968\n",
      "Epoch 157/200, train loss: 0.0465, train acc: 0.996, val loss: 0.123, val acc: 0.969\n",
      "Epoch 158/200, train loss: 0.0461, train acc: 0.996, val loss: 0.123, val acc: 0.969\n",
      "Epoch 159/200, train loss: 0.0457, train acc: 0.996, val loss: 0.122, val acc: 0.969\n",
      "Epoch 160/200, train loss: 0.0453, train acc: 0.996, val loss: 0.122, val acc: 0.969\n",
      "Epoch 161/200, train loss: 0.0449, train acc: 0.996, val loss: 0.122, val acc: 0.969\n",
      "Epoch 162/200, train loss: 0.0445, train acc: 0.996, val loss: 0.122, val acc: 0.969\n",
      "Epoch 163/200, train loss: 0.0441, train acc: 0.996, val loss: 0.122, val acc: 0.969\n",
      "Epoch 164/200, train loss: 0.0438, train acc: 0.997, val loss: 0.121, val acc: 0.969\n",
      "Epoch 165/200, train loss: 0.0434, train acc: 0.997, val loss: 0.121, val acc: 0.969\n",
      "Epoch 166/200, train loss: 0.0430, train acc: 0.997, val loss: 0.121, val acc: 0.969\n",
      "Epoch 167/200, train loss: 0.0427, train acc: 0.997, val loss: 0.121, val acc: 0.969\n",
      "Epoch 168/200, train loss: 0.0423, train acc: 0.997, val loss: 0.121, val acc: 0.969\n",
      "Epoch 169/200, train loss: 0.0420, train acc: 0.997, val loss: 0.121, val acc: 0.969\n",
      "Epoch 170/200, train loss: 0.0416, train acc: 0.997, val loss: 0.120, val acc: 0.969\n",
      "Epoch 171/200, train loss: 0.0413, train acc: 0.997, val loss: 0.120, val acc: 0.969\n",
      "Epoch 172/200, train loss: 0.0410, train acc: 0.997, val loss: 0.120, val acc: 0.969\n",
      "Epoch 173/200, train loss: 0.0406, train acc: 0.997, val loss: 0.120, val acc: 0.969\n",
      "Epoch 174/200, train loss: 0.0403, train acc: 0.997, val loss: 0.120, val acc: 0.968\n",
      "Epoch 175/200, train loss: 0.0400, train acc: 0.997, val loss: 0.120, val acc: 0.968\n",
      "Epoch 176/200, train loss: 0.0396, train acc: 0.997, val loss: 0.119, val acc: 0.968\n",
      "Epoch 177/200, train loss: 0.0393, train acc: 0.997, val loss: 0.119, val acc: 0.968\n",
      "Epoch 178/200, train loss: 0.0390, train acc: 0.997, val loss: 0.119, val acc: 0.968\n",
      "Epoch 179/200, train loss: 0.0387, train acc: 0.997, val loss: 0.119, val acc: 0.968\n",
      "Epoch 180/200, train loss: 0.0384, train acc: 0.997, val loss: 0.119, val acc: 0.968\n",
      "Epoch 181/200, train loss: 0.0381, train acc: 0.997, val loss: 0.119, val acc: 0.968\n",
      "Epoch 182/200, train loss: 0.0378, train acc: 0.997, val loss: 0.119, val acc: 0.968\n",
      "Epoch 183/200, train loss: 0.0375, train acc: 0.997, val loss: 0.118, val acc: 0.968\n",
      "Epoch 184/200, train loss: 0.0372, train acc: 0.997, val loss: 0.118, val acc: 0.968\n",
      "Epoch 185/200, train loss: 0.0369, train acc: 0.997, val loss: 0.118, val acc: 0.968\n",
      "Epoch 186/200, train loss: 0.0366, train acc: 0.997, val loss: 0.118, val acc: 0.968\n",
      "Epoch 187/200, train loss: 0.0363, train acc: 0.997, val loss: 0.118, val acc: 0.968\n",
      "Epoch 188/200, train loss: 0.0361, train acc: 0.997, val loss: 0.118, val acc: 0.968\n",
      "Epoch 189/200, train loss: 0.0358, train acc: 0.997, val loss: 0.118, val acc: 0.968\n",
      "Epoch 190/200, train loss: 0.0355, train acc: 0.997, val loss: 0.117, val acc: 0.968\n",
      "Epoch 191/200, train loss: 0.0352, train acc: 0.998, val loss: 0.117, val acc: 0.968\n",
      "Epoch 192/200, train loss: 0.0350, train acc: 0.998, val loss: 0.117, val acc: 0.968\n",
      "Epoch 193/200, train loss: 0.0347, train acc: 0.998, val loss: 0.117, val acc: 0.968\n",
      "Epoch 194/200, train loss: 0.0344, train acc: 0.998, val loss: 0.117, val acc: 0.968\n",
      "Epoch 195/200, train loss: 0.0342, train acc: 0.998, val loss: 0.117, val acc: 0.968\n"
     ]
    },
    {
     "name": "stdout",
     "output_type": "stream",
     "text": [
      "Epoch 196/200, train loss: 0.0339, train acc: 0.998, val loss: 0.117, val acc: 0.968\n",
      "Epoch 197/200, train loss: 0.0337, train acc: 0.998, val loss: 0.117, val acc: 0.968\n",
      "Epoch 198/200, train loss: 0.0334, train acc: 0.998, val loss: 0.117, val acc: 0.968\n",
      "Epoch 199/200, train loss: 0.0332, train acc: 0.998, val loss: 0.116, val acc: 0.968\n",
      "Epoch 200/200, train loss: 0.0329, train acc: 0.998, val loss: 0.116, val acc: 0.968\n"
     ]
    }
   ],
   "source": [
    "history = {}\n",
    "history['loss'] = []\n",
    "history['val_loss'] = []\n",
    "history['acc'] = []\n",
    "history['val_acc'] = []\n",
    "min_val_loss = np.Inf\n",
    "early_stop = False\n",
    "# Loop over epochs\n",
    "\n",
    "\n",
    "for epoch in range(max_epochs):\n",
    "    # Training\n",
    "    model.train()\n",
    "    train_loss         = 0.0\n",
    "    num_train_correct  = 0\n",
    "    num_train_examples = 0\n",
    "    for local_batch, local_labels in train_loader:\n",
    "        # Transfer to GPU\n",
    "        if use_cuda:\n",
    "            local_batch, local_labels = local_batch.to(device), local_labels.to(device)\n",
    "\n",
    "\n",
    "\n",
    "        opt.zero_grad()\n",
    "        output = model(local_batch)\n",
    "        loss = loss_fn(output, local_labels)\n",
    "        loss.backward()\n",
    "        opt.step()\n",
    "\n",
    "        train_loss += loss.data.item() * local_batch.size(0)\n",
    "        num_train_correct  += (torch.max(output, 1)[1] == local_labels).sum().item()\n",
    "        num_train_examples += local_batch.shape[0]\n",
    "\n",
    "    train_acc = num_train_correct / num_train_examples\n",
    "    train_loss  = train_loss / len(train_loader.dataset)\n",
    "\n",
    "    # Validation\n",
    "    model.eval()\n",
    "    val_loss       = 0.0\n",
    "    num_val_correct  = 0\n",
    "    num_val_examples = 0\n",
    "    with torch.set_grad_enabled(False):\n",
    "        for local_batch, local_labels in val_loader:\n",
    "            # Transfer to GPU\n",
    "            if use_cuda:\n",
    "                local_batch, local_labels = local_batch.to(device), local_labels.to(device)\n",
    "            output = model(local_batch)\n",
    "            loss = loss_fn(output, local_labels)\n",
    "\n",
    "            val_loss += loss.data.item() * local_batch.size(0)\n",
    "            num_val_correct  += (torch.max(output, 1)[1] == local_labels).sum().item()\n",
    "            num_val_examples += local_batch.shape[0]\n",
    "\n",
    "        val_acc  = num_val_correct / num_val_examples\n",
    "        val_loss = val_loss / len(val_loader.dataset)\n",
    "\n",
    "        if val_loss < min_val_loss:\n",
    "            epochs_no_improve = 0\n",
    "            min_val_loss = val_loss\n",
    "        else:\n",
    "            epochs_no_improve += 1\n",
    "  # Check early stopping condition\n",
    "        if epochs_no_improve == n_epochs_stop:\n",
    "            early_stop = print('Early stopping!')\n",
    "            break\n",
    "\n",
    "        \n",
    "    print(f'Epoch {epoch+1}/{max_epochs}, train loss: {train_loss:5.4f}, train acc: {train_acc:5.3f}, val loss: {val_loss:5.3f}, val acc: {val_acc:5.3f}')\n",
    "    \n",
    "    \n",
    "    history['loss'].append(train_loss)\n",
    "    history['val_loss'].append(val_loss)\n",
    "    history['acc'].append(train_acc)\n",
    "    history['val_acc'].append(val_acc)\n",
    "    \n",
    "    if early_stop:\n",
    "        print(\"Stopped\")\n",
    "        break"
   ]
  },
  {
   "cell_type": "code",
   "execution_count": 16,
   "metadata": {},
   "outputs": [
    {
     "data": {
      "text/plain": [
       "device(type='cuda', index=0)"
      ]
     },
     "execution_count": 16,
     "metadata": {},
     "output_type": "execute_result"
    }
   ],
   "source": [
    "local_batch.device"
   ]
  },
  {
   "cell_type": "code",
   "execution_count": 17,
   "metadata": {},
   "outputs": [],
   "source": [
    "torch.save(model.state_dict(), \"../trained_models/schaefer200_pca\")"
   ]
  },
  {
   "cell_type": "code",
   "execution_count": 18,
   "metadata": {},
   "outputs": [],
   "source": [
    "model.eval()\n",
    "num_correct  = 0\n",
    "num_examples = 0\n",
    "with torch.set_grad_enabled(False):\n",
    "    for local_batch, local_labels in test_loader:\n",
    "        # Transfer to GPU\n",
    "        if use_cuda:\n",
    "            local_batch, local_labels = local_batch.to(device), local_labels.to(device)\n",
    "        output = model(local_batch)\n",
    "        num_correct  += (torch.max(output, 1)[1] == local_labels).sum().item()\n",
    "        num_examples += local_batch.shape[0]\n",
    "            \n",
    "    test_acc  = num_correct / num_examples"
   ]
  },
  {
   "cell_type": "code",
   "execution_count": 32,
   "metadata": {},
   "outputs": [
    {
     "name": "stderr",
     "output_type": "stream",
     "text": [
      "The PostScript backend does not support transparency; partially transparent artists will be rendered opaque.\n",
      "The PostScript backend does not support transparency; partially transparent artists will be rendered opaque.\n",
      "The PostScript backend does not support transparency; partially transparent artists will be rendered opaque.\n",
      "The PostScript backend does not support transparency; partially transparent artists will be rendered opaque.\n"
     ]
    },
    {
     "data": {
      "image/png": "[encoded data removed]",
      "text/plain": [
       "<Figure size 432x288 with 1 Axes>"
      ]
     },
     "metadata": {
      "needs_background": "light"
     },
     "output_type": "display_data"
    }
   ],
   "source": [
    "plt.plot(history['loss'])\n",
    "plt.plot(history['val_loss'])\n",
    "plt.title('Model loss')\n",
    "plt.ylabel('Loss')\n",
    "plt.xlabel('Epoch')\n",
    "plt.legend(['Train', 'Validation'], loc='upper left')\n",
    "plt.savefig('../results/train_loss_curve.eps', bbox_inches='tight', transparent=True)\n",
    "plt.show()"
   ]
  },
  {
   "cell_type": "code",
   "execution_count": 33,
   "metadata": {},
   "outputs": [
    {
     "name": "stderr",
     "output_type": "stream",
     "text": [
      "The PostScript backend does not support transparency; partially transparent artists will be rendered opaque.\n",
      "The PostScript backend does not support transparency; partially transparent artists will be rendered opaque.\n",
      "The PostScript backend does not support transparency; partially transparent artists will be rendered opaque.\n",
      "The PostScript backend does not support transparency; partially transparent artists will be rendered opaque.\n"
     ]
    },
    {
     "data": {
      "image/png": "[encoded data removed]",
      "text/plain": [
       "<Figure size 432x288 with 1 Axes>"
      ]
     },
     "metadata": {
      "needs_background": "light"
     },
     "output_type": "display_data"
    }
   ],
   "source": [
    "plt.plot(history['acc'])\n",
    "plt.plot(history['val_acc'])\n",
    "plt.title('Model accuracy')\n",
    "plt.ylabel('Accuracy')\n",
    "plt.xlabel('Epoch')\n",
    "plt.legend(['Train', 'Validation'], loc='upper left')\n",
    "plt.savefig('../results/train_val_accuracy.eps', bbox_inches='tight', transparent=True)\n",
    "plt.show()"
   ]
  },
  {
   "cell_type": "code",
   "execution_count": 21,
   "metadata": {},
   "outputs": [
    {
     "data": {
      "text/plain": [
       "0.9602063375092115"
      ]
     },
     "execution_count": 21,
     "metadata": {},
     "output_type": "execute_result"
    }
   ],
   "source": [
    "test_acc"
   ]
  },
  {
   "cell_type": "code",
   "execution_count": 22,
   "metadata": {},
   "outputs": [],
   "source": [
    "test_labels = labels[test_idx]\n",
    "with torch.set_grad_enabled(False):\n",
    "    test_preds = get_all_preds(model, test_loader)"
   ]
  },
  {
   "cell_type": "code",
   "execution_count": 23,
   "metadata": {},
   "outputs": [],
   "source": [
    "stacked = torch.stack((test_labels.to(device), test_preds.argmax(dim=1)),dim=1)"
   ]
  },
  {
   "cell_type": "code",
   "execution_count": 24,
   "metadata": {},
   "outputs": [],
   "source": [
    "cmt = torch.zeros(8,8,dtype=torch.int64)"
   ]
  },
  {
   "cell_type": "code",
   "execution_count": 25,
   "metadata": {},
   "outputs": [],
   "source": [
    "for p in stacked:\n",
    "    tl,pl = p.tolist()\n",
    "    cmt[tl,pl] = cmt[tl,pl] + 1"
   ]
  },
  {
   "cell_type": "code",
   "execution_count": 26,
   "metadata": {},
   "outputs": [],
   "source": [
    "cm = confusion_matrix(test_labels.cpu(), test_preds.cpu().argmax(dim=1))"
   ]
  },
  {
   "cell_type": "code",
   "execution_count": null,
   "metadata": {},
   "outputs": [],
   "source": []
  },
  {
   "cell_type": "code",
   "execution_count": 27,
   "metadata": {},
   "outputs": [
    {
     "name": "stdout",
     "output_type": "stream",
     "text": [
      "Confusion matrix, without normalization\n",
      "[[161   0   0   0   0   0   0   0]\n",
      " [  0 159   6   1   1   2   0   1]\n",
      " [  0   8 156   0   3   1   0   1]\n",
      " [  0   0   1 159   1   0   0   0]\n",
      " [  1   2   1   1 198   0   0   0]\n",
      " [  0   2   1   0   1 147   0   8]\n",
      " [  0   0   1   1   1   0 173   0]\n",
      " [  0   0   3   0   0   5   0 150]]\n"
     ]
    },
    {
     "data": {
      "image/png": "[encoded data removed]",
      "text/plain": [
       "<Figure size 576x576 with 2 Axes>"
      ]
     },
     "metadata": {
      "needs_background": "light"
     },
     "output_type": "display_data"
    }
   ],
   "source": [
    "names = ('Rest', 'Emotion', 'Gambling', 'Language', 'Motor', 'Relational', 'Social', 'Working Memory')\n",
    "plt.figure(figsize=(8,8))\n",
    "plot_confusion_matrix(cm, names)"
   ]
  },
  {
   "cell_type": "code",
   "execution_count": 29,
   "metadata": {},
   "outputs": [
    {
     "data": {
      "text/plain": [
       "<Figure size 432x288 with 0 Axes>"
      ]
     },
     "metadata": {},
     "output_type": "display_data"
    }
   ],
   "source": []
  },
  {
   "cell_type": "code",
   "execution_count": null,
   "metadata": {},
   "outputs": [],
   "source": []
  }
 ],
 "metadata": {
  "@webio": {
   "lastCommId": null,
   "lastKernelId": null
  },
  "kernelspec": {
   "display_name": "Python 3",
   "language": "python",
   "name": "python3"
  },
  "language_info": {
   "codemirror_mode": {
    "name": "ipython",
    "version": 3
   },
   "file_extension": ".py",
   "mimetype": "text/x-python",
   "name": "python",
   "nbconvert_exporter": "python",
   "pygments_lexer": "ipython3",
   "version": "3.7.7"
  }
 },
 "nbformat": 4,
 "nbformat_minor": 4
}
