{
 "cells": [
  {
   "cell_type": "code",
   "execution_count": 1,
   "metadata": {},
   "outputs": [
    {
     "data": {
      "text/plain": [
       "{'divide': 'warn', 'over': 'warn', 'under': 'ignore', 'invalid': 'warn'}"
      ]
     },
     "execution_count": 1,
     "metadata": {},
     "output_type": "execute_result"
    }
   ],
   "source": [
    "import numpy as np\n",
    "import scipy\n",
    "import scipy.io as sio\n",
    "from pyriemann.utils.mean import mean_covariance\n",
    "import sklearn.datasets\n",
    "import sklearn.decomposition\n",
    "from scipy.spatial import distance\n",
    "\n",
    "np.seterr(divide='ignore', invalid='ignore')"
   ]
  },
  {
   "cell_type": "code",
   "execution_count": 2,
   "metadata": {},
   "outputs": [],
   "source": [
    "\n",
    "def get_data():\n",
    "    '''\n",
    "    Navigates through file tree and extracts FCs with optional reconstruction\n",
    "    '''\n",
    "    # Yeo ordering\n",
    "    fname = '../data/100_unrelated.csv'\n",
    "    yeo = True\n",
    "    if yeo:\n",
    "        yeo_order = list(sio.loadmat(\"../data/yeo_RS7_N374.mat\",\n",
    "                                     squeeze_me=True,\n",
    "                                     struct_as_record=False)['yeoOrder'] - 1)\n",
    "    # Load subject ID and task names\n",
    "    subjectids = np.loadtxt(fname, dtype=np.int)\n",
    "    nSubj = len(subjectids)\n",
    "    tasks = ['rfMRI_REST1_LR', 'rfMRI_REST1_RL', 'rfMRI_REST2_LR',\n",
    "             'rfMRI_REST2_RL', 'tfMRI_EMOTION_LR', 'tfMRI_EMOTION_RL',\n",
    "             'tfMRI_GAMBLING_LR', 'tfMRI_GAMBLING_RL', 'tfMRI_LANGUAGE_LR',\n",
    "             'tfMRI_LANGUAGE_RL', 'tfMRI_MOTOR_LR', 'tfMRI_MOTOR_RL',\n",
    "             'tfMRI_RELATIONAL_LR', 'tfMRI_RELATIONAL_RL', 'tfMRI_SOCIAL_LR',\n",
    "             'tfMRI_SOCIAL_RL', 'tfMRI_WM_LR', 'tfMRI_WM_RL']\n",
    "    M = {}\n",
    "    # Walk through file tree and extract FCs\n",
    "    for task in tasks:\n",
    "        masterFC_dir = '../data/results_SIFT2'\n",
    "        restingstatename = 'fMRI/' + task + '/FC/FC_glasser_subc_GS_bp_z.mat'\n",
    "        task_matrices = []\n",
    "        for subject in subjectids:\n",
    "            filename = masterFC_dir + '/' + \\\n",
    "                str(subject) + '/' + restingstatename\n",
    "            mat = sio.loadmat(filename, squeeze_me=True,\n",
    "                              struct_as_record=False)\n",
    "            A_orig = mat['FC']\n",
    "            if yeo:\n",
    "                A_orig = A_orig[np.ix_(yeo_order, yeo_order)]\n",
    "            np.fill_diagonal(A_orig, 1)\n",
    "            task_matrices.append(A_orig)\n",
    "        M[task] = np.array(task_matrices)\n",
    "    test = np.concatenate((M['rfMRI_REST1_LR'], M['tfMRI_EMOTION_LR'],\n",
    "                           M['tfMRI_GAMBLING_LR'], M['tfMRI_LANGUAGE_LR'],\n",
    "                           M['tfMRI_MOTOR_LR'], M['tfMRI_RELATIONAL_LR'],\n",
    "                           M['tfMRI_SOCIAL_LR'], M['tfMRI_WM_LR']))\n",
    "    retest = np.concatenate((M['rfMRI_REST1_RL'], M['tfMRI_EMOTION_RL'],\n",
    "                             M['tfMRI_GAMBLING_RL'], M['tfMRI_LANGUAGE_RL'],\n",
    "                             M['tfMRI_MOTOR_RL'], M['tfMRI_RELATIONAL_RL'],\n",
    "                             M['tfMRI_SOCIAL_RL'], M['tfMRI_WM_RL']))\n",
    "    del M\n",
    "    all_FC = np.concatenate((test, retest))\n",
    "    del test, retest\n",
    "    return all_FC, nSubj\n",
    "\n",
    "\n",
    "def q1invm(q1, eig_thresh=0):\n",
    "    U, S, V = scipy.linalg.svd(q1)\n",
    "    s = np.diag(S)\n",
    "    s[s < eig_thresh] = eig_thresh\n",
    "    S = np.diag(s ** (-1 / 2))\n",
    "    Q1_inv_sqrt = U * S * np.transpose(V)\n",
    "    Q1_inv_sqrt = (Q1_inv_sqrt + np.transpose(Q1_inv_sqrt)) / 2\n",
    "    return Q1_inv_sqrt\n",
    "\n",
    "\n",
    "def qlog(q):\n",
    "    U, S, V = scipy.linalg.svd(q)\n",
    "    s = np.diag(S)\n",
    "    S = np.diag(np.log(s))\n",
    "    Q = U * S * np.transpose(V)\n",
    "    return Q\n",
    "\n",
    "\n",
    "def tangential(all_FC, ref):\n",
    "    # Regularization for riemann\n",
    "    if ref in ['riemann', 'kullback_sym', 'logeuclid']:\n",
    "        print(\"Adding regularization!\")\n",
    "        eye_mat = np.eye(all_FC.shape[1])\n",
    "        scaling_mat = np.repeat(eye_mat[None, ...], all_FC.shape[0], axis=0)\n",
    "        all_FC += scaling_mat\n",
    "    Cg = mean_covariance(all_FC, metric=ref)\n",
    "    Q1_inv_sqrt = q1invm(Cg)\n",
    "    Q = Q1_inv_sqrt @ all_FC @ Q1_inv_sqrt\n",
    "    tangent_FC = np.array([qlog(a) for a in Q])\n",
    "    return tangent_FC\n",
    "\n",
    "\n",
    "def pca_recon(FC, pctComp=None):\n",
    "    '''\n",
    "    Reconstructs FC based on number of principle components\n",
    "    '''\n",
    "    if pctComp is None:\n",
    "        return FC\n",
    "    FC = np.reshape(FC, (FC.shape[0], -1))\n",
    "    nComp = int(FC.shape[0] * pctComp)\n",
    "    mu = np.mean(FC, axis=0)\n",
    "    pca_rest = sklearn.decomposition.PCA()\n",
    "    pca_rest.fit(FC)\n",
    "    SCORES = pca_rest.transform(FC)[:, :nComp]\n",
    "    COEFFS = pca_rest.components_[:nComp, :]\n",
    "    FC_recon = np.dot(SCORES, COEFFS)\n",
    "    del SCORES, COEFFS\n",
    "    FC_recon += mu\n",
    "    FC_recon = np.reshape(FC_recon, (FC.shape[0], 374, 374))\n",
    "    return FC_recon\n",
    "\n",
    "\n",
    "   "
   ]
  },
  {
   "cell_type": "code",
   "execution_count": 3,
   "metadata": {},
   "outputs": [
    {
     "name": "stdout",
     "output_type": "stream",
     "text": [
      "Which distance metric? euclid\n",
      "Importing all correlation matrices... All FCs successfully loaded!\n",
      "\n"
     ]
    }
   ],
   "source": [
    "ref = 'euclid' \n",
    "distance_method = input(\"Which distance metric? \").lower()\n",
    "# Navigate tree and get raw correlation FC matrices\n",
    "print(\"Importing all correlation matrices...\", end=\" \")\n",
    "all_FC, nSubj = get_data()\n",
    "print(\"All FCs successfully loaded!\\n\")"
   ]
  },
  {
   "cell_type": "code",
   "execution_count": 4,
   "metadata": {},
   "outputs": [],
   "source": [
    "labels = np.tile(np.repeat(np.arange(0, 8), nSubj), 2)\n",
    "indices = np.random.permutation(all_FC.shape[0])\n",
    "train_idx = indices[:int(0.80 * all_FC.shape[0])]\n",
    "test_idx = indices[int(0.80 * all_FC.shape[0]):]\n",
    "train_labels = labels[train_idx]\n",
    "test_labels = labels[test_idx]"
   ]
  },
  {
   "cell_type": "code",
   "execution_count": null,
   "metadata": {},
   "outputs": [],
   "source": [
    "accuracies = {}"
   ]
  },
  {
   "cell_type": "code",
   "execution_count": 102,
   "metadata": {},
   "outputs": [
    {
     "name": "stdout",
     "output_type": "stream",
     "text": [
      "Testing none and corr...\n",
      "Testing none and cosine...\n",
      "Testing none and euclidean...\n"
     ]
    }
   ],
   "source": [
    "for ref in ['euclid', 'harmonic', 'logeuclid', 'kullback_sym', 'riemann', 'none']:\n",
    "    all_FC, nSubj = get_data()\n",
    "    if ref != 'none':\n",
    "        all_FC = tangential(all_FC, ref)\n",
    "    train_FCs = np.zeros((len(train_idx),70125), dtype=np.float32)\n",
    "    for idx, mat in enumerate(all_FC[train_idx]):\n",
    "        train_FCs[idx] = mat[np.triu_indices(mat.shape[0], k=0)]\n",
    "    test_FCs = np.zeros((len(test_idx),70125), dtype=np.float32)\n",
    "    for idx, mat in enumerate(all_FC[test_idx]):\n",
    "        test_FCs[idx] = mat[np.triu_indices(mat.shape[0], k=0)]\n",
    "        \n",
    "    for distance_method in ['corr', 'cosine', 'euclidean']:\n",
    "        print(f'Testing {ref} and {distance_method}...')\n",
    "        num_correct = 0\n",
    "        for idx1, mat1 in enumerate(test_FCs):\n",
    "            min_dist = np.inf\n",
    "            true_label = labels[test_idx[idx1]]\n",
    "            for idx2, mat2 in enumerate(train_FCs):\n",
    "                if distance_method == 'corr':\n",
    "                    temp_dist = distance.correlation(mat1, mat2)\n",
    "                elif distance_method == 'cosine':\n",
    "                    temp_dist = distance.cosine(mat1, mat2)\n",
    "                else:\n",
    "                    temp_dist = distance.euclidean(mat1, mat2)\n",
    "                if temp_dist < min_dist:\n",
    "                    min_dist = temp_dist\n",
    "                    best_idx = train_idx[idx2]\n",
    "            pred_label = labels[best_idx]\n",
    "            if pred_label == true_label:\n",
    "                num_correct += 1\n",
    "        accuracy = num_correct / len(test_idx)\n",
    "        accuracies[ref+\"_\"+distance_method] = accuracy"
   ]
  },
  {
   "cell_type": "code",
   "execution_count": 28,
   "metadata": {},
   "outputs": [
    {
     "data": {
      "text/plain": [
       "{'euclid_correlation': 0.8486842105263158,\n",
       " 'euclid_cosine': 0.8355263157894737,\n",
       " 'euclid_euclidean': 0.13486842105263158,\n",
       " 'harmonic_correlation': 0.8618421052631579,\n",
       " 'harmonic_cosine': 0.8651315789473685,\n",
       " 'harmonic_euclidean': 0.14473684210526316,\n",
       " 'logeuclid_correlation': 0.19407894736842105,\n",
       " 'logeuclid_cosine': 0.19078947368421054,\n",
       " 'logeuclid_euclidean': 0.18092105263157895,\n",
       " 'kullback_sym_correlation': 0.1611842105263158,\n",
       " 'kullback_sym_cosine': 0.16447368421052633,\n",
       " 'kullback_sym_euclidean': 0.16447368421052633,\n",
       " 'riemann_correlation': 0.15460526315789475,\n",
       " 'riemann_cosine': 0.15789473684210525,\n",
       " 'riemann_euclidean': 0.15460526315789475,\n",
       " 'none_correlation': 0.6611842105263158,\n",
       " 'none_cosine': 0.6611842105263158,\n",
       " 'none_euclidean': 0.5296052631578947}"
      ]
     },
     "execution_count": 28,
     "metadata": {},
     "output_type": "execute_result"
    }
   ],
   "source": [
    "accuracies"
   ]
  },
  {
   "cell_type": "code",
   "execution_count": 104,
   "metadata": {},
   "outputs": [],
   "source": [
    "import csv\n",
    "\n",
    "a_file = open(\"../results/distances.csv\", \"w\")\n",
    "\n",
    "writer = csv.writer(a_file)\n",
    "for key, value in accuracies.items():\n",
    "    writer.writerow([key, value])\n",
    "    \n",
    "a_file.close()"
   ]
  },
  {
   "cell_type": "markdown",
   "metadata": {},
   "source": [
    "### KNN Approach"
   ]
  },
  {
   "cell_type": "code",
   "execution_count": 25,
   "metadata": {},
   "outputs": [
    {
     "name": "stdout",
     "output_type": "stream",
     "text": [
      "Testing euclid and correlation...\n",
      "0.8486842105263158\n",
      "Testing euclid and cosine...\n",
      "0.8355263157894737\n",
      "Testing euclid and euclidean...\n",
      "0.13486842105263158\n",
      "Testing harmonic and correlation...\n",
      "0.8618421052631579\n",
      "Testing harmonic and cosine...\n",
      "0.8651315789473685\n",
      "Testing harmonic and euclidean...\n",
      "0.14473684210526316\n",
      "Adding regularization!\n",
      "Testing logeuclid and correlation...\n",
      "0.19407894736842105\n",
      "Testing logeuclid and cosine...\n",
      "0.19078947368421054\n",
      "Testing logeuclid and euclidean...\n",
      "0.18092105263157895\n",
      "Adding regularization!\n",
      "Testing kullback_sym and correlation...\n",
      "0.1611842105263158\n",
      "Testing kullback_sym and cosine...\n",
      "0.16447368421052633\n",
      "Testing kullback_sym and euclidean...\n",
      "0.16447368421052633\n",
      "Adding regularization!\n",
      "Testing riemann and correlation...\n",
      "0.15460526315789475\n",
      "Testing riemann and cosine...\n",
      "0.15789473684210525\n",
      "Testing riemann and euclidean...\n",
      "0.15460526315789475\n",
      "Testing none and correlation...\n",
      "0.6611842105263158\n",
      "Testing none and cosine...\n",
      "0.6611842105263158\n",
      "Testing none and euclidean...\n",
      "0.5296052631578947\n"
     ]
    }
   ],
   "source": [
    "from sklearn.neighbors import KNeighborsClassifier\n",
    "from sklearn.metrics import accuracy_score\n",
    "accuracies = {}\n",
    "for ref in ['euclid', 'harmonic', 'logeuclid', 'kullback_sym', 'riemann', 'none']:\n",
    "    all_FC, nSubj = get_data()\n",
    "    if ref != 'none':\n",
    "        all_FC = tangential(all_FC, ref)\n",
    "    train_FCs = np.zeros((len(train_idx),70125), dtype=np.float32)\n",
    "    for idx, mat in enumerate(all_FC[train_idx]):\n",
    "        train_FCs[idx] = mat[np.triu_indices(mat.shape[0], k=0)]\n",
    "    test_FCs = np.zeros((len(test_idx),70125), dtype=np.float32)\n",
    "    for idx, mat in enumerate(all_FC[test_idx]):\n",
    "        test_FCs[idx] = mat[np.triu_indices(mat.shape[0], k=0)]\n",
    "        \n",
    "    for distance_method in ['correlation', 'cosine', 'euclidean']:\n",
    "        print(f'Testing {ref} reference with {distance_method} distance...')\n",
    "        neigh = KNeighborsClassifier(n_neighbors=30, metric=distance_method)\n",
    "        neigh.fit(train_FCs, train_labels)\n",
    "        predicted = neigh.predict(test_FCs)\n",
    "        acc = accuracy_score(test_labels, predicted)\n",
    "        print(acc)\n",
    "        accuracies[ref+\"_\"+distance_method] = acc"
   ]
  },
  {
   "cell_type": "code",
   "execution_count": 27,
   "metadata": {},
   "outputs": [],
   "source": [
    "import csv\n",
    "a_file = open(\"../results/knn_distances.csv\", \"w\")\n",
    "\n",
    "writer = csv.writer(a_file)\n",
    "for key, value in accuracies.items():\n",
    "    writer.writerow([key, value])\n",
    "    \n",
    "a_file.close()"
   ]
  }
 ],
 "metadata": {
  "kernelspec": {
   "display_name": "Python 3",
   "language": "python",
   "name": "python3"
  },
  "language_info": {
   "codemirror_mode": {
    "name": "ipython",
    "version": 3
   },
   "file_extension": ".py",
   "mimetype": "text/x-python",
   "name": "python",
   "nbconvert_exporter": "python",
   "pygments_lexer": "ipython3",
   "version": "3.7.6"
  }
 },
 "nbformat": 4,
 "nbformat_minor": 4
}
