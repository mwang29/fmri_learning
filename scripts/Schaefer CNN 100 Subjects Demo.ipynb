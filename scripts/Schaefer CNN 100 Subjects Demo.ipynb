{
 "cells": [
  {
   "cell_type": "code",
   "execution_count": 1,
   "metadata": {},
   "outputs": [],
   "source": [
    "import numpy as np\n",
    "import scipy.io as sio\n",
    "import matplotlib.pyplot as plt\n",
    "import sklearn.decomposition\n",
    "import pickle\n",
    "from sklearn.metrics import confusion_matrix\n",
    "import h5py"
   ]
  },
  {
   "cell_type": "code",
   "execution_count": 2,
   "metadata": {},
   "outputs": [],
   "source": [
    "import itertools\n",
    "import numpy as np\n",
    "import matplotlib.pyplot as plt\n",
    "\n",
    "def plot_confusion_matrix(cm, classes, normalize=False, title='Confusion matrix', cmap=plt.cm.Blues):\n",
    "    if normalize:\n",
    "        cm = cm.astype('float') / cm.sum(axis=1)[:, np.newaxis]\n",
    "        print(\"Normalized confusion matrix\")\n",
    "    else:\n",
    "        print('Confusion matrix, without normalization')\n",
    "\n",
    "    print(cm)\n",
    "    plt.imshow(cm, interpolation='nearest', cmap=cmap)\n",
    "    plt.title(title)\n",
    "    plt.colorbar()\n",
    "    tick_marks = np.arange(len(classes))\n",
    "    plt.xticks(tick_marks, classes, rotation=45)\n",
    "    plt.yticks(tick_marks, classes)\n",
    "\n",
    "    fmt = '.2f' if normalize else 'd'\n",
    "    thresh = cm.max() / 2.\n",
    "    for i, j in itertools.product(range(cm.shape[0]), range(cm.shape[1])):\n",
    "        plt.text(j, i, format(cm[i, j], fmt), horizontalalignment=\"center\", color=\"white\" if cm[i, j] > thresh else \"black\")\n",
    "\n",
    "    plt.tight_layout()\n",
    "    plt.ylabel('True label')\n",
    "    plt.xlabel('Predicted label')\n",
    "    plt.savefig('../results/confusion_matrix.png', bbox_inches='tight', transparent=True)"
   ]
  },
  {
   "cell_type": "code",
   "execution_count": 3,
   "metadata": {},
   "outputs": [],
   "source": [
    "def utri2mat(utri):\n",
    "    n = int(-1 + np.sqrt(1 + 8 * len(utri))) // 2\n",
    "    iu1 = np.triu_indices(n)\n",
    "    ret = np.empty((n, n))\n",
    "    ret[iu1] = utri\n",
    "    ret.T[iu1] = utri\n",
    "    return ret\n",
    "\n",
    "def get_data():\n",
    "    '''\n",
    "    Extracts FCs for each parcellation and stores into a dictionary of dictionaries\n",
    "    '''\n",
    "    all_parc = {}\n",
    "    for p in np.arange(100,600,100):\n",
    "        temp_parc = {}\n",
    "        filename = f'../data/FC_all_vec_424_schaefer_subc_{p}.mat'\n",
    "        f = h5py.File(filename, 'r')\n",
    "        for k, v in f.items():\n",
    "            temp_parc[k] = np.array(v)\n",
    "        all_parc[p] = temp_parc\n",
    "    return all_parc\n",
    "\n",
    "def pca_recon(FC, pctComp=None):\n",
    "    '''\n",
    "    Reconstructs FC based on number of principle components\n",
    "    '''\n",
    "    if pctComp is None:\n",
    "        return FC\n",
    "    nRegions = FC.shape[1]\n",
    "    FC = np.reshape(FC, (FC.shape[0], -1))\n",
    "    nComp = int(FC.shape[0] * pctComp)\n",
    "    mu = np.mean(FC, axis=0)\n",
    "    pca_rest = sklearn.decomposition.PCA()\n",
    "    pca_rest.fit(FC)\n",
    "    SCORES = pca_rest.transform(FC)[:, :nComp]\n",
    "    COEFFS = pca_rest.components_[:nComp, :]\n",
    "    FC_recon = np.dot(SCORES, COEFFS)\n",
    "    del SCORES, COEFFS\n",
    "    FC_recon += mu\n",
    "    FC_recon = np.reshape(FC_recon, (FC.shape[0], nRegions, nRegions))\n",
    "    return FC_recon\n",
    "\n",
    "def get_all_preds(model, loader):\n",
    "    all_preds = torch.tensor([]).to(device)\n",
    "    for images, labels in loader:\n",
    "        # Transfer to GPU\n",
    "        if use_cuda:\n",
    "            images, labels = images.to(device), labels.to(device)\n",
    "        preds = model(images)\n",
    "        all_preds = torch.cat((all_preds, preds), dim=0)\n",
    "    return all_preds\n"
   ]
  },
  {
   "cell_type": "code",
   "execution_count": null,
   "metadata": {},
   "outputs": [],
   "source": [
    "all_parc = get_data()\n",
    "\n",
    "fname = '../data/uttara_100_unrelated.csv'\n",
    "subjectids = np.loadtxt(fname, dtype=np.int).tolist()\n",
    "\n",
    "all_ids = all_parc[200]['IDs'].tolist()[0]\n",
    "all_ids = [int(i) for i in all_ids]\n",
    "indices = np.array([i for i, x in enumerate(all_ids) if x in subjectids])\n",
    "\n",
    "test = indices * 2 - 1\n",
    "retest = test + 1\n",
    "c = np.empty((test.size + retest.size,), dtype=test.dtype)\n",
    "c[0::2] = test\n",
    "c[1::2] = retest"
   ]
  },
  {
   "cell_type": "code",
   "execution_count": 113,
   "metadata": {},
   "outputs": [],
   "source": [
    "all_indices = np.concatenate((c, c+848, c+2*848, c+3*848, c+4*848, c+5*848, c+6*848, c+7*848))\n",
    "unrelated_subj = all_parc[500]['FC_all_vec'][all_indices]\n",
    "\n",
    "nSubj = int(unrelated_subj.shape[0] / 16)\n",
    "nFCs = int(unrelated_subj.shape[0])\n",
    "testFCs = unrelated_subj[::2]\n",
    "retest_FCs = unrelated_subj[1::2]\n",
    "reordered_FCs = np.float32(np.concatenate([testFCs, retest_FCs]))\n",
    "del testFCs, retest_FCs\n",
    "all_FC = np.zeros((nFCs, 500 + 13, 500 + 13),dtype=\"float32\")\n",
    "for i in np.arange(0, nFCs):\n",
    "    all_FC[i] = utri2mat(reordered_FCs[i])\n",
    "    \n",
    "with open('../data/schaefer500_unrelated.pickle', 'wb') as f:\n",
    "    pickle.dump(all_FC, f, protocol=4)"
   ]
  },
  {
   "cell_type": "code",
   "execution_count": 4,
   "metadata": {},
   "outputs": [],
   "source": [
    "nSubj = int(all_parc[500]['FC_all_vec'].shape[0] / 16)\n",
    "nFCs = int(all_parc[500]['FC_all_vec'].shape[0])\n",
    "testFCs = all_parc[500]['FC_all_vec'][::2]\n",
    "retest_FCs = all_parc[500]['FC_all_vec'][1::2]\n",
    "reordered_FCs = np.float32(np.concatenate([testFCs, retest_FCs]))\n",
    "del testFCs, retest_FCs\n",
    "all_FC = np.zeros((nFCs, 500 + 13, 500 + 13),dtype=\"float32\")\n",
    "for i in np.arange(0, nFCs):\n",
    "    all_FC[i] = utri2mat(reordered_FCs[i])\n",
    "    \n",
    "with open('../data/schaefer500.pickle', 'wb') as f:\n",
    "    pickle.dump(all_FC, f, protocol=4)"
   ]
  },
  {
   "cell_type": "code",
   "execution_count": 116,
   "metadata": {},
   "outputs": [
    {
     "name": "stdout",
     "output_type": "stream",
     "text": [
      "(1136, 113, 113)\n"
     ]
    },
    {
     "data": {
      "text/plain": [
       "71"
      ]
     },
     "execution_count": 116,
     "metadata": {},
     "output_type": "execute_result"
    }
   ],
   "source": [
    "parc = 100\n",
    "with open(f'../data/schaefer{parc}_unrelated.pickle', 'rb') as f:\n",
    "    all_FC = pickle.load(f)\n",
    "print(all_FC.shape)\n",
    "nSubj = int(all_FC.shape[0]/16)\n",
    "nFCs = int(all_FC.shape[0])\n",
    "#all_FC = pca_recon(all_FC, 0.01)\\"
   ]
  },
  {
   "cell_type": "markdown",
   "metadata": {},
   "source": [
    "## Deep Learning"
   ]
  },
  {
   "cell_type": "code",
   "execution_count": 117,
   "metadata": {},
   "outputs": [
    {
     "name": "stdout",
     "output_type": "stream",
     "text": [
      "No GPU detected. Will use CPU for training.\n"
     ]
    }
   ],
   "source": [
    "import torch\n",
    "from torch import nn, optim\n",
    "import torch.nn.functional as F\n",
    "from torch.utils import data\n",
    "from sklearn.preprocessing import StandardScaler\n",
    "\n",
    "# GPU is available? If so, we use it.\n",
    "use_cuda = torch.cuda.is_available() \n",
    "device = torch.device(\"cuda:0\" if use_cuda else \"cpu\")\n",
    "if use_cuda:\n",
    "    print(\"GPU detected. Will use GPU for training!\")\n",
    "    torch.backends.cudnn.benchmark = True\n",
    "else:\n",
    "    print(\"No GPU detected. Will use CPU for training.\")"
   ]
  },
  {
   "cell_type": "code",
   "execution_count": 118,
   "metadata": {},
   "outputs": [],
   "source": [
    "# Create labels corresponding to all_FC \n",
    "labels = torch.tensor(np.tile(np.repeat(np.arange(0,8),nSubj),2), dtype=torch.long)\n",
    "# Randomly shuffled indices for test FCs\n",
    "indices = np.random.permutation(nFCs)\n",
    "# Take subsets of data for training, validation, test\n",
    "train_val_idx = indices[:int(0.8*nFCs)]\n",
    "\n",
    "val_idx = train_val_idx[int(0.8*train_val_idx.shape[0]):]\n",
    "train_idx = train_val_idx[:int(0.8*train_val_idx.shape[0])]\n",
    "test_idx = indices[int(0.8*nFCs):]"
   ]
  },
  {
   "cell_type": "code",
   "execution_count": 119,
   "metadata": {},
   "outputs": [],
   "source": [
    "train_mean = np.mean(all_FC[train_idx])\n",
    "train_std = np.std(all_FC[train_idx])\n",
    "train_data = torch.FloatTensor((all_FC[train_idx] - train_mean) / train_std)\n",
    "val_data = torch.FloatTensor((all_FC[val_idx] - train_mean) / train_std)\n",
    "test_data = torch.FloatTensor((all_FC[test_idx] - train_mean) / train_std)"
   ]
  },
  {
   "cell_type": "code",
   "execution_count": 120,
   "metadata": {},
   "outputs": [],
   "source": [
    "train_data = train_data.view(train_data.shape[0], -1, train_data.shape[1], train_data.shape[2])\n",
    "val_data = val_data.view(val_data.shape[0], -1, val_data.shape[1], val_data.shape[2])\n",
    "test_data = test_data.view(test_data.shape[0], -1, test_data.shape[1], test_data.shape[2])"
   ]
  },
  {
   "cell_type": "code",
   "execution_count": 121,
   "metadata": {},
   "outputs": [],
   "source": [
    "train_dataset = data.TensorDataset(train_data,labels[train_idx]) # create your datset\n",
    "val_dataset = data.TensorDataset(val_data,labels[val_idx]) # create your datset\n",
    "test_dataset = data.TensorDataset(test_data,labels[test_idx]) # create your datset\n",
    "\n",
    "train_loader = data.DataLoader(train_dataset, batch_size=80) # create your dataloader\n",
    "val_loader = data.DataLoader(val_dataset, batch_size=80) # create your dataloader\n",
    "test_loader = data.DataLoader(test_dataset, batch_size=80) # create your dataloader\n"
   ]
  },
  {
   "cell_type": "markdown",
   "metadata": {},
   "source": [
    "## NN Architecture"
   ]
  },
  {
   "cell_type": "code",
   "execution_count": 122,
   "metadata": {},
   "outputs": [],
   "source": [
    "del all_FC\n",
    "output_size = 8\n",
    "max_epochs = 200\n",
    "n_epochs_stop = 5"
   ]
  },
  {
   "cell_type": "code",
   "execution_count": 123,
   "metadata": {},
   "outputs": [],
   "source": [
    "class Net(nn.Module):\n",
    "    def __init__(self, nHidden):\n",
    "        super(Net, self).__init__()\n",
    "        self.conv1 = nn.Conv2d(1, 6, kernel_size=5)\n",
    "        self.conv2 = nn.Conv2d(6, 12, kernel_size=5)\n",
    "        self.conv2_bn = nn.BatchNorm2d(12)\n",
    "        self.conv2_drop = nn.Dropout2d()\n",
    "        self.fc1 = nn.Linear(nHidden, 128)\n",
    "        self.fc2 = nn.Linear(128, 8)\n",
    "\n",
    "    def forward(self, x):\n",
    "        x = F.relu(F.max_pool2d(self.conv1(x), (3,3)))\n",
    "        x = F.relu(F.max_pool2d(self.conv2_bn(self.conv2(x)), (3,3)))\n",
    "        x = x.view(-1, self.num_flat_features(x))\n",
    "        x = F.relu(self.fc1(x))\n",
    "        x = self.fc2(x)\n",
    "        return x\n",
    "    \n",
    "    def num_flat_features(self, x):\n",
    "        size = x.size()[1:]  # all dimensions except the batch dimension\n",
    "        num_features = 1\n",
    "        for s in size:\n",
    "            num_features *= s\n",
    "        return num_features\n",
    "\n",
    "hidden_dict = {100: 1200, 200: 5292, 300: 13068, 400: 23232, 500: 36300}\n",
    "model = Net(hidden_dict[parc])\n"
   ]
  },
  {
   "cell_type": "code",
   "execution_count": 124,
   "metadata": {},
   "outputs": [
    {
     "name": "stdout",
     "output_type": "stream",
     "text": [
      "Net(\n",
      "  (conv1): Conv2d(1, 6, kernel_size=(5, 5), stride=(1, 1))\n",
      "  (conv2): Conv2d(6, 12, kernel_size=(5, 5), stride=(1, 1))\n",
      "  (conv2_bn): BatchNorm2d(12, eps=1e-05, momentum=0.1, affine=True, track_running_stats=True)\n",
      "  (conv2_drop): Dropout2d(p=0.5, inplace=False)\n",
      "  (fc1): Linear(in_features=1200, out_features=128, bias=True)\n",
      "  (fc2): Linear(in_features=128, out_features=8, bias=True)\n",
      ")\n"
     ]
    }
   ],
   "source": [
    "loss_fn = nn.CrossEntropyLoss()\n",
    "opt = optim.SGD(model.parameters(), lr=0.001)\n",
    "if use_cuda:\n",
    "    model = model.cuda()\n",
    "print(model)"
   ]
  },
  {
   "cell_type": "code",
   "execution_count": 125,
   "metadata": {},
   "outputs": [],
   "source": [
    "load_model = False\n",
    "if load_model:\n",
    "    the_model = Net()\n",
    "    the_model.load_state_dict(torch.load(\"../trained_models/ENTER NAME HERE\"))"
   ]
  },
  {
   "cell_type": "code",
   "execution_count": 126,
   "metadata": {},
   "outputs": [
    {
     "name": "stdout",
     "output_type": "stream",
     "text": [
      "Epoch 1/200, train loss: 2.0789, train acc: 0.168, val loss: 2.087, val acc: 0.132\n",
      "Epoch 2/200, train loss: 2.0565, train acc: 0.190, val loss: 2.075, val acc: 0.159\n",
      "Epoch 3/200, train loss: 2.0417, train acc: 0.209, val loss: 2.062, val acc: 0.176\n",
      "Epoch 4/200, train loss: 2.0292, train acc: 0.209, val loss: 2.049, val acc: 0.192\n",
      "Epoch 5/200, train loss: 2.0173, train acc: 0.205, val loss: 2.038, val acc: 0.192\n",
      "Epoch 6/200, train loss: 2.0055, train acc: 0.220, val loss: 2.027, val acc: 0.214\n",
      "Epoch 7/200, train loss: 1.9935, train acc: 0.233, val loss: 2.016, val acc: 0.231\n",
      "Epoch 8/200, train loss: 1.9820, train acc: 0.248, val loss: 2.005, val acc: 0.231\n",
      "Epoch 9/200, train loss: 1.9706, train acc: 0.269, val loss: 1.994, val acc: 0.253\n",
      "Epoch 10/200, train loss: 1.9596, train acc: 0.291, val loss: 1.983, val acc: 0.275\n",
      "Epoch 11/200, train loss: 1.9486, train acc: 0.313, val loss: 1.972, val acc: 0.280\n",
      "Epoch 12/200, train loss: 1.9377, train acc: 0.333, val loss: 1.962, val acc: 0.297\n",
      "Epoch 13/200, train loss: 1.9270, train acc: 0.358, val loss: 1.952, val acc: 0.313\n",
      "Epoch 14/200, train loss: 1.9159, train acc: 0.382, val loss: 1.942, val acc: 0.330\n",
      "Epoch 15/200, train loss: 1.9053, train acc: 0.399, val loss: 1.933, val acc: 0.346\n",
      "Epoch 16/200, train loss: 1.8951, train acc: 0.408, val loss: 1.923, val acc: 0.368\n",
      "Epoch 17/200, train loss: 1.8846, train acc: 0.419, val loss: 1.913, val acc: 0.368\n",
      "Epoch 18/200, train loss: 1.8743, train acc: 0.428, val loss: 1.903, val acc: 0.379\n",
      "Epoch 19/200, train loss: 1.8638, train acc: 0.442, val loss: 1.894, val acc: 0.385\n",
      "Epoch 20/200, train loss: 1.8535, train acc: 0.452, val loss: 1.884, val acc: 0.396\n",
      "Epoch 21/200, train loss: 1.8430, train acc: 0.461, val loss: 1.874, val acc: 0.407\n",
      "Epoch 22/200, train loss: 1.8323, train acc: 0.478, val loss: 1.864, val acc: 0.418\n",
      "Epoch 23/200, train loss: 1.8218, train acc: 0.492, val loss: 1.855, val acc: 0.434\n",
      "Epoch 24/200, train loss: 1.8112, train acc: 0.501, val loss: 1.845, val acc: 0.445\n",
      "Epoch 25/200, train loss: 1.8002, train acc: 0.525, val loss: 1.835, val acc: 0.445\n",
      "Epoch 26/200, train loss: 1.7896, train acc: 0.539, val loss: 1.825, val acc: 0.445\n",
      "Epoch 27/200, train loss: 1.7786, train acc: 0.540, val loss: 1.816, val acc: 0.462\n",
      "Epoch 28/200, train loss: 1.7675, train acc: 0.555, val loss: 1.805, val acc: 0.473\n",
      "Epoch 29/200, train loss: 1.7566, train acc: 0.566, val loss: 1.795, val acc: 0.478\n",
      "Epoch 30/200, train loss: 1.7456, train acc: 0.579, val loss: 1.786, val acc: 0.489\n",
      "Epoch 31/200, train loss: 1.7349, train acc: 0.579, val loss: 1.775, val acc: 0.500\n",
      "Epoch 32/200, train loss: 1.7240, train acc: 0.584, val loss: 1.766, val acc: 0.500\n",
      "Epoch 33/200, train loss: 1.7134, train acc: 0.590, val loss: 1.756, val acc: 0.516\n",
      "Epoch 34/200, train loss: 1.7025, train acc: 0.601, val loss: 1.746, val acc: 0.527\n",
      "Epoch 35/200, train loss: 1.6915, train acc: 0.607, val loss: 1.736, val acc: 0.533\n",
      "Epoch 36/200, train loss: 1.6808, train acc: 0.610, val loss: 1.725, val acc: 0.538\n",
      "Epoch 37/200, train loss: 1.6700, train acc: 0.614, val loss: 1.715, val acc: 0.549\n",
      "Epoch 38/200, train loss: 1.6592, train acc: 0.623, val loss: 1.705, val acc: 0.555\n",
      "Epoch 39/200, train loss: 1.6482, train acc: 0.628, val loss: 1.695, val acc: 0.571\n",
      "Epoch 40/200, train loss: 1.6372, train acc: 0.635, val loss: 1.685, val acc: 0.588\n",
      "Epoch 41/200, train loss: 1.6263, train acc: 0.636, val loss: 1.675, val acc: 0.593\n",
      "Epoch 42/200, train loss: 1.6153, train acc: 0.636, val loss: 1.665, val acc: 0.593\n",
      "Epoch 43/200, train loss: 1.6042, train acc: 0.647, val loss: 1.654, val acc: 0.599\n",
      "Epoch 44/200, train loss: 1.5929, train acc: 0.653, val loss: 1.644, val acc: 0.604\n",
      "Epoch 45/200, train loss: 1.5818, train acc: 0.660, val loss: 1.634, val acc: 0.604\n",
      "Epoch 46/200, train loss: 1.5708, train acc: 0.664, val loss: 1.624, val acc: 0.604\n",
      "Epoch 47/200, train loss: 1.5596, train acc: 0.665, val loss: 1.613, val acc: 0.610\n",
      "Epoch 48/200, train loss: 1.5486, train acc: 0.676, val loss: 1.603, val acc: 0.610\n",
      "Epoch 49/200, train loss: 1.5375, train acc: 0.687, val loss: 1.593, val acc: 0.615\n",
      "Epoch 50/200, train loss: 1.5264, train acc: 0.687, val loss: 1.583, val acc: 0.626\n",
      "Epoch 51/200, train loss: 1.5154, train acc: 0.691, val loss: 1.572, val acc: 0.621\n",
      "Epoch 52/200, train loss: 1.5045, train acc: 0.700, val loss: 1.562, val acc: 0.626\n"
     ]
    },
    {
     "ename": "KeyboardInterrupt",
     "evalue": "",
     "output_type": "error",
     "traceback": [
      "\u001b[0;31m---------------------------------------------------------------------------\u001b[0m",
      "\u001b[0;31mKeyboardInterrupt\u001b[0m                         Traceback (most recent call last)",
      "\u001b[0;32m<ipython-input-126-a2ce49e3d14c>\u001b[0m in \u001b[0;36m<module>\u001b[0;34m\u001b[0m\n\u001b[1;32m     23\u001b[0m \u001b[0;34m\u001b[0m\u001b[0m\n\u001b[1;32m     24\u001b[0m         \u001b[0mopt\u001b[0m\u001b[0;34m.\u001b[0m\u001b[0mzero_grad\u001b[0m\u001b[0;34m(\u001b[0m\u001b[0;34m)\u001b[0m\u001b[0;34m\u001b[0m\u001b[0;34m\u001b[0m\u001b[0m\n\u001b[0;32m---> 25\u001b[0;31m         \u001b[0moutput\u001b[0m \u001b[0;34m=\u001b[0m \u001b[0mmodel\u001b[0m\u001b[0;34m(\u001b[0m\u001b[0mlocal_batch\u001b[0m\u001b[0;34m)\u001b[0m\u001b[0;34m\u001b[0m\u001b[0;34m\u001b[0m\u001b[0m\n\u001b[0m\u001b[1;32m     26\u001b[0m         \u001b[0mloss\u001b[0m \u001b[0;34m=\u001b[0m \u001b[0mloss_fn\u001b[0m\u001b[0;34m(\u001b[0m\u001b[0moutput\u001b[0m\u001b[0;34m,\u001b[0m \u001b[0mlocal_labels\u001b[0m\u001b[0;34m)\u001b[0m\u001b[0;34m\u001b[0m\u001b[0;34m\u001b[0m\u001b[0m\n\u001b[1;32m     27\u001b[0m         \u001b[0mloss\u001b[0m\u001b[0;34m.\u001b[0m\u001b[0mbackward\u001b[0m\u001b[0;34m(\u001b[0m\u001b[0;34m)\u001b[0m\u001b[0;34m\u001b[0m\u001b[0;34m\u001b[0m\u001b[0m\n",
      "\u001b[0;32m~/anaconda3/envs/fmri/lib/python3.7/site-packages/torch/nn/modules/module.py\u001b[0m in \u001b[0;36m__call__\u001b[0;34m(self, *input, **kwargs)\u001b[0m\n\u001b[1;32m    530\u001b[0m             \u001b[0mresult\u001b[0m \u001b[0;34m=\u001b[0m \u001b[0mself\u001b[0m\u001b[0;34m.\u001b[0m\u001b[0m_slow_forward\u001b[0m\u001b[0;34m(\u001b[0m\u001b[0;34m*\u001b[0m\u001b[0minput\u001b[0m\u001b[0;34m,\u001b[0m \u001b[0;34m**\u001b[0m\u001b[0mkwargs\u001b[0m\u001b[0;34m)\u001b[0m\u001b[0;34m\u001b[0m\u001b[0;34m\u001b[0m\u001b[0m\n\u001b[1;32m    531\u001b[0m         \u001b[0;32melse\u001b[0m\u001b[0;34m:\u001b[0m\u001b[0;34m\u001b[0m\u001b[0;34m\u001b[0m\u001b[0m\n\u001b[0;32m--> 532\u001b[0;31m             \u001b[0mresult\u001b[0m \u001b[0;34m=\u001b[0m \u001b[0mself\u001b[0m\u001b[0;34m.\u001b[0m\u001b[0mforward\u001b[0m\u001b[0;34m(\u001b[0m\u001b[0;34m*\u001b[0m\u001b[0minput\u001b[0m\u001b[0;34m,\u001b[0m \u001b[0;34m**\u001b[0m\u001b[0mkwargs\u001b[0m\u001b[0;34m)\u001b[0m\u001b[0;34m\u001b[0m\u001b[0;34m\u001b[0m\u001b[0m\n\u001b[0m\u001b[1;32m    533\u001b[0m         \u001b[0;32mfor\u001b[0m \u001b[0mhook\u001b[0m \u001b[0;32min\u001b[0m \u001b[0mself\u001b[0m\u001b[0;34m.\u001b[0m\u001b[0m_forward_hooks\u001b[0m\u001b[0;34m.\u001b[0m\u001b[0mvalues\u001b[0m\u001b[0;34m(\u001b[0m\u001b[0;34m)\u001b[0m\u001b[0;34m:\u001b[0m\u001b[0;34m\u001b[0m\u001b[0;34m\u001b[0m\u001b[0m\n\u001b[1;32m    534\u001b[0m             \u001b[0mhook_result\u001b[0m \u001b[0;34m=\u001b[0m \u001b[0mhook\u001b[0m\u001b[0;34m(\u001b[0m\u001b[0mself\u001b[0m\u001b[0;34m,\u001b[0m \u001b[0minput\u001b[0m\u001b[0;34m,\u001b[0m \u001b[0mresult\u001b[0m\u001b[0;34m)\u001b[0m\u001b[0;34m\u001b[0m\u001b[0;34m\u001b[0m\u001b[0m\n",
      "\u001b[0;32m<ipython-input-123-91967eaf5083>\u001b[0m in \u001b[0;36mforward\u001b[0;34m(self, x)\u001b[0m\n\u001b[1;32m     11\u001b[0m     \u001b[0;32mdef\u001b[0m \u001b[0mforward\u001b[0m\u001b[0;34m(\u001b[0m\u001b[0mself\u001b[0m\u001b[0;34m,\u001b[0m \u001b[0mx\u001b[0m\u001b[0;34m)\u001b[0m\u001b[0;34m:\u001b[0m\u001b[0;34m\u001b[0m\u001b[0;34m\u001b[0m\u001b[0m\n\u001b[1;32m     12\u001b[0m         \u001b[0mx\u001b[0m \u001b[0;34m=\u001b[0m \u001b[0mF\u001b[0m\u001b[0;34m.\u001b[0m\u001b[0mrelu\u001b[0m\u001b[0;34m(\u001b[0m\u001b[0mF\u001b[0m\u001b[0;34m.\u001b[0m\u001b[0mmax_pool2d\u001b[0m\u001b[0;34m(\u001b[0m\u001b[0mself\u001b[0m\u001b[0;34m.\u001b[0m\u001b[0mconv1\u001b[0m\u001b[0;34m(\u001b[0m\u001b[0mx\u001b[0m\u001b[0;34m)\u001b[0m\u001b[0;34m,\u001b[0m \u001b[0;34m(\u001b[0m\u001b[0;36m3\u001b[0m\u001b[0;34m,\u001b[0m\u001b[0;36m3\u001b[0m\u001b[0;34m)\u001b[0m\u001b[0;34m)\u001b[0m\u001b[0;34m)\u001b[0m\u001b[0;34m\u001b[0m\u001b[0;34m\u001b[0m\u001b[0m\n\u001b[0;32m---> 13\u001b[0;31m         \u001b[0mx\u001b[0m \u001b[0;34m=\u001b[0m \u001b[0mF\u001b[0m\u001b[0;34m.\u001b[0m\u001b[0mrelu\u001b[0m\u001b[0;34m(\u001b[0m\u001b[0mF\u001b[0m\u001b[0;34m.\u001b[0m\u001b[0mmax_pool2d\u001b[0m\u001b[0;34m(\u001b[0m\u001b[0mself\u001b[0m\u001b[0;34m.\u001b[0m\u001b[0mconv2_bn\u001b[0m\u001b[0;34m(\u001b[0m\u001b[0mself\u001b[0m\u001b[0;34m.\u001b[0m\u001b[0mconv2\u001b[0m\u001b[0;34m(\u001b[0m\u001b[0mx\u001b[0m\u001b[0;34m)\u001b[0m\u001b[0;34m)\u001b[0m\u001b[0;34m,\u001b[0m \u001b[0;34m(\u001b[0m\u001b[0;36m3\u001b[0m\u001b[0;34m,\u001b[0m\u001b[0;36m3\u001b[0m\u001b[0;34m)\u001b[0m\u001b[0;34m)\u001b[0m\u001b[0;34m)\u001b[0m\u001b[0;34m\u001b[0m\u001b[0;34m\u001b[0m\u001b[0m\n\u001b[0m\u001b[1;32m     14\u001b[0m         \u001b[0mx\u001b[0m \u001b[0;34m=\u001b[0m \u001b[0mx\u001b[0m\u001b[0;34m.\u001b[0m\u001b[0mview\u001b[0m\u001b[0;34m(\u001b[0m\u001b[0;34m-\u001b[0m\u001b[0;36m1\u001b[0m\u001b[0;34m,\u001b[0m \u001b[0mself\u001b[0m\u001b[0;34m.\u001b[0m\u001b[0mnum_flat_features\u001b[0m\u001b[0;34m(\u001b[0m\u001b[0mx\u001b[0m\u001b[0;34m)\u001b[0m\u001b[0;34m)\u001b[0m\u001b[0;34m\u001b[0m\u001b[0;34m\u001b[0m\u001b[0m\n\u001b[1;32m     15\u001b[0m         \u001b[0mx\u001b[0m \u001b[0;34m=\u001b[0m \u001b[0mF\u001b[0m\u001b[0;34m.\u001b[0m\u001b[0mrelu\u001b[0m\u001b[0;34m(\u001b[0m\u001b[0mself\u001b[0m\u001b[0;34m.\u001b[0m\u001b[0mfc1\u001b[0m\u001b[0;34m(\u001b[0m\u001b[0mx\u001b[0m\u001b[0;34m)\u001b[0m\u001b[0;34m)\u001b[0m\u001b[0;34m\u001b[0m\u001b[0;34m\u001b[0m\u001b[0m\n",
      "\u001b[0;32m~/anaconda3/envs/fmri/lib/python3.7/site-packages/torch/nn/modules/module.py\u001b[0m in \u001b[0;36m__call__\u001b[0;34m(self, *input, **kwargs)\u001b[0m\n\u001b[1;32m    530\u001b[0m             \u001b[0mresult\u001b[0m \u001b[0;34m=\u001b[0m \u001b[0mself\u001b[0m\u001b[0;34m.\u001b[0m\u001b[0m_slow_forward\u001b[0m\u001b[0;34m(\u001b[0m\u001b[0;34m*\u001b[0m\u001b[0minput\u001b[0m\u001b[0;34m,\u001b[0m \u001b[0;34m**\u001b[0m\u001b[0mkwargs\u001b[0m\u001b[0;34m)\u001b[0m\u001b[0;34m\u001b[0m\u001b[0;34m\u001b[0m\u001b[0m\n\u001b[1;32m    531\u001b[0m         \u001b[0;32melse\u001b[0m\u001b[0;34m:\u001b[0m\u001b[0;34m\u001b[0m\u001b[0;34m\u001b[0m\u001b[0m\n\u001b[0;32m--> 532\u001b[0;31m             \u001b[0mresult\u001b[0m \u001b[0;34m=\u001b[0m \u001b[0mself\u001b[0m\u001b[0;34m.\u001b[0m\u001b[0mforward\u001b[0m\u001b[0;34m(\u001b[0m\u001b[0;34m*\u001b[0m\u001b[0minput\u001b[0m\u001b[0;34m,\u001b[0m \u001b[0;34m**\u001b[0m\u001b[0mkwargs\u001b[0m\u001b[0;34m)\u001b[0m\u001b[0;34m\u001b[0m\u001b[0;34m\u001b[0m\u001b[0m\n\u001b[0m\u001b[1;32m    533\u001b[0m         \u001b[0;32mfor\u001b[0m \u001b[0mhook\u001b[0m \u001b[0;32min\u001b[0m \u001b[0mself\u001b[0m\u001b[0;34m.\u001b[0m\u001b[0m_forward_hooks\u001b[0m\u001b[0;34m.\u001b[0m\u001b[0mvalues\u001b[0m\u001b[0;34m(\u001b[0m\u001b[0;34m)\u001b[0m\u001b[0;34m:\u001b[0m\u001b[0;34m\u001b[0m\u001b[0;34m\u001b[0m\u001b[0m\n\u001b[1;32m    534\u001b[0m             \u001b[0mhook_result\u001b[0m \u001b[0;34m=\u001b[0m \u001b[0mhook\u001b[0m\u001b[0;34m(\u001b[0m\u001b[0mself\u001b[0m\u001b[0;34m,\u001b[0m \u001b[0minput\u001b[0m\u001b[0;34m,\u001b[0m \u001b[0mresult\u001b[0m\u001b[0;34m)\u001b[0m\u001b[0;34m\u001b[0m\u001b[0;34m\u001b[0m\u001b[0m\n",
      "\u001b[0;32m~/anaconda3/envs/fmri/lib/python3.7/site-packages/torch/nn/modules/batchnorm.py\u001b[0m in \u001b[0;36mforward\u001b[0;34m(self, input)\u001b[0m\n\u001b[1;32m    105\u001b[0m             \u001b[0minput\u001b[0m\u001b[0;34m,\u001b[0m \u001b[0mself\u001b[0m\u001b[0;34m.\u001b[0m\u001b[0mrunning_mean\u001b[0m\u001b[0;34m,\u001b[0m \u001b[0mself\u001b[0m\u001b[0;34m.\u001b[0m\u001b[0mrunning_var\u001b[0m\u001b[0;34m,\u001b[0m \u001b[0mself\u001b[0m\u001b[0;34m.\u001b[0m\u001b[0mweight\u001b[0m\u001b[0;34m,\u001b[0m \u001b[0mself\u001b[0m\u001b[0;34m.\u001b[0m\u001b[0mbias\u001b[0m\u001b[0;34m,\u001b[0m\u001b[0;34m\u001b[0m\u001b[0;34m\u001b[0m\u001b[0m\n\u001b[1;32m    106\u001b[0m             \u001b[0mself\u001b[0m\u001b[0;34m.\u001b[0m\u001b[0mtraining\u001b[0m \u001b[0;32mor\u001b[0m \u001b[0;32mnot\u001b[0m \u001b[0mself\u001b[0m\u001b[0;34m.\u001b[0m\u001b[0mtrack_running_stats\u001b[0m\u001b[0;34m,\u001b[0m\u001b[0;34m\u001b[0m\u001b[0;34m\u001b[0m\u001b[0m\n\u001b[0;32m--> 107\u001b[0;31m             exponential_average_factor, self.eps)\n\u001b[0m\u001b[1;32m    108\u001b[0m \u001b[0;34m\u001b[0m\u001b[0m\n\u001b[1;32m    109\u001b[0m \u001b[0;34m\u001b[0m\u001b[0m\n",
      "\u001b[0;32m~/anaconda3/envs/fmri/lib/python3.7/site-packages/torch/nn/functional.py\u001b[0m in \u001b[0;36mbatch_norm\u001b[0;34m(input, running_mean, running_var, weight, bias, training, momentum, eps)\u001b[0m\n\u001b[1;32m   1668\u001b[0m     return torch.batch_norm(\n\u001b[1;32m   1669\u001b[0m         \u001b[0minput\u001b[0m\u001b[0;34m,\u001b[0m \u001b[0mweight\u001b[0m\u001b[0;34m,\u001b[0m \u001b[0mbias\u001b[0m\u001b[0;34m,\u001b[0m \u001b[0mrunning_mean\u001b[0m\u001b[0;34m,\u001b[0m \u001b[0mrunning_var\u001b[0m\u001b[0;34m,\u001b[0m\u001b[0;34m\u001b[0m\u001b[0;34m\u001b[0m\u001b[0m\n\u001b[0;32m-> 1670\u001b[0;31m         \u001b[0mtraining\u001b[0m\u001b[0;34m,\u001b[0m \u001b[0mmomentum\u001b[0m\u001b[0;34m,\u001b[0m \u001b[0meps\u001b[0m\u001b[0;34m,\u001b[0m \u001b[0mtorch\u001b[0m\u001b[0;34m.\u001b[0m\u001b[0mbackends\u001b[0m\u001b[0;34m.\u001b[0m\u001b[0mcudnn\u001b[0m\u001b[0;34m.\u001b[0m\u001b[0menabled\u001b[0m\u001b[0;34m\u001b[0m\u001b[0;34m\u001b[0m\u001b[0m\n\u001b[0m\u001b[1;32m   1671\u001b[0m     )\n\u001b[1;32m   1672\u001b[0m \u001b[0;34m\u001b[0m\u001b[0m\n",
      "\u001b[0;31mKeyboardInterrupt\u001b[0m: "
     ]
    }
   ],
   "source": [
    "history = {}\n",
    "history['loss'] = []\n",
    "history['val_loss'] = []\n",
    "history['acc'] = []\n",
    "history['val_acc'] = []\n",
    "min_val_loss = np.Inf\n",
    "early_stop = False\n",
    "# Loop over epochs\n",
    "\n",
    "\n",
    "for epoch in range(max_epochs):\n",
    "    # Training\n",
    "    model.train()\n",
    "    train_loss         = 0.0\n",
    "    num_train_correct  = 0\n",
    "    num_train_examples = 0\n",
    "    for local_batch, local_labels in train_loader:\n",
    "        # Transfer to GPU\n",
    "        if use_cuda:\n",
    "            local_batch, local_labels = local_batch.to(device), local_labels.to(device)\n",
    "\n",
    "\n",
    "\n",
    "        opt.zero_grad()\n",
    "        output = model(local_batch)\n",
    "        loss = loss_fn(output, local_labels)\n",
    "        loss.backward()\n",
    "        opt.step()\n",
    "\n",
    "        train_loss += loss.data.item() * local_batch.size(0)\n",
    "        num_train_correct  += (torch.max(output, 1)[1] == local_labels).sum().item()\n",
    "        num_train_examples += local_batch.shape[0]\n",
    "\n",
    "    train_acc = num_train_correct / num_train_examples\n",
    "    train_loss  = train_loss / len(train_loader.dataset)\n",
    "\n",
    "    # Validation\n",
    "    model.eval()\n",
    "    val_loss       = 0.0\n",
    "    num_val_correct  = 0\n",
    "    num_val_examples = 0\n",
    "    with torch.set_grad_enabled(False):\n",
    "        for local_batch, local_labels in val_loader:\n",
    "            # Transfer to GPU\n",
    "            if use_cuda:\n",
    "                local_batch, local_labels = local_batch.to(device), local_labels.to(device)\n",
    "            output = model(local_batch)\n",
    "            loss = loss_fn(output, local_labels)\n",
    "\n",
    "            val_loss += loss.data.item() * local_batch.size(0)\n",
    "            num_val_correct  += (torch.max(output, 1)[1] == local_labels).sum().item()\n",
    "            num_val_examples += local_batch.shape[0]\n",
    "\n",
    "        val_acc  = num_val_correct / num_val_examples\n",
    "        val_loss = val_loss / len(val_loader.dataset)\n",
    "\n",
    "        if val_loss < min_val_loss:\n",
    "            epochs_no_improve = 0\n",
    "            min_val_loss = val_loss\n",
    "        else:\n",
    "            epochs_no_improve += 1\n",
    "  # Check early stopping condition\n",
    "        if epochs_no_improve == n_epochs_stop:\n",
    "            early_stop = print('Early stopping!')\n",
    "            break\n",
    "\n",
    "        \n",
    "    print(f'Epoch {epoch+1}/{max_epochs}, train loss: {train_loss:5.4f}, train acc: {train_acc:5.3f}, val loss: {val_loss:5.3f}, val acc: {val_acc:5.3f}')\n",
    "    \n",
    "    \n",
    "    history['loss'].append(train_loss)\n",
    "    history['val_loss'].append(val_loss)\n",
    "    history['acc'].append(train_acc)\n",
    "    history['val_acc'].append(val_acc)\n",
    "    \n",
    "    if early_stop:\n",
    "        print(\"Stopped\")\n",
    "        break"
   ]
  },
  {
   "cell_type": "code",
   "execution_count": null,
   "metadata": {},
   "outputs": [],
   "source": [
    "local_batch.device"
   ]
  },
  {
   "cell_type": "code",
   "execution_count": null,
   "metadata": {},
   "outputs": [],
   "source": [
    "torch.save(model.state_dict(), \"../trained_models/schaefer200_pca\")"
   ]
  },
  {
   "cell_type": "code",
   "execution_count": null,
   "metadata": {},
   "outputs": [],
   "source": [
    "model.eval()\n",
    "num_correct  = 0\n",
    "num_examples = 0\n",
    "with torch.set_grad_enabled(False):\n",
    "    for local_batch, local_labels in test_loader:\n",
    "        # Transfer to GPU\n",
    "        if use_cuda:\n",
    "            local_batch, local_labels = local_batch.to(device), local_labels.to(device)\n",
    "        output = model(local_batch)\n",
    "        num_correct  += (torch.max(output, 1)[1] == local_labels).sum().item()\n",
    "        num_examples += local_batch.shape[0]\n",
    "            \n",
    "    test_acc  = num_correct / num_examples"
   ]
  },
  {
   "cell_type": "code",
   "execution_count": null,
   "metadata": {},
   "outputs": [],
   "source": [
    "plt.plot(history['loss'])\n",
    "plt.plot(history['val_loss'])\n",
    "plt.title('Model loss')\n",
    "plt.ylabel('Loss')\n",
    "plt.xlabel('Epoch')\n",
    "plt.legend(['Train', 'Validation'], loc='upper right')\n",
    "plt.savefig('../results/train_loss_curve.eps', bbox_inches='tight', transparent=True)\n",
    "plt.show()"
   ]
  },
  {
   "cell_type": "code",
   "execution_count": null,
   "metadata": {},
   "outputs": [],
   "source": [
    "plt.plot(history['acc'])\n",
    "plt.plot(history['val_acc'])\n",
    "plt.title('Model accuracy')\n",
    "plt.ylabel('Accuracy')\n",
    "plt.xlabel('Epoch')\n",
    "plt.legend(['Train', 'Validation'], loc='upper right')\n",
    "plt.savefig('../results/train_val_accuracy.eps', bbox_inches='tight', transparent=True)\n",
    "plt.show()"
   ]
  },
  {
   "cell_type": "code",
   "execution_count": null,
   "metadata": {},
   "outputs": [],
   "source": [
    "test_acc"
   ]
  },
  {
   "cell_type": "code",
   "execution_count": null,
   "metadata": {},
   "outputs": [],
   "source": [
    "test_labels = labels[test_idx]\n",
    "with torch.set_grad_enabled(False):\n",
    "    test_preds = get_all_preds(model, test_loader)"
   ]
  },
  {
   "cell_type": "code",
   "execution_count": null,
   "metadata": {},
   "outputs": [],
   "source": [
    "stacked = torch.stack((test_labels.to(device), test_preds.argmax(dim=1)),dim=1)"
   ]
  },
  {
   "cell_type": "code",
   "execution_count": null,
   "metadata": {},
   "outputs": [],
   "source": [
    "cmt = torch.zeros(8,8,dtype=torch.int64)"
   ]
  },
  {
   "cell_type": "code",
   "execution_count": null,
   "metadata": {},
   "outputs": [],
   "source": [
    "for p in stacked:\n",
    "    tl,pl = p.tolist()\n",
    "    cmt[tl,pl] = cmt[tl,pl] + 1"
   ]
  },
  {
   "cell_type": "code",
   "execution_count": null,
   "metadata": {},
   "outputs": [],
   "source": [
    "cm = confusion_matrix(test_labels.cpu(), test_preds.cpu().argmax(dim=1))"
   ]
  },
  {
   "cell_type": "code",
   "execution_count": null,
   "metadata": {},
   "outputs": [],
   "source": []
  },
  {
   "cell_type": "code",
   "execution_count": null,
   "metadata": {},
   "outputs": [],
   "source": [
    "names = ('Rest', 'Emotion', 'Gambling', 'Language', 'Motor', 'Relational', 'Social', 'Working Memory')\n",
    "plt.figure(figsize=(8,8))\n",
    "plot_confusion_matrix(cm, names)"
   ]
  },
  {
   "cell_type": "code",
   "execution_count": null,
   "metadata": {},
   "outputs": [],
   "source": []
  },
  {
   "cell_type": "code",
   "execution_count": null,
   "metadata": {},
   "outputs": [],
   "source": []
  }
 ],
 "metadata": {
  "@webio": {
   "lastCommId": null,
   "lastKernelId": null
  },
  "kernelspec": {
   "display_name": "Python 3",
   "language": "python",
   "name": "python3"
  },
  "language_info": {
   "codemirror_mode": {
    "name": "ipython",
    "version": 3
   },
   "file_extension": ".py",
   "mimetype": "text/x-python",
   "name": "python",
   "nbconvert_exporter": "python",
   "pygments_lexer": "ipython3",
   "version": "3.7.6"
  }
 },
 "nbformat": 4,
 "nbformat_minor": 4
}
