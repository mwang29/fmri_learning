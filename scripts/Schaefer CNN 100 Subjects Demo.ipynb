{
 "cells": [
  {
   "cell_type": "code",
   "execution_count": 7,
   "metadata": {},
   "outputs": [],
   "source": []
  },
  {
   "cell_type": "code",
   "execution_count": 32,
   "metadata": {},
   "outputs": [],
   "source": []
  },
  {
   "cell_type": "code",
   "execution_count": 1,
   "metadata": {},
   "outputs": [],
   "source": [
    "import numpy as np\n",
    "import scipy.io as sio\n",
    "import matplotlib.pyplot as plt\n",
    "import sklearn.decomposition\n",
    "import pickle\n",
    "from sklearn.metrics import confusion_matrix\n",
    "import h5py"
   ]
  },
  {
   "cell_type": "code",
   "execution_count": 2,
   "metadata": {},
   "outputs": [],
   "source": [
    "import itertools\n",
    "import numpy as np\n",
    "import matplotlib.pyplot as plt\n",
    "\n",
    "def plot_confusion_matrix(cm, classes, normalize=False, title='Confusion matrix', cmap=plt.cm.Blues):\n",
    "    if normalize:\n",
    "        cm = cm.astype('float') / cm.sum(axis=1)[:, np.newaxis]\n",
    "        print(\"Normalized confusion matrix\")\n",
    "    else:\n",
    "        print('Confusion matrix, without normalization')\n",
    "\n",
    "    print(cm)\n",
    "    plt.imshow(cm, interpolation='nearest', cmap=cmap)\n",
    "    plt.title(title)\n",
    "    plt.colorbar()\n",
    "    tick_marks = np.arange(len(classes))\n",
    "    plt.xticks(tick_marks, classes, rotation=45)\n",
    "    plt.yticks(tick_marks, classes)\n",
    "\n",
    "    fmt = '.2f' if normalize else 'd'\n",
    "    thresh = cm.max() / 2.\n",
    "    for i, j in itertools.product(range(cm.shape[0]), range(cm.shape[1])):\n",
    "        plt.text(j, i, format(cm[i, j], fmt), horizontalalignment=\"center\", color=\"white\" if cm[i, j] > thresh else \"black\")\n",
    "\n",
    "    plt.tight_layout()\n",
    "    plt.ylabel('True label')\n",
    "    plt.xlabel('Predicted label')\n",
    "    plt.savefig('../results/confusion_matrix.png', bbox_inches='tight', transparent=True)"
   ]
  },
  {
   "cell_type": "code",
   "execution_count": 3,
   "metadata": {},
   "outputs": [],
   "source": [
    "def utri2mat(utri):\n",
    "    n = int(-1 + np.sqrt(1 + 8 * len(utri))) // 2\n",
    "    iu1 = np.triu_indices(n)\n",
    "    ret = np.empty((n, n))\n",
    "    ret[iu1] = utri\n",
    "    ret.T[iu1] = utri\n",
    "    return ret\n",
    "\n",
    "def get_data():\n",
    "    '''\n",
    "    Extracts FCs for each parcellation and stores into a dictionary of dictionaries\n",
    "    '''\n",
    "    all_parc = {}\n",
    "    for p in np.arange(100,600,100):\n",
    "        temp_parc = {}\n",
    "        filename = f'../data/FC_all_vec_424_schaefer_subc_{p}.mat'\n",
    "        f = h5py.File(filename, 'r')\n",
    "        for k, v in f.items():\n",
    "            temp_parc[k] = np.array(v)\n",
    "        all_parc[p] = temp_parc\n",
    "    return all_parc\n",
    "\n",
    "def pca_recon(FC, pctComp=None):\n",
    "    '''\n",
    "    Reconstructs FC based on number of principle components\n",
    "    '''\n",
    "    if pctComp is None:\n",
    "        return FC\n",
    "    nRegions = FC.shape[1]\n",
    "    FC = np.reshape(FC, (FC.shape[0], -1))\n",
    "    nComp = int(FC.shape[0] * pctComp)\n",
    "    mu = np.mean(FC, axis=0)\n",
    "    pca_rest = sklearn.decomposition.PCA()\n",
    "    pca_rest.fit(FC)\n",
    "    SCORES = pca_rest.transform(FC)[:, :nComp]\n",
    "    COEFFS = pca_rest.components_[:nComp, :]\n",
    "    FC_recon = np.dot(SCORES, COEFFS)\n",
    "    del SCORES, COEFFS\n",
    "    FC_recon += mu\n",
    "    FC_recon = np.reshape(FC_recon, (FC.shape[0], nRegions, nRegions))\n",
    "    return FC_recon\n",
    "\n",
    "def get_all_preds(model, loader):\n",
    "    all_preds = torch.tensor([]).to(device)\n",
    "    for images, labels in loader:\n",
    "        # Transfer to GPU\n",
    "        if use_cuda:\n",
    "            images, labels = images.to(device), labels.to(device)\n",
    "        preds = model(images)\n",
    "        all_preds = torch.cat((all_preds, preds), dim=0)\n",
    "    return all_preds\n"
   ]
  },
  {
   "cell_type": "code",
   "execution_count": null,
   "metadata": {},
   "outputs": [],
   "source": [
    "all_parc = get_data()\n",
    "\n",
    "fname = '../data/uttara_100_unrelated.csv'\n",
    "subjectids = np.loadtxt(fname, dtype=np.int).tolist()\n",
    "\n",
    "all_ids = all_parc[200]['IDs'].tolist()[0]\n",
    "all_ids = [int(i) for i in all_ids]\n",
    "indices = np.array([i for i, x in enumerate(all_ids) if x in subjectids])\n",
    "\n",
    "test = indices * 2 - 1\n",
    "retest = test + 1\n",
    "c = np.empty((test.size + retest.size,), dtype=test.dtype)\n",
    "c[0::2] = test\n",
    "c[1::2] = retest"
   ]
  },
  {
   "cell_type": "code",
   "execution_count": 113,
   "metadata": {},
   "outputs": [],
   "source": [
    "all_indices = np.concatenate((c, c+848, c+2*848, c+3*848, c+4*848, c+5*848, c+6*848, c+7*848))\n",
    "unrelated_subj = all_parc[500]['FC_all_vec'][all_indices]\n",
    "\n",
    "nSubj = int(unrelated_subj.shape[0] / 16)\n",
    "nFCs = int(unrelated_subj.shape[0])\n",
    "testFCs = unrelated_subj[::2]\n",
    "retest_FCs = unrelated_subj[1::2]\n",
    "reordered_FCs = np.float32(np.concatenate([testFCs, retest_FCs]))\n",
    "del testFCs, retest_FCs\n",
    "all_FC = np.zeros((nFCs, 500 + 13, 500 + 13),dtype=\"float32\")\n",
    "for i in np.arange(0, nFCs):\n",
    "    all_FC[i] = utri2mat(reordered_FCs[i])\n",
    "    \n",
    "with open('../data/schaefer500_unrelated.pickle', 'wb') as f:\n",
    "    pickle.dump(all_FC, f, protocol=4)"
   ]
  },
  {
   "cell_type": "code",
   "execution_count": 4,
   "metadata": {},
   "outputs": [],
   "source": [
    "nSubj = int(all_parc[500]['FC_all_vec'].shape[0] / 16)\n",
    "nFCs = int(all_parc[500]['FC_all_vec'].shape[0])\n",
    "testFCs = all_parc[500]['FC_all_vec'][::2]\n",
    "retest_FCs = all_parc[500]['FC_all_vec'][1::2]\n",
    "reordered_FCs = np.float32(np.concatenate([testFCs, retest_FCs]))\n",
    "del testFCs, retest_FCs\n",
    "all_FC = np.zeros((nFCs, 500 + 13, 500 + 13),dtype=\"float32\")\n",
    "for i in np.arange(0, nFCs):\n",
    "    all_FC[i] = utri2mat(reordered_FCs[i])\n",
    "    \n",
    "with open('../data/schaefer500.pickle', 'wb') as f:\n",
    "    pickle.dump(all_FC, f, protocol=4)"
   ]
  },
  {
   "cell_type": "code",
   "execution_count": 116,
   "metadata": {},
   "outputs": [
    {
     "name": "stdout",
     "output_type": "stream",
     "text": [
      "(1136, 113, 113)\n"
     ]
    },
    {
     "data": {
      "text/plain": [
       "71"
      ]
     },
     "execution_count": 116,
     "metadata": {},
     "output_type": "execute_result"
    }
   ],
   "source": [
    "parc = 100\n",
    "with open(f'../data/schaefer{parc}_unrelated.pickle', 'rb') as f:\n",
    "    all_FC = pickle.load(f)\n",
    "print(all_FC.shape)\n",
    "nSubj = int(all_FC.shape[0]/16)\n",
    "nFCs = int(all_FC.shape[0])\n",
    "#all_FC = pca_recon(all_FC, 0.01)\\"
   ]
  },
  {
   "cell_type": "markdown",
   "metadata": {},
   "source": [
    "## Deep Learning"
   ]
  },
  {
   "cell_type": "code",
   "execution_count": null,
   "metadata": {},
   "outputs": [],
   "source": [
    "import torch\n",
    "from torch import nn, optim\n",
    "import torch.nn.functional as F\n",
    "from torch.utils import data\n",
    "from sklearn.preprocessing import StandardScaler\n",
    "\n",
    "# GPU is available? If so, we use it.\n",
    "use_cuda = torch.cuda.is_available() \n",
    "device = torch.device(\"cuda:0\" if use_cuda else \"cpu\")\n",
    "if use_cuda:\n",
    "    print(\"GPU detected. Will use GPU for training!\")\n",
    "    torch.backends.cudnn.benchmark = True\n",
    "else:\n",
    "    print(\"No GPU detected. Will use CPU for training.\")"
   ]
  },
  {
   "cell_type": "code",
   "execution_count": null,
   "metadata": {},
   "outputs": [],
   "source": [
    "# Create labels corresponding to all_FC \n",
    "labels = torch.tensor(np.tile(np.repeat(np.arange(0,8),nSubj),2), dtype=torch.long)\n",
    "# Randomly shuffled indices for test FCs\n",
    "indices = np.random.permutation(nFCs)\n",
    "# Take subsets of data for training, validation, test\n",
    "train_val_idx = indices[:int(0.8*nFCs)]\n",
    "\n",
    "val_idx = train_val_idx[int(0.8*train_val_idx.shape[0]):]\n",
    "train_idx = train_val_idx[:int(0.8*train_val_idx.shape[0])]\n",
    "test_idx = indices[int(0.8*nFCs):]"
   ]
  },
  {
   "cell_type": "code",
   "execution_count": null,
   "metadata": {},
   "outputs": [],
   "source": [
    "train_mean = np.mean(all_FC[train_idx])\n",
    "train_std = np.std(all_FC[train_idx])\n",
    "train_data = torch.FloatTensor((all_FC[train_idx] - train_mean) / train_std)\n",
    "val_data = torch.FloatTensor((all_FC[val_idx] - train_mean) / train_std)\n",
    "test_data = torch.FloatTensor((all_FC[test_idx] - train_mean) / train_std)"
   ]
  },
  {
   "cell_type": "code",
   "execution_count": null,
   "metadata": {},
   "outputs": [],
   "source": [
    "train_data = train_data.view(train_data.shape[0], -1, train_data.shape[1], train_data.shape[2])\n",
    "val_data = val_data.view(val_data.shape[0], -1, val_data.shape[1], val_data.shape[2])\n",
    "test_data = test_data.view(test_data.shape[0], -1, test_data.shape[1], test_data.shape[2])"
   ]
  },
  {
   "cell_type": "code",
   "execution_count": null,
   "metadata": {},
   "outputs": [],
   "source": [
    "train_dataset = data.TensorDataset(train_data,labels[train_idx]) # create your datset\n",
    "val_dataset = data.TensorDataset(val_data,labels[val_idx]) # create your datset\n",
    "test_dataset = data.TensorDataset(test_data,labels[test_idx]) # create your datset\n",
    "\n",
    "train_loader = data.DataLoader(train_dataset, batch_size=80) # create your dataloader\n",
    "val_loader = data.DataLoader(val_dataset, batch_size=80) # create your dataloader\n",
    "test_loader = data.DataLoader(test_dataset, batch_size=80) # create your dataloader\n"
   ]
  },
  {
   "cell_type": "markdown",
   "metadata": {},
   "source": [
    "## NN Architecture"
   ]
  },
  {
   "cell_type": "code",
   "execution_count": null,
   "metadata": {},
   "outputs": [],
   "source": [
    "del all_FC\n",
    "output_size = 8\n",
    "max_epochs = 200\n",
    "n_epochs_stop = 5"
   ]
  },
  {
   "cell_type": "code",
   "execution_count": null,
   "metadata": {},
   "outputs": [],
   "source": [
    "class Net(nn.Module):\n",
    "    def __init__(self, nHidden):\n",
    "        super(Net, self).__init__()\n",
    "        self.conv1 = nn.Conv2d(1, 6, kernel_size=5)\n",
    "        self.conv2 = nn.Conv2d(6, 12, kernel_size=5)\n",
    "        self.conv2_bn = nn.BatchNorm2d(12)\n",
    "        self.conv2_drop = nn.Dropout2d()\n",
    "        self.fc1 = nn.Linear(nHidden, 128)\n",
    "        self.fc2 = nn.Linear(128, 8)\n",
    "\n",
    "    def forward(self, x):\n",
    "        x = F.relu(F.max_pool2d(self.conv1(x), (3,3)))\n",
    "        x = F.relu(F.max_pool2d(self.conv2_bn(self.conv2(x)), (3,3)))\n",
    "        x = x.view(-1, self.num_flat_features(x))\n",
    "        x = F.relu(self.fc1(x))\n",
    "        x = self.fc2(x)\n",
    "        return x\n",
    "    \n",
    "    def num_flat_features(self, x):\n",
    "        size = x.size()[1:]  # all dimensions except the batch dimension\n",
    "        num_features = 1\n",
    "        for s in size:\n",
    "            num_features *= s\n",
    "        return num_features\n",
    "\n",
    "hidden_dict = {100: 1200, 200: 5292, 300: 13068, 400: 23232, 500: 36300}\n",
    "model = Net(hidden_dict[parc])\n"
   ]
  },
  {
   "cell_type": "code",
   "execution_count": null,
   "metadata": {},
   "outputs": [],
   "source": [
    "loss_fn = nn.CrossEntropyLoss()\n",
    "opt = optim.SGD(model.parameters(), lr=0.001)\n",
    "if use_cuda:\n",
    "    model = model.cuda()\n",
    "print(model)"
   ]
  },
  {
   "cell_type": "code",
   "execution_count": null,
   "metadata": {},
   "outputs": [],
   "source": [
    "load_model = False\n",
    "if load_model:\n",
    "    the_model = Net()\n",
    "    the_model.load_state_dict(torch.load(\"../trained_models/ENTER NAME HERE\"))"
   ]
  },
  {
   "cell_type": "code",
   "execution_count": null,
   "metadata": {},
   "outputs": [],
   "source": [
    "history = {}\n",
    "history['loss'] = []\n",
    "history['val_loss'] = []\n",
    "history['acc'] = []\n",
    "history['val_acc'] = []\n",
    "min_val_loss = np.Inf\n",
    "early_stop = False\n",
    "# Loop over epochs\n",
    "\n",
    "\n",
    "for epoch in range(max_epochs):\n",
    "    # Training\n",
    "    model.train()\n",
    "    train_loss         = 0.0\n",
    "    num_train_correct  = 0\n",
    "    num_train_examples = 0\n",
    "    for local_batch, local_labels in train_loader:\n",
    "        # Transfer to GPU\n",
    "        if use_cuda:\n",
    "            local_batch, local_labels = local_batch.to(device), local_labels.to(device)\n",
    "\n",
    "\n",
    "\n",
    "        opt.zero_grad()\n",
    "        output = model(local_batch)\n",
    "        loss = loss_fn(output, local_labels)\n",
    "        loss.backward()\n",
    "        opt.step()\n",
    "\n",
    "        train_loss += loss.data.item() * local_batch.size(0)\n",
    "        num_train_correct  += (torch.max(output, 1)[1] == local_labels).sum().item()\n",
    "        num_train_examples += local_batch.shape[0]\n",
    "\n",
    "    train_acc = num_train_correct / num_train_examples\n",
    "    train_loss  = train_loss / len(train_loader.dataset)\n",
    "\n",
    "    # Validation\n",
    "    model.eval()\n",
    "    val_loss       = 0.0\n",
    "    num_val_correct  = 0\n",
    "    num_val_examples = 0\n",
    "    with torch.set_grad_enabled(False):\n",
    "        for local_batch, local_labels in val_loader:\n",
    "            # Transfer to GPU\n",
    "            if use_cuda:\n",
    "                local_batch, local_labels = local_batch.to(device), local_labels.to(device)\n",
    "            output = model(local_batch)\n",
    "            loss = loss_fn(output, local_labels)\n",
    "\n",
    "            val_loss += loss.data.item() * local_batch.size(0)\n",
    "            num_val_correct  += (torch.max(output, 1)[1] == local_labels).sum().item()\n",
    "            num_val_examples += local_batch.shape[0]\n",
    "\n",
    "        val_acc  = num_val_correct / num_val_examples\n",
    "        val_loss = val_loss / len(val_loader.dataset)\n",
    "\n",
    "        if val_loss < min_val_loss:\n",
    "            epochs_no_improve = 0\n",
    "            min_val_loss = val_loss\n",
    "        else:\n",
    "            epochs_no_improve += 1\n",
    "  # Check early stopping condition\n",
    "        if epochs_no_improve == n_epochs_stop:\n",
    "            early_stop = print('Early stopping!')\n",
    "            break\n",
    "\n",
    "        \n",
    "    print(f'Epoch {epoch+1}/{max_epochs}, train loss: {train_loss:5.4f}, train acc: {train_acc:5.3f}, val loss: {val_loss:5.3f}, val acc: {val_acc:5.3f}')\n",
    "    \n",
    "    \n",
    "    history['loss'].append(train_loss)\n",
    "    history['val_loss'].append(val_loss)\n",
    "    history['acc'].append(train_acc)\n",
    "    history['val_acc'].append(val_acc)\n",
    "    \n",
    "    if early_stop:\n",
    "        print(\"Stopped\")\n",
    "        break"
   ]
  },
  {
   "cell_type": "code",
   "execution_count": null,
   "metadata": {},
   "outputs": [],
   "source": [
    "local_batch.device"
   ]
  },
  {
   "cell_type": "code",
   "execution_count": null,
   "metadata": {},
   "outputs": [],
   "source": [
    "torch.save(model.state_dict(), \"../trained_models/schaefer200_pca\")"
   ]
  },
  {
   "cell_type": "code",
   "execution_count": null,
   "metadata": {},
   "outputs": [],
   "source": [
    "model.eval()\n",
    "num_correct  = 0\n",
    "num_examples = 0\n",
    "with torch.set_grad_enabled(False):\n",
    "    for local_batch, local_labels in test_loader:\n",
    "        # Transfer to GPU\n",
    "        if use_cuda:\n",
    "            local_batch, local_labels = local_batch.to(device), local_labels.to(device)\n",
    "        output = model(local_batch)\n",
    "        num_correct  += (torch.max(output, 1)[1] == local_labels).sum().item()\n",
    "        num_examples += local_batch.shape[0]\n",
    "            \n",
    "    test_acc  = num_correct / num_examples"
   ]
  },
  {
   "cell_type": "code",
   "execution_count": null,
   "metadata": {},
   "outputs": [],
   "source": [
    "plt.plot(history['loss'])\n",
    "plt.plot(history['val_loss'])\n",
    "plt.title('Model loss')\n",
    "plt.ylabel('Loss')\n",
    "plt.xlabel('Epoch')\n",
    "plt.legend(['Train', 'Validation'], loc='upper right')\n",
    "plt.savefig('../results/train_loss_curve.eps', bbox_inches='tight', transparent=True)\n",
    "plt.show()"
   ]
  },
  {
   "cell_type": "code",
   "execution_count": null,
   "metadata": {},
   "outputs": [],
   "source": [
    "plt.plot(history['acc'])\n",
    "plt.plot(history['val_acc'])\n",
    "plt.title('Model accuracy')\n",
    "plt.ylabel('Accuracy')\n",
    "plt.xlabel('Epoch')\n",
    "plt.legend(['Train', 'Validation'], loc='upper right')\n",
    "plt.savefig('../results/train_val_accuracy.eps', bbox_inches='tight', transparent=True)\n",
    "plt.show()"
   ]
  },
  {
   "cell_type": "code",
   "execution_count": null,
   "metadata": {},
   "outputs": [],
   "source": [
    "test_acc"
   ]
  },
  {
   "cell_type": "code",
   "execution_count": null,
   "metadata": {},
   "outputs": [],
   "source": [
    "test_labels = labels[test_idx]\n",
    "with torch.set_grad_enabled(False):\n",
    "    test_preds = get_all_preds(model, test_loader)"
   ]
  },
  {
   "cell_type": "code",
   "execution_count": null,
   "metadata": {},
   "outputs": [],
   "source": [
    "stacked = torch.stack((test_labels.to(device), test_preds.argmax(dim=1)),dim=1)"
   ]
  },
  {
   "cell_type": "code",
   "execution_count": null,
   "metadata": {},
   "outputs": [],
   "source": [
    "cmt = torch.zeros(8,8,dtype=torch.int64)"
   ]
  },
  {
   "cell_type": "code",
   "execution_count": null,
   "metadata": {},
   "outputs": [],
   "source": [
    "for p in stacked:\n",
    "    tl,pl = p.tolist()\n",
    "    cmt[tl,pl] = cmt[tl,pl] + 1"
   ]
  },
  {
   "cell_type": "code",
   "execution_count": null,
   "metadata": {},
   "outputs": [],
   "source": [
    "cm = confusion_matrix(test_labels.cpu(), test_preds.cpu().argmax(dim=1))"
   ]
  },
  {
   "cell_type": "code",
   "execution_count": null,
   "metadata": {},
   "outputs": [],
   "source": []
  },
  {
   "cell_type": "code",
   "execution_count": null,
   "metadata": {},
   "outputs": [],
   "source": [
    "names = ('Rest', 'Emotion', 'Gambling', 'Language', 'Motor', 'Relational', 'Social', 'Working Memory')\n",
    "plt.figure(figsize=(8,8))\n",
    "plot_confusion_matrix(cm, names)"
   ]
  },
  {
   "cell_type": "code",
   "execution_count": null,
   "metadata": {},
   "outputs": [],
   "source": []
  },
  {
   "cell_type": "code",
   "execution_count": null,
   "metadata": {},
   "outputs": [],
   "source": []
  }
 ],
 "metadata": {
  "@webio": {
   "lastCommId": null,
   "lastKernelId": null
  },
  "kernelspec": {
   "display_name": "Python 3",
   "language": "python",
   "name": "python3"
  },
  "language_info": {
   "codemirror_mode": {
    "name": "ipython",
    "version": 3
   },
   "file_extension": ".py",
   "mimetype": "text/x-python",
   "name": "python",
   "nbconvert_exporter": "python",
   "pygments_lexer": "ipython3",
   "version": "3.7.6"
  }
 },
 "nbformat": 4,
 "nbformat_minor": 4
}
