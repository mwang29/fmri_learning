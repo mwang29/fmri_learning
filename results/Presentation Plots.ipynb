{
 "cells": [
  {
   "cell_type": "code",
   "execution_count": 2,
   "metadata": {},
   "outputs": [],
   "source": [
    "import pandas as pd\n",
    "import numpy as np\n",
    "import matplotlib.pyplot as plt\n",
    "import seaborn as sns\n",
    "from matplotlib import rcParams\n",
    "plt.rcParams[\"axes.labelsize\"] = 14\n",
    "sns.set_style(\"whitegrid\")"
   ]
  },
  {
   "cell_type": "markdown",
   "metadata": {},
   "source": [
    "# KNN Plots"
   ]
  },
  {
   "cell_type": "markdown",
   "metadata": {},
   "source": [
    "## Plot 1: KNN (K and Distance Metrics)"
   ]
  },
  {
   "cell_type": "code",
   "execution_count": 3,
   "metadata": {},
   "outputs": [
    {
     "data": {
      "text/html": [
       "<div>\n",
       "<style scoped>\n",
       "    .dataframe tbody tr th:only-of-type {\n",
       "        vertical-align: middle;\n",
       "    }\n",
       "\n",
       "    .dataframe tbody tr th {\n",
       "        vertical-align: top;\n",
       "    }\n",
       "\n",
       "    .dataframe thead th {\n",
       "        text-align: right;\n",
       "    }\n",
       "</style>\n",
       "<table border=\"1\" class=\"dataframe\">\n",
       "  <thead>\n",
       "    <tr style=\"text-align: right;\">\n",
       "      <th></th>\n",
       "      <th>Accuracy</th>\n",
       "      <th>Distance Metric</th>\n",
       "      <th>K</th>\n",
       "    </tr>\n",
       "  </thead>\n",
       "  <tbody>\n",
       "    <tr>\n",
       "      <th>0</th>\n",
       "      <td>0.733824</td>\n",
       "      <td>correlation</td>\n",
       "      <td>1</td>\n",
       "    </tr>\n",
       "    <tr>\n",
       "      <th>1</th>\n",
       "      <td>0.762500</td>\n",
       "      <td>correlation</td>\n",
       "      <td>5</td>\n",
       "    </tr>\n",
       "    <tr>\n",
       "      <th>2</th>\n",
       "      <td>0.748529</td>\n",
       "      <td>correlation</td>\n",
       "      <td>30</td>\n",
       "    </tr>\n",
       "    <tr>\n",
       "      <th>3</th>\n",
       "      <td>0.732353</td>\n",
       "      <td>cosine</td>\n",
       "      <td>1</td>\n",
       "    </tr>\n",
       "    <tr>\n",
       "      <th>4</th>\n",
       "      <td>0.760294</td>\n",
       "      <td>cosine</td>\n",
       "      <td>5</td>\n",
       "    </tr>\n",
       "  </tbody>\n",
       "</table>\n",
       "</div>"
      ],
      "text/plain": [
       "   Accuracy Distance Metric   K\n",
       "0  0.733824     correlation   1\n",
       "1  0.762500     correlation   5\n",
       "2  0.748529     correlation  30\n",
       "3  0.732353          cosine   1\n",
       "4  0.760294          cosine   5"
      ]
     },
     "execution_count": 3,
     "metadata": {},
     "output_type": "execute_result"
    }
   ],
   "source": [
    "plot1 = pd.read_csv('schaefer_plot1.csv', names=[\"Type\", \"Accuracy\"])\n",
    "new = plot1[\"Type\"].str.rsplit(\"_\", n = 1, expand = True) \n",
    "plot1['Distance Metric'] = new[0]\n",
    "plot1['K'] = new[1].astype(int)\n",
    "plot1.drop(columns =[\"Type\"], inplace = True) \n",
    "plot1.head()"
   ]
  },
  {
   "cell_type": "code",
   "execution_count": 4,
   "metadata": {},
   "outputs": [
    {
     "data": {
      "image/png": "[encoded data removed]",
      "text/plain": [
       "<Figure size 720x360 with 1 Axes>"
      ]
     },
     "metadata": {},
     "output_type": "display_data"
    }
   ],
   "source": [
    "ref_plot = sns.catplot(x=\"Distance Metric\", y=\"Accuracy\", hue=\"K\", data=plot1,\n",
    "                height=6, kind=\"bar\", palette=\"muted\").set(ylim=(0, 1))\n",
    "ref_plot.fig.set_size_inches(10,5)\n",
    "plt.savefig('plot1.eps', bbox_inches='tight', transparent=True)\n",
    "plt.show()"
   ]
  },
  {
   "cell_type": "markdown",
   "metadata": {},
   "source": [
    "## Plot 2: KNN with Tangent Space Transformations"
   ]
  },
  {
   "cell_type": "code",
   "execution_count": 5,
   "metadata": {},
   "outputs": [
    {
     "data": {
      "text/html": [
       "<div>\n",
       "<style scoped>\n",
       "    .dataframe tbody tr th:only-of-type {\n",
       "        vertical-align: middle;\n",
       "    }\n",
       "\n",
       "    .dataframe tbody tr th {\n",
       "        vertical-align: top;\n",
       "    }\n",
       "\n",
       "    .dataframe thead th {\n",
       "        text-align: right;\n",
       "    }\n",
       "</style>\n",
       "<table border=\"1\" class=\"dataframe\">\n",
       "  <thead>\n",
       "    <tr style=\"text-align: right;\">\n",
       "      <th></th>\n",
       "      <th>Accuracy</th>\n",
       "      <th>Tangent Reference</th>\n",
       "      <th>Parcellation</th>\n",
       "    </tr>\n",
       "  </thead>\n",
       "  <tbody>\n",
       "    <tr>\n",
       "      <th>0</th>\n",
       "      <td>0.771324</td>\n",
       "      <td>Raw FC</td>\n",
       "      <td>100</td>\n",
       "    </tr>\n",
       "    <tr>\n",
       "      <th>1</th>\n",
       "      <td>0.770588</td>\n",
       "      <td>pca</td>\n",
       "      <td>100</td>\n",
       "    </tr>\n",
       "    <tr>\n",
       "      <th>2</th>\n",
       "      <td>0.119853</td>\n",
       "      <td>euclid</td>\n",
       "      <td>100</td>\n",
       "    </tr>\n",
       "    <tr>\n",
       "      <th>3</th>\n",
       "      <td>0.142647</td>\n",
       "      <td>harmonic</td>\n",
       "      <td>100</td>\n",
       "    </tr>\n",
       "    <tr>\n",
       "      <th>4</th>\n",
       "      <td>0.753676</td>\n",
       "      <td>Raw FC</td>\n",
       "      <td>200</td>\n",
       "    </tr>\n",
       "  </tbody>\n",
       "</table>\n",
       "</div>"
      ],
      "text/plain": [
       "   Accuracy Tangent Reference  Parcellation\n",
       "0  0.771324            Raw FC           100\n",
       "1  0.770588               pca           100\n",
       "2  0.119853            euclid           100\n",
       "3  0.142647          harmonic           100\n",
       "4  0.753676            Raw FC           200"
      ]
     },
     "execution_count": 5,
     "metadata": {},
     "output_type": "execute_result"
    }
   ],
   "source": [
    "plot2 = pd.read_csv('schaefer_plot2.csv', names=[\"Type\", \"Accuracy\"])\n",
    "new = plot2[\"Type\"].str.rsplit(\"_\", n = 1, expand = True) \n",
    "plot2['Tangent Reference'] = new[0]\n",
    "plot2['Parcellation'] = new[1].astype(int)\n",
    "plot2.drop(columns =[\"Type\"], inplace = True) \n",
    "plot2.head()"
   ]
  },
  {
   "cell_type": "code",
   "execution_count": 6,
   "metadata": {},
   "outputs": [
    {
     "data": {
      "image/png": "[encoded data removed]",
      "text/plain": [
       "<Figure size 720x360 with 1 Axes>"
      ]
     },
     "metadata": {},
     "output_type": "display_data"
    }
   ],
   "source": [
    "ref_plot = sns.catplot(x=\"Tangent Reference\", y=\"Accuracy\", hue=\"Parcellation\", data=plot2,\n",
    "                height=6, kind=\"bar\", palette=\"muted\").set(ylim=(0, 1))\n",
    "ref_plot.fig.set_size_inches(10,5)\n",
    "plt.savefig('plot2.eps', bbox_inches='tight', transparent=True)\n",
    "plt.show()"
   ]
  },
  {
   "cell_type": "markdown",
   "metadata": {},
   "source": [
    "## Plot 3: KNN with different levels of PCA components transformations"
   ]
  },
  {
   "cell_type": "code",
   "execution_count": 7,
   "metadata": {},
   "outputs": [
    {
     "data": {
      "text/html": [
       "<div>\n",
       "<style scoped>\n",
       "    .dataframe tbody tr th:only-of-type {\n",
       "        vertical-align: middle;\n",
       "    }\n",
       "\n",
       "    .dataframe tbody tr th {\n",
       "        vertical-align: top;\n",
       "    }\n",
       "\n",
       "    .dataframe thead th {\n",
       "        text-align: right;\n",
       "    }\n",
       "</style>\n",
       "<table border=\"1\" class=\"dataframe\">\n",
       "  <thead>\n",
       "    <tr style=\"text-align: right;\">\n",
       "      <th></th>\n",
       "      <th>% Components</th>\n",
       "      <th>Accuracy</th>\n",
       "    </tr>\n",
       "  </thead>\n",
       "  <tbody>\n",
       "    <tr>\n",
       "      <th>0</th>\n",
       "      <td>0.1</td>\n",
       "      <td>0.799265</td>\n",
       "    </tr>\n",
       "    <tr>\n",
       "      <th>1</th>\n",
       "      <td>2.0</td>\n",
       "      <td>0.869853</td>\n",
       "    </tr>\n",
       "    <tr>\n",
       "      <th>2</th>\n",
       "      <td>4.0</td>\n",
       "      <td>0.856618</td>\n",
       "    </tr>\n",
       "    <tr>\n",
       "      <th>3</th>\n",
       "      <td>6.0</td>\n",
       "      <td>0.849265</td>\n",
       "    </tr>\n",
       "    <tr>\n",
       "      <th>4</th>\n",
       "      <td>8.0</td>\n",
       "      <td>0.830882</td>\n",
       "    </tr>\n",
       "  </tbody>\n",
       "</table>\n",
       "</div>"
      ],
      "text/plain": [
       "   % Components  Accuracy\n",
       "0           0.1  0.799265\n",
       "1           2.0  0.869853\n",
       "2           4.0  0.856618\n",
       "3           6.0  0.849265\n",
       "4           8.0  0.830882"
      ]
     },
     "execution_count": 7,
     "metadata": {},
     "output_type": "execute_result"
    }
   ],
   "source": [
    "plot3 = pd.read_csv('schaefer_plot3.csv', header=None)\n",
    "new = plot3[0].str.split('\\t', n=1, expand=True)\n",
    "plot3['% Components'] = 100 * new[0].astype(float)\n",
    "plot3['Accuracy'] = new[1].astype(float)\n",
    "plot3.drop(columns=[0], inplace=True)\n",
    "plot3.head()"
   ]
  },
  {
   "cell_type": "code",
   "execution_count": 8,
   "metadata": {},
   "outputs": [
    {
     "data": {
      "image/png": "[encoded data removed]",
      "text/plain": [
       "<Figure size 720x360 with 1 Axes>"
      ]
     },
     "metadata": {},
     "output_type": "display_data"
    }
   ],
   "source": [
    "rcParams['figure.figsize'] = 10, 5\n",
    "ax = sns.scatterplot(x=\"% Components\", y=\"Accuracy\", data=plot3)\n",
    "plt.savefig('plot3.eps', bbox_inches='tight', transparent=True)\n",
    "plt.show()"
   ]
  },
  {
   "cell_type": "markdown",
   "metadata": {},
   "source": [
    "### Plot 4: Zoom in on Plot 3"
   ]
  },
  {
   "cell_type": "code",
   "execution_count": 9,
   "metadata": {},
   "outputs": [],
   "source": [
    "plot4 = pd.read_csv('schaefer_plot4.csv', names=[\"Type\", \"Accuracy\"])\n",
    "new = plot4['Type'].str.split('_', n=1, expand=True)\n",
    "plot4['# Components'] = new[0].astype(int) - 1\n",
    "plot4.drop([0], inplace=True)"
   ]
  },
  {
   "cell_type": "code",
   "execution_count": 10,
   "metadata": {},
   "outputs": [
    {
     "data": {
      "image/png": "[encoded data removed]",
      "text/plain": [
       "<Figure size 720x360 with 1 Axes>"
      ]
     },
     "metadata": {},
     "output_type": "display_data"
    }
   ],
   "source": [
    "ax = sns.scatterplot(x=\"# Components\", y=\"Accuracy\", data=plot4)\n",
    "ax.set_xlim(0,210)\n",
    "plt.savefig('plot4.eps', bbox_inches='tight', transparent=True)\n",
    "plt.show()"
   ]
  },
  {
   "cell_type": "markdown",
   "metadata": {},
   "source": [
    "# Deep Learning Plots"
   ]
  },
  {
   "cell_type": "markdown",
   "metadata": {},
   "source": [
    "## HCP 100 Subjects CNN with 3 Pipelines"
   ]
  },
  {
   "cell_type": "code",
   "execution_count": 37,
   "metadata": {},
   "outputs": [
    {
     "data": {
      "image/png": "[encoded data removed]",
      "text/plain": [
       "<Figure size 720x360 with 1 Axes>"
      ]
     },
     "metadata": {},
     "output_type": "display_data"
    }
   ],
   "source": [
    "sns.set_style(\"whitegrid\")\n",
    "baseline = pd.read_csv('HCP100_base_E200_LR0.001_R1_S0_Y1_20.csv')\n",
    "tan_euclidean = pd.read_csv('HCP100_Taneuclid_E200_LR0.001_R1_S0_Y1_20.csv')\n",
    "pca_recon = pd.read_csv('HCP100_recon_0.025_E200_LR0.001_R0_S0_Y1.csv')\n",
    "df = pd.concat([baseline['Accuracy'], pca_recon['Accuracy'],\n",
    "                tan_euclidean['Accuracy']], axis=1,\n",
    "               keys=['Raw Data', 'PCA: 80 PCs', 'Tangent Projection (Euclidean)'])\n",
    "df = df.melt(var_name='Pipelines', value_name='Test accuracy')\n",
    "ax = sns.violinplot(x=\"Pipelines\", y=\"Test accuracy\", data=df)\n",
    "fig = ax.get_figure()\n",
    "fig.set_size_inches(10,5)\n",
    "plt.savefig('DL_pipelines.eps', bbox_inches='tight', transparent=True)\n",
    "plt.show()"
   ]
  },
  {
   "cell_type": "markdown",
   "metadata": {},
   "source": [
    "## Task Classification on Closest FC without DL"
   ]
  },
  {
   "cell_type": "code",
   "execution_count": null,
   "metadata": {},
   "outputs": [],
   "source": [
    "distances = pd.read_csv('distances_task.csv', names=[\"Type\", \"Accuracy\"])\n",
    "new = distances[\"Type\"].str.rsplit(\"_\", n = 1, expand = True) \n",
    "distances['Tangent Reference'] = new[0]\n",
    "distances['Distance'] = new[1]\n",
    "distances.drop(columns =[\"Type\"], inplace = True) \n",
    "distances.head()"
   ]
  },
  {
   "cell_type": "code",
   "execution_count": null,
   "metadata": {},
   "outputs": [],
   "source": [
    "sns.set_style(\"whitegrid\")\n",
    "plt.tight_layout()\n",
    "ref_plot = sns.catplot(x=\"Tangent Reference\", y=\"Accuracy\", hue=\"Distance\", data=distances,\n",
    "                height=6, kind=\"bar\", palette=\"muted\", legend_out=False).set(ylim=(0, 1))\n",
    "ref_plot.fig.set_size_inches(10,5)\n",
    "plt.savefig('distance_task.eps', bbox_inches='tight', transparent=True)\n",
    "plt.show()"
   ]
  },
  {
   "cell_type": "markdown",
   "metadata": {},
   "source": [
    "## Subject Classification on Closest FC without DL"
   ]
  },
  {
   "cell_type": "code",
   "execution_count": null,
   "metadata": {},
   "outputs": [],
   "source": [
    "distances = pd.read_csv('distances_subject.csv', names=[\"Type\", \"Accuracy\"])\n",
    "new = distances[\"Type\"].str.rsplit(\"_\", n = 1, expand = True) \n",
    "distances['Tangent Reference'] = new[0]\n",
    "distances['Distance'] = new[1]\n",
    "distances.drop(columns =[\"Type\"], inplace = True) \n",
    "distances.head()"
   ]
  },
  {
   "cell_type": "code",
   "execution_count": null,
   "metadata": {},
   "outputs": [],
   "source": [
    "\n",
    "plt.tight_layout()\n",
    "ref_plot = sns.catplot(x=\"Tangent Reference\", y=\"Accuracy\", hue=\"Distance\", data=distances,\n",
    "                height=6, kind=\"bar\", palette=\"muted\").set(ylim=(0, 1))\n",
    "#ref_plot.fig.suptitle('HCP100 Subject Classification Accuracy with Closest FC', y=1.02, fontsize='xx-large')\n",
    "ref_plot.fig.set_size_inches(10,5)\n",
    "plt.savefig('distance_subj.png', bbox_inches='tight')\n",
    "plt.show()"
   ]
  },
  {
   "cell_type": "markdown",
   "metadata": {},
   "source": [
    "### KNN Classification, k = 30"
   ]
  },
  {
   "cell_type": "code",
   "execution_count": null,
   "metadata": {},
   "outputs": [],
   "source": [
    "knn_distances = pd.read_csv('knn_distances_task.csv', names=[\"Type\", \"Accuracy\"])\n",
    "new = knn_distances[\"Type\"].str.rsplit(\"_\", n = 1, expand = True) \n",
    "knn_distances['Tangent Reference'] = new[0]\n",
    "knn_distances['Distance'] = new[1]\n",
    "knn_distances.drop(columns =[\"Type\"], inplace = True) \n",
    "knn_distances.head()"
   ]
  },
  {
   "cell_type": "code",
   "execution_count": null,
   "metadata": {},
   "outputs": [],
   "source": [
    "ref_plot = sns.catplot(x=\"Tangent Reference\", y=\"Accuracy\", hue=\"Distance\", data=knn_distances,\n",
    "                height=6, kind=\"bar\", palette=\"muted\").set(ylim=(0, 1))\n",
    "ref_plot.fig.suptitle('HCP100 KNN Task Classifier Accuracy with k=30 Closest FCs', y=1.02, fontsize='xx-large')\n",
    "ref_plot.fig.set_size_inches(10,5)\n",
    "plt.savefig('knn_classification.eps', bbox_inches='tight', transparent=True)\n",
    "plt.show()"
   ]
  },
  {
   "cell_type": "markdown",
   "metadata": {},
   "source": [
    "### Subject Classification - KNN "
   ]
  },
  {
   "cell_type": "code",
   "execution_count": null,
   "metadata": {},
   "outputs": [],
   "source": [
    "knn_subject = pd.read_csv('knn_distances_subject.csv', names=[\"Type\", \"Accuracy\"])\n",
    "new = knn_subject[\"Type\"].str.rsplit(\"_\", n = 1, expand = True) \n",
    "knn_subject['Tangent Reference'] = new[0]\n",
    "knn_subject['Distance'] = new[1]\n",
    "knn_subject.drop(columns =[\"Type\"], inplace = True) \n",
    "knn_subject.head()"
   ]
  },
  {
   "cell_type": "code",
   "execution_count": null,
   "metadata": {},
   "outputs": [],
   "source": [
    "ref_plot = sns.catplot(x=\"Tangent Reference\", y=\"Accuracy\", hue=\"Distance\", data=knn_subject,\n",
    "                height=6, kind=\"bar\", palette=\"muted\").set(ylim=(0, 1))\n",
    "ref_plot.fig.suptitle('HCP100 Subject Classifier Accuracy with k=30 Closest FCs', y=1.02, fontsize='xx-large')\n",
    "ref_plot.fig.set_size_inches(10,5)\n",
    "plt.savefig('knn_subj.eps', bbox_inches='tight', transparent=True)\n",
    "plt.show()"
   ]
  },
  {
   "cell_type": "markdown",
   "metadata": {},
   "source": [
    "## Schaefer Parcellations"
   ]
  },
  {
   "cell_type": "code",
   "execution_count": null,
   "metadata": {},
   "outputs": [],
   "source": [
    "schaefer = pd.read_csv('schaefer_distances.csv', names=[\"Type\", \"Accuracy\"])\n",
    "new = schaefer[\"Type\"].str.rsplit(\"_\", n = 1, expand = True) \n",
    "schaefer['Parcellation'] = new[0]\n",
    "schaefer['Tangent Reference'] = new[1]\n",
    "schaefer.drop(columns =[\"Type\"], inplace = True) \n",
    "schaefer.head()"
   ]
  },
  {
   "cell_type": "code",
   "execution_count": null,
   "metadata": {},
   "outputs": [],
   "source": [
    "ref_plot = sns.catplot(x=\"Tangent Reference\", y=\"Accuracy\", hue=\"Parcellation\", data=schaefer,\n",
    "                height=6, kind=\"bar\", palette=\"muted\").set(ylim=(0, 1))\n",
    "ref_plot.fig.suptitle('Schaefer Parcellation Task Classifier Accuracy with k=30 Closest FCs', y=1.02, fontsize='xx-large')\n",
    "ref_plot.fig.set_size_inches(10,5)\n",
    "plt.savefig('knn_task.eps', bbox_inches='tight', transparent=True)\n",
    "plt.show()"
   ]
  },
  {
   "cell_type": "code",
   "execution_count": null,
   "metadata": {},
   "outputs": [],
   "source": [
    "def utri2mat(utri):\n",
    "    n = int(-1 + np.sqrt(1 + 8 * len(utri))) // 2\n",
    "    iu1 = np.triu_indices(n)\n",
    "    ret = np.empty((n, n))\n",
    "    ret[iu1] = utri\n",
    "    ret.T[iu1] = utri\n",
    "    return ret"
   ]
  },
  {
   "cell_type": "code",
   "execution_count": null,
   "metadata": {},
   "outputs": [],
   "source": [
    "import pickle\n",
    "with open('../data/schaefer100.pickle', 'rb') as f:\n",
    "    all_parc = pickle.load(f)"
   ]
  },
  {
   "cell_type": "code",
   "execution_count": null,
   "metadata": {},
   "outputs": [],
   "source": [
    "plt.style.use('default')\n",
    "sampleFC = utri2mat(all_parc[0])\n",
    "plt.imshow(sampleFC,origin='lower')\n",
    "plt.colorbar()\n",
    "plt.ylabel('Brain Region')\n",
    "plt.xlabel('Brain Region')\n",
    "plt.savefig('example_FC.eps', bbox_inches='tight', transparent=True)\n",
    "plt.show()"
   ]
  },
  {
   "cell_type": "code",
   "execution_count": null,
   "metadata": {},
   "outputs": [],
   "source": [
    "schaefer_knn = pd.read_csv('schaefer_300_task_float32.csv', names=[\"Type\", \"Accuracy\"])"
   ]
  },
  {
   "cell_type": "code",
   "execution_count": null,
   "metadata": {},
   "outputs": [],
   "source": [
    "new = schaefer_knn[\"Type\"].str.rsplit(\"_\", n = 1, expand = True) \n",
    "new2 = new[0].str.split(\"_\", n = 1, expand = True) "
   ]
  },
  {
   "cell_type": "code",
   "execution_count": null,
   "metadata": {},
   "outputs": [],
   "source": [
    "schaefer_knn['Parcellation'] = new[1]\n",
    "schaefer_knn['Tangent Reference'] = new2[1]\n",
    "schaefer_knn['K'] = new2[0]\n",
    "schaefer_knn.drop(columns =[\"Type\"], inplace = True) \n",
    "#schaefer_knn['K'] = schaefer_knn['K'].replace(['5'], '30')\n",
    "schaefer_knn['K'] = schaefer_knn['K'].astype(int)"
   ]
  },
  {
   "cell_type": "code",
   "execution_count": null,
   "metadata": {},
   "outputs": [],
   "source": [
    "ref_plot = sns.catplot(x=\"Tangent Reference\", y=\"Accuracy\", hue=\"K\", data=schaefer_knn,\n",
    "                height=6, kind=\"bar\", palette=\"muted\").set(ylim=(0, 1))\n",
    "ref_plot.fig.set_size_inches(10,5)\n",
    "plt.savefig('schaefer_k.eps', bbox_inches='tight', transparent=True)\n",
    "plt.show()"
   ]
  },
  {
   "cell_type": "code",
   "execution_count": null,
   "metadata": {},
   "outputs": [],
   "source": []
  }
 ],
 "metadata": {
  "@webio": {
   "lastCommId": null,
   "lastKernelId": null
  },
  "kernelspec": {
   "display_name": "Python 3",
   "language": "python",
   "name": "python3"
  },
  "language_info": {
   "codemirror_mode": {
    "name": "ipython",
    "version": 3
   },
   "file_extension": ".py",
   "mimetype": "text/x-python",
   "name": "python",
   "nbconvert_exporter": "python",
   "pygments_lexer": "ipython3",
   "version": "3.7.6"
  }
 },
 "nbformat": 4,
 "nbformat_minor": 4
}
